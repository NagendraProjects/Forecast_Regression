{
 "cells": [
  {
   "cell_type": "code",
   "execution_count": 1,
   "id": "2878abc6",
   "metadata": {},
   "outputs": [],
   "source": [
    "import warnings\n",
    "warnings.filterwarnings('ignore',category=FutureWarning)\n",
    "import pandas as pd\n",
    "import os\n",
    "import seaborn as sns\n",
    "from sklearn.metrics import mean_absolute_error,mean_squared_error,r2_score\n",
    "import numpy as np\n",
    "import matplotlib.pyplot as plt"
   ]
  },
  {
   "cell_type": "code",
   "execution_count": 2,
   "id": "c1800c2b",
   "metadata": {},
   "outputs": [],
   "source": [
    "d1=pd.read_excel('Weekly_data.xlsx')"
   ]
  },
  {
   "cell_type": "code",
   "execution_count": 3,
   "id": "f1ccda20",
   "metadata": {},
   "outputs": [
    {
     "data": {
      "text/html": [
       "<div>\n",
       "<style scoped>\n",
       "    .dataframe tbody tr th:only-of-type {\n",
       "        vertical-align: middle;\n",
       "    }\n",
       "\n",
       "    .dataframe tbody tr th {\n",
       "        vertical-align: top;\n",
       "    }\n",
       "\n",
       "    .dataframe thead th {\n",
       "        text-align: right;\n",
       "    }\n",
       "</style>\n",
       "<table border=\"1\" class=\"dataframe\">\n",
       "  <thead>\n",
       "    <tr style=\"text-align: right;\">\n",
       "      <th></th>\n",
       "      <th>Date</th>\n",
       "      <th>Week No</th>\n",
       "      <th>Month No</th>\n",
       "      <th>Year</th>\n",
       "      <th>Purchase</th>\n",
       "      <th>Mortgage Rate</th>\n",
       "      <th>Inflation</th>\n",
       "      <th>Housing Price Index</th>\n",
       "      <th>Treasury Yield</th>\n",
       "      <th>Unemployment Rate</th>\n",
       "      <th>GDP</th>\n",
       "      <th>Business Confidence Index</th>\n",
       "      <th>Consumer Confidence Index</th>\n",
       "      <th>Initial Unemployment Claim</th>\n",
       "      <th>Disposable Income</th>\n",
       "    </tr>\n",
       "  </thead>\n",
       "  <tbody>\n",
       "    <tr>\n",
       "      <th>0</th>\n",
       "      <td>2018-12-31</td>\n",
       "      <td>1</td>\n",
       "      <td>1</td>\n",
       "      <td>2019</td>\n",
       "      <td>37.0</td>\n",
       "      <td>4.51</td>\n",
       "      <td>1.6</td>\n",
       "      <td>187.901424</td>\n",
       "      <td>1.700000</td>\n",
       "      <td>4.0</td>\n",
       "      <td>2.4</td>\n",
       "      <td>101.008462</td>\n",
       "      <td>101.0012</td>\n",
       "      <td>329495.250000</td>\n",
       "      <td>16027.8</td>\n",
       "    </tr>\n",
       "    <tr>\n",
       "      <th>1</th>\n",
       "      <td>2019-01-07</td>\n",
       "      <td>2</td>\n",
       "      <td>1</td>\n",
       "      <td>2019</td>\n",
       "      <td>50.0</td>\n",
       "      <td>4.51</td>\n",
       "      <td>1.6</td>\n",
       "      <td>187.901424</td>\n",
       "      <td>2.160000</td>\n",
       "      <td>4.0</td>\n",
       "      <td>2.4</td>\n",
       "      <td>101.008462</td>\n",
       "      <td>101.0012</td>\n",
       "      <td>348680.142857</td>\n",
       "      <td>16027.8</td>\n",
       "    </tr>\n",
       "    <tr>\n",
       "      <th>2</th>\n",
       "      <td>2019-01-14</td>\n",
       "      <td>3</td>\n",
       "      <td>1</td>\n",
       "      <td>2019</td>\n",
       "      <td>67.0</td>\n",
       "      <td>4.51</td>\n",
       "      <td>1.6</td>\n",
       "      <td>187.901424</td>\n",
       "      <td>2.195714</td>\n",
       "      <td>4.0</td>\n",
       "      <td>2.4</td>\n",
       "      <td>101.008462</td>\n",
       "      <td>101.0012</td>\n",
       "      <td>322446.857143</td>\n",
       "      <td>16027.8</td>\n",
       "    </tr>\n",
       "    <tr>\n",
       "      <th>3</th>\n",
       "      <td>2019-01-21</td>\n",
       "      <td>4</td>\n",
       "      <td>1</td>\n",
       "      <td>2019</td>\n",
       "      <td>55.0</td>\n",
       "      <td>4.51</td>\n",
       "      <td>1.6</td>\n",
       "      <td>187.901424</td>\n",
       "      <td>1.747143</td>\n",
       "      <td>4.0</td>\n",
       "      <td>2.4</td>\n",
       "      <td>101.008462</td>\n",
       "      <td>101.0012</td>\n",
       "      <td>264000.714286</td>\n",
       "      <td>16027.8</td>\n",
       "    </tr>\n",
       "    <tr>\n",
       "      <th>4</th>\n",
       "      <td>2019-01-28</td>\n",
       "      <td>5</td>\n",
       "      <td>2</td>\n",
       "      <td>2019</td>\n",
       "      <td>72.0</td>\n",
       "      <td>4.51</td>\n",
       "      <td>1.5</td>\n",
       "      <td>188.841570</td>\n",
       "      <td>2.168571</td>\n",
       "      <td>3.8</td>\n",
       "      <td>2.4</td>\n",
       "      <td>101.065220</td>\n",
       "      <td>101.0591</td>\n",
       "      <td>251632.285714</td>\n",
       "      <td>16073.8</td>\n",
       "    </tr>\n",
       "  </tbody>\n",
       "</table>\n",
       "</div>"
      ],
      "text/plain": [
       "        Date  Week No  Month No  Year  Purchase  Mortgage Rate  Inflation  \\\n",
       "0 2018-12-31        1         1  2019      37.0           4.51        1.6   \n",
       "1 2019-01-07        2         1  2019      50.0           4.51        1.6   \n",
       "2 2019-01-14        3         1  2019      67.0           4.51        1.6   \n",
       "3 2019-01-21        4         1  2019      55.0           4.51        1.6   \n",
       "4 2019-01-28        5         2  2019      72.0           4.51        1.5   \n",
       "\n",
       "   Housing Price Index  Treasury Yield  Unemployment Rate  GDP  \\\n",
       "0           187.901424        1.700000                4.0  2.4   \n",
       "1           187.901424        2.160000                4.0  2.4   \n",
       "2           187.901424        2.195714                4.0  2.4   \n",
       "3           187.901424        1.747143                4.0  2.4   \n",
       "4           188.841570        2.168571                3.8  2.4   \n",
       "\n",
       "   Business Confidence Index  Consumer Confidence Index  \\\n",
       "0                 101.008462                   101.0012   \n",
       "1                 101.008462                   101.0012   \n",
       "2                 101.008462                   101.0012   \n",
       "3                 101.008462                   101.0012   \n",
       "4                 101.065220                   101.0591   \n",
       "\n",
       "   Initial Unemployment Claim  Disposable Income  \n",
       "0               329495.250000            16027.8  \n",
       "1               348680.142857            16027.8  \n",
       "2               322446.857143            16027.8  \n",
       "3               264000.714286            16027.8  \n",
       "4               251632.285714            16073.8  "
      ]
     },
     "execution_count": 3,
     "metadata": {},
     "output_type": "execute_result"
    }
   ],
   "source": [
    "d1.head()"
   ]
  },
  {
   "cell_type": "code",
   "execution_count": 4,
   "id": "b7d7c808",
   "metadata": {},
   "outputs": [
    {
     "data": {
      "text/html": [
       "<div>\n",
       "<style scoped>\n",
       "    .dataframe tbody tr th:only-of-type {\n",
       "        vertical-align: middle;\n",
       "    }\n",
       "\n",
       "    .dataframe tbody tr th {\n",
       "        vertical-align: top;\n",
       "    }\n",
       "\n",
       "    .dataframe thead th {\n",
       "        text-align: right;\n",
       "    }\n",
       "</style>\n",
       "<table border=\"1\" class=\"dataframe\">\n",
       "  <thead>\n",
       "    <tr style=\"text-align: right;\">\n",
       "      <th></th>\n",
       "      <th>Date</th>\n",
       "      <th>Week No</th>\n",
       "      <th>Month No</th>\n",
       "      <th>Year</th>\n",
       "      <th>Purchase</th>\n",
       "      <th>Mortgage Rate</th>\n",
       "      <th>Inflation</th>\n",
       "      <th>Housing Price Index</th>\n",
       "      <th>Treasury Yield</th>\n",
       "      <th>Unemployment Rate</th>\n",
       "      <th>GDP</th>\n",
       "      <th>Business Confidence Index</th>\n",
       "      <th>Consumer Confidence Index</th>\n",
       "      <th>Initial Unemployment Claim</th>\n",
       "      <th>Disposable Income</th>\n",
       "    </tr>\n",
       "  </thead>\n",
       "  <tbody>\n",
       "    <tr>\n",
       "      <th>191</th>\n",
       "      <td>2022-08-29</td>\n",
       "      <td>35</td>\n",
       "      <td>8</td>\n",
       "      <td>2022</td>\n",
       "      <td>NaN</td>\n",
       "      <td>5.405537</td>\n",
       "      <td>9.1</td>\n",
       "      <td>274.253358</td>\n",
       "      <td>2.379681</td>\n",
       "      <td>3.6</td>\n",
       "      <td>2.5</td>\n",
       "      <td>96.600531</td>\n",
       "      <td>105.138462</td>\n",
       "      <td>213138.5625</td>\n",
       "      <td>18423.057143</td>\n",
       "    </tr>\n",
       "    <tr>\n",
       "      <th>192</th>\n",
       "      <td>2022-09-05</td>\n",
       "      <td>36</td>\n",
       "      <td>9</td>\n",
       "      <td>2022</td>\n",
       "      <td>NaN</td>\n",
       "      <td>5.405537</td>\n",
       "      <td>9.1</td>\n",
       "      <td>274.253358</td>\n",
       "      <td>2.379681</td>\n",
       "      <td>3.6</td>\n",
       "      <td>2.5</td>\n",
       "      <td>96.600531</td>\n",
       "      <td>105.138462</td>\n",
       "      <td>213138.5625</td>\n",
       "      <td>18423.057143</td>\n",
       "    </tr>\n",
       "    <tr>\n",
       "      <th>193</th>\n",
       "      <td>2022-09-12</td>\n",
       "      <td>37</td>\n",
       "      <td>9</td>\n",
       "      <td>2022</td>\n",
       "      <td>NaN</td>\n",
       "      <td>5.405537</td>\n",
       "      <td>9.1</td>\n",
       "      <td>274.253358</td>\n",
       "      <td>2.379681</td>\n",
       "      <td>3.6</td>\n",
       "      <td>2.5</td>\n",
       "      <td>96.600531</td>\n",
       "      <td>105.138462</td>\n",
       "      <td>213138.5625</td>\n",
       "      <td>18423.057143</td>\n",
       "    </tr>\n",
       "    <tr>\n",
       "      <th>194</th>\n",
       "      <td>2022-09-19</td>\n",
       "      <td>38</td>\n",
       "      <td>9</td>\n",
       "      <td>2022</td>\n",
       "      <td>NaN</td>\n",
       "      <td>5.405537</td>\n",
       "      <td>9.1</td>\n",
       "      <td>274.253358</td>\n",
       "      <td>2.379681</td>\n",
       "      <td>3.6</td>\n",
       "      <td>2.5</td>\n",
       "      <td>96.600531</td>\n",
       "      <td>105.138462</td>\n",
       "      <td>213138.5625</td>\n",
       "      <td>18423.057143</td>\n",
       "    </tr>\n",
       "    <tr>\n",
       "      <th>195</th>\n",
       "      <td>2022-09-26</td>\n",
       "      <td>39</td>\n",
       "      <td>9</td>\n",
       "      <td>2022</td>\n",
       "      <td>NaN</td>\n",
       "      <td>5.405537</td>\n",
       "      <td>9.1</td>\n",
       "      <td>274.253358</td>\n",
       "      <td>2.379681</td>\n",
       "      <td>3.6</td>\n",
       "      <td>2.5</td>\n",
       "      <td>96.600531</td>\n",
       "      <td>105.138462</td>\n",
       "      <td>213138.5625</td>\n",
       "      <td>18423.057143</td>\n",
       "    </tr>\n",
       "  </tbody>\n",
       "</table>\n",
       "</div>"
      ],
      "text/plain": [
       "          Date  Week No  Month No  Year  Purchase  Mortgage Rate  Inflation  \\\n",
       "191 2022-08-29       35         8  2022       NaN       5.405537        9.1   \n",
       "192 2022-09-05       36         9  2022       NaN       5.405537        9.1   \n",
       "193 2022-09-12       37         9  2022       NaN       5.405537        9.1   \n",
       "194 2022-09-19       38         9  2022       NaN       5.405537        9.1   \n",
       "195 2022-09-26       39         9  2022       NaN       5.405537        9.1   \n",
       "\n",
       "     Housing Price Index  Treasury Yield  Unemployment Rate  GDP  \\\n",
       "191           274.253358        2.379681                3.6  2.5   \n",
       "192           274.253358        2.379681                3.6  2.5   \n",
       "193           274.253358        2.379681                3.6  2.5   \n",
       "194           274.253358        2.379681                3.6  2.5   \n",
       "195           274.253358        2.379681                3.6  2.5   \n",
       "\n",
       "     Business Confidence Index  Consumer Confidence Index  \\\n",
       "191                  96.600531                 105.138462   \n",
       "192                  96.600531                 105.138462   \n",
       "193                  96.600531                 105.138462   \n",
       "194                  96.600531                 105.138462   \n",
       "195                  96.600531                 105.138462   \n",
       "\n",
       "     Initial Unemployment Claim  Disposable Income  \n",
       "191                 213138.5625       18423.057143  \n",
       "192                 213138.5625       18423.057143  \n",
       "193                 213138.5625       18423.057143  \n",
       "194                 213138.5625       18423.057143  \n",
       "195                 213138.5625       18423.057143  "
      ]
     },
     "execution_count": 4,
     "metadata": {},
     "output_type": "execute_result"
    }
   ],
   "source": [
    "d1.tail()"
   ]
  },
  {
   "cell_type": "code",
   "execution_count": 5,
   "id": "f8db4915",
   "metadata": {},
   "outputs": [
    {
     "name": "stdout",
     "output_type": "stream",
     "text": [
      "<class 'pandas.core.frame.DataFrame'>\n",
      "RangeIndex: 196 entries, 0 to 195\n",
      "Data columns (total 15 columns):\n",
      " #   Column                      Non-Null Count  Dtype         \n",
      "---  ------                      --------------  -----         \n",
      " 0   Date                        196 non-null    datetime64[ns]\n",
      " 1   Week No                     196 non-null    int64         \n",
      " 2   Month No                    196 non-null    int64         \n",
      " 3   Year                        196 non-null    int64         \n",
      " 4   Purchase                    187 non-null    float64       \n",
      " 5   Mortgage Rate               196 non-null    float64       \n",
      " 6   Inflation                   196 non-null    float64       \n",
      " 7   Housing Price Index         196 non-null    float64       \n",
      " 8   Treasury Yield              196 non-null    float64       \n",
      " 9   Unemployment Rate           196 non-null    float64       \n",
      " 10  GDP                         196 non-null    float64       \n",
      " 11  Business Confidence Index   196 non-null    float64       \n",
      " 12  Consumer Confidence Index   196 non-null    float64       \n",
      " 13  Initial Unemployment Claim  196 non-null    float64       \n",
      " 14  Disposable Income           196 non-null    float64       \n",
      "dtypes: datetime64[ns](1), float64(11), int64(3)\n",
      "memory usage: 23.1 KB\n"
     ]
    }
   ],
   "source": [
    "d1.info()"
   ]
  },
  {
   "cell_type": "code",
   "execution_count": 6,
   "id": "f700c1a0",
   "metadata": {},
   "outputs": [
    {
     "data": {
      "text/plain": [
       "(196, 15)"
      ]
     },
     "execution_count": 6,
     "metadata": {},
     "output_type": "execute_result"
    }
   ],
   "source": [
    "d1.shape"
   ]
  },
  {
   "cell_type": "code",
   "execution_count": 7,
   "id": "2d2b3fb4",
   "metadata": {},
   "outputs": [
    {
     "data": {
      "text/plain": [
       "Date                          datetime64[ns]\n",
       "Week No                                int64\n",
       "Month No                               int64\n",
       "Year                                   int64\n",
       "Purchase                             float64\n",
       "Mortgage Rate                        float64\n",
       "Inflation                            float64\n",
       "Housing Price Index                  float64\n",
       "Treasury Yield                       float64\n",
       "Unemployment Rate                    float64\n",
       "GDP                                  float64\n",
       "Business Confidence Index            float64\n",
       "Consumer Confidence Index            float64\n",
       "Initial Unemployment Claim           float64\n",
       "Disposable Income                    float64\n",
       "dtype: object"
      ]
     },
     "execution_count": 7,
     "metadata": {},
     "output_type": "execute_result"
    }
   ],
   "source": [
    "d1.dtypes"
   ]
  },
  {
   "cell_type": "code",
   "execution_count": 8,
   "id": "8b73d127",
   "metadata": {},
   "outputs": [],
   "source": [
    "#d1['Time']=pd.to_datetime(d1['Time'])"
   ]
  },
  {
   "cell_type": "code",
   "execution_count": 9,
   "id": "3791b070",
   "metadata": {},
   "outputs": [
    {
     "data": {
      "text/html": [
       "<div>\n",
       "<style scoped>\n",
       "    .dataframe tbody tr th:only-of-type {\n",
       "        vertical-align: middle;\n",
       "    }\n",
       "\n",
       "    .dataframe tbody tr th {\n",
       "        vertical-align: top;\n",
       "    }\n",
       "\n",
       "    .dataframe thead th {\n",
       "        text-align: right;\n",
       "    }\n",
       "</style>\n",
       "<table border=\"1\" class=\"dataframe\">\n",
       "  <thead>\n",
       "    <tr style=\"text-align: right;\">\n",
       "      <th></th>\n",
       "      <th>count</th>\n",
       "      <th>mean</th>\n",
       "      <th>std</th>\n",
       "      <th>min</th>\n",
       "      <th>25%</th>\n",
       "      <th>50%</th>\n",
       "      <th>75%</th>\n",
       "      <th>max</th>\n",
       "    </tr>\n",
       "  </thead>\n",
       "  <tbody>\n",
       "    <tr>\n",
       "      <th>Week No</th>\n",
       "      <td>196.0</td>\n",
       "      <td>25.341837</td>\n",
       "      <td>14.704979</td>\n",
       "      <td>1.000000</td>\n",
       "      <td>13.000000</td>\n",
       "      <td>25.000000</td>\n",
       "      <td>37.000000</td>\n",
       "      <td>5.300000e+01</td>\n",
       "    </tr>\n",
       "    <tr>\n",
       "      <th>Month No</th>\n",
       "      <td>196.0</td>\n",
       "      <td>6.260204</td>\n",
       "      <td>3.363248</td>\n",
       "      <td>1.000000</td>\n",
       "      <td>3.000000</td>\n",
       "      <td>6.000000</td>\n",
       "      <td>9.000000</td>\n",
       "      <td>1.200000e+01</td>\n",
       "    </tr>\n",
       "    <tr>\n",
       "      <th>Year</th>\n",
       "      <td>196.0</td>\n",
       "      <td>2020.403061</td>\n",
       "      <td>1.084053</td>\n",
       "      <td>2019.000000</td>\n",
       "      <td>2019.000000</td>\n",
       "      <td>2020.000000</td>\n",
       "      <td>2021.000000</td>\n",
       "      <td>2.022000e+03</td>\n",
       "    </tr>\n",
       "    <tr>\n",
       "      <th>Purchase</th>\n",
       "      <td>187.0</td>\n",
       "      <td>148.085561</td>\n",
       "      <td>166.392117</td>\n",
       "      <td>37.000000</td>\n",
       "      <td>85.500000</td>\n",
       "      <td>105.000000</td>\n",
       "      <td>139.000000</td>\n",
       "      <td>1.058000e+03</td>\n",
       "    </tr>\n",
       "    <tr>\n",
       "      <th>Mortgage Rate</th>\n",
       "      <td>196.0</td>\n",
       "      <td>3.616512</td>\n",
       "      <td>0.815452</td>\n",
       "      <td>2.650000</td>\n",
       "      <td>2.980000</td>\n",
       "      <td>3.450000</td>\n",
       "      <td>4.007500</td>\n",
       "      <td>5.810000e+00</td>\n",
       "    </tr>\n",
       "    <tr>\n",
       "      <th>Inflation</th>\n",
       "      <td>196.0</td>\n",
       "      <td>3.793367</td>\n",
       "      <td>2.949821</td>\n",
       "      <td>0.100000</td>\n",
       "      <td>1.500000</td>\n",
       "      <td>2.100000</td>\n",
       "      <td>6.200000</td>\n",
       "      <td>9.100000e+00</td>\n",
       "    </tr>\n",
       "    <tr>\n",
       "      <th>Housing Price Index</th>\n",
       "      <td>196.0</td>\n",
       "      <td>225.671513</td>\n",
       "      <td>30.771307</td>\n",
       "      <td>187.901424</td>\n",
       "      <td>195.660059</td>\n",
       "      <td>216.351745</td>\n",
       "      <td>252.138644</td>\n",
       "      <td>2.826939e+02</td>\n",
       "    </tr>\n",
       "    <tr>\n",
       "      <th>Treasury Yield</th>\n",
       "      <td>196.0</td>\n",
       "      <td>1.588819</td>\n",
       "      <td>0.505500</td>\n",
       "      <td>0.758571</td>\n",
       "      <td>1.153929</td>\n",
       "      <td>1.530000</td>\n",
       "      <td>1.866786</td>\n",
       "      <td>3.012000e+00</td>\n",
       "    </tr>\n",
       "    <tr>\n",
       "      <th>Unemployment Rate</th>\n",
       "      <td>196.0</td>\n",
       "      <td>5.313265</td>\n",
       "      <td>2.628040</td>\n",
       "      <td>3.500000</td>\n",
       "      <td>3.600000</td>\n",
       "      <td>4.000000</td>\n",
       "      <td>6.000000</td>\n",
       "      <td>1.470000e+01</td>\n",
       "    </tr>\n",
       "    <tr>\n",
       "      <th>GDP</th>\n",
       "      <td>196.0</td>\n",
       "      <td>2.546429</td>\n",
       "      <td>12.237166</td>\n",
       "      <td>-31.200000</td>\n",
       "      <td>1.900000</td>\n",
       "      <td>2.500000</td>\n",
       "      <td>6.300000</td>\n",
       "      <td>3.380000e+01</td>\n",
       "    </tr>\n",
       "    <tr>\n",
       "      <th>Business Confidence Index</th>\n",
       "      <td>196.0</td>\n",
       "      <td>99.226546</td>\n",
       "      <td>1.671316</td>\n",
       "      <td>96.341105</td>\n",
       "      <td>98.011703</td>\n",
       "      <td>99.103413</td>\n",
       "      <td>101.008462</td>\n",
       "      <td>1.016343e+02</td>\n",
       "    </tr>\n",
       "    <tr>\n",
       "      <th>Consumer Confidence Index</th>\n",
       "      <td>196.0</td>\n",
       "      <td>101.055386</td>\n",
       "      <td>3.135894</td>\n",
       "      <td>97.554450</td>\n",
       "      <td>98.956090</td>\n",
       "      <td>100.115000</td>\n",
       "      <td>101.462700</td>\n",
       "      <td>1.111000e+02</td>\n",
       "    </tr>\n",
       "    <tr>\n",
       "      <th>Initial Unemployment Claim</th>\n",
       "      <td>196.0</td>\n",
       "      <td>583715.577533</td>\n",
       "      <td>840307.011177</td>\n",
       "      <td>163996.857143</td>\n",
       "      <td>208874.750000</td>\n",
       "      <td>256852.500000</td>\n",
       "      <td>730816.785714</td>\n",
       "      <td>6.058725e+06</td>\n",
       "    </tr>\n",
       "    <tr>\n",
       "      <th>Disposable Income</th>\n",
       "      <td>196.0</td>\n",
       "      <td>17579.539213</td>\n",
       "      <td>1107.558524</td>\n",
       "      <td>16027.800000</td>\n",
       "      <td>16444.300000</td>\n",
       "      <td>17960.600000</td>\n",
       "      <td>18307.000000</td>\n",
       "      <td>2.169890e+04</td>\n",
       "    </tr>\n",
       "  </tbody>\n",
       "</table>\n",
       "</div>"
      ],
      "text/plain": [
       "                            count           mean            std  \\\n",
       "Week No                     196.0      25.341837      14.704979   \n",
       "Month No                    196.0       6.260204       3.363248   \n",
       "Year                        196.0    2020.403061       1.084053   \n",
       "Purchase                    187.0     148.085561     166.392117   \n",
       "Mortgage Rate               196.0       3.616512       0.815452   \n",
       "Inflation                   196.0       3.793367       2.949821   \n",
       "Housing Price Index         196.0     225.671513      30.771307   \n",
       "Treasury Yield              196.0       1.588819       0.505500   \n",
       "Unemployment Rate           196.0       5.313265       2.628040   \n",
       "GDP                         196.0       2.546429      12.237166   \n",
       "Business Confidence Index   196.0      99.226546       1.671316   \n",
       "Consumer Confidence Index   196.0     101.055386       3.135894   \n",
       "Initial Unemployment Claim  196.0  583715.577533  840307.011177   \n",
       "Disposable Income           196.0   17579.539213    1107.558524   \n",
       "\n",
       "                                      min            25%            50%  \\\n",
       "Week No                          1.000000      13.000000      25.000000   \n",
       "Month No                         1.000000       3.000000       6.000000   \n",
       "Year                          2019.000000    2019.000000    2020.000000   \n",
       "Purchase                        37.000000      85.500000     105.000000   \n",
       "Mortgage Rate                    2.650000       2.980000       3.450000   \n",
       "Inflation                        0.100000       1.500000       2.100000   \n",
       "Housing Price Index            187.901424     195.660059     216.351745   \n",
       "Treasury Yield                   0.758571       1.153929       1.530000   \n",
       "Unemployment Rate                3.500000       3.600000       4.000000   \n",
       "GDP                            -31.200000       1.900000       2.500000   \n",
       "Business Confidence Index       96.341105      98.011703      99.103413   \n",
       "Consumer Confidence Index       97.554450      98.956090     100.115000   \n",
       "Initial Unemployment Claim  163996.857143  208874.750000  256852.500000   \n",
       "Disposable Income            16027.800000   16444.300000   17960.600000   \n",
       "\n",
       "                                      75%           max  \n",
       "Week No                         37.000000  5.300000e+01  \n",
       "Month No                         9.000000  1.200000e+01  \n",
       "Year                          2021.000000  2.022000e+03  \n",
       "Purchase                       139.000000  1.058000e+03  \n",
       "Mortgage Rate                    4.007500  5.810000e+00  \n",
       "Inflation                        6.200000  9.100000e+00  \n",
       "Housing Price Index            252.138644  2.826939e+02  \n",
       "Treasury Yield                   1.866786  3.012000e+00  \n",
       "Unemployment Rate                6.000000  1.470000e+01  \n",
       "GDP                              6.300000  3.380000e+01  \n",
       "Business Confidence Index      101.008462  1.016343e+02  \n",
       "Consumer Confidence Index      101.462700  1.111000e+02  \n",
       "Initial Unemployment Claim  730816.785714  6.058725e+06  \n",
       "Disposable Income            18307.000000  2.169890e+04  "
      ]
     },
     "execution_count": 9,
     "metadata": {},
     "output_type": "execute_result"
    }
   ],
   "source": [
    "d1.describe().T"
   ]
  },
  {
   "cell_type": "code",
   "execution_count": 10,
   "id": "1ce26487",
   "metadata": {},
   "outputs": [
    {
     "data": {
      "text/html": [
       "<div>\n",
       "<style scoped>\n",
       "    .dataframe tbody tr th:only-of-type {\n",
       "        vertical-align: middle;\n",
       "    }\n",
       "\n",
       "    .dataframe tbody tr th {\n",
       "        vertical-align: top;\n",
       "    }\n",
       "\n",
       "    .dataframe thead th {\n",
       "        text-align: right;\n",
       "    }\n",
       "</style>\n",
       "<table border=\"1\" class=\"dataframe\">\n",
       "  <thead>\n",
       "    <tr style=\"text-align: right;\">\n",
       "      <th></th>\n",
       "      <th>Week No</th>\n",
       "      <th>Month No</th>\n",
       "      <th>Year</th>\n",
       "      <th>Purchase</th>\n",
       "      <th>Mortgage Rate</th>\n",
       "      <th>Inflation</th>\n",
       "      <th>Housing Price Index</th>\n",
       "      <th>Treasury Yield</th>\n",
       "      <th>Unemployment Rate</th>\n",
       "      <th>GDP</th>\n",
       "      <th>Business Confidence Index</th>\n",
       "      <th>Consumer Confidence Index</th>\n",
       "      <th>Initial Unemployment Claim</th>\n",
       "      <th>Disposable Income</th>\n",
       "    </tr>\n",
       "  </thead>\n",
       "  <tbody>\n",
       "    <tr>\n",
       "      <th>Week No</th>\n",
       "      <td>1.000000</td>\n",
       "      <td>0.996013</td>\n",
       "      <td>-0.125143</td>\n",
       "      <td>0.002079</td>\n",
       "      <td>-0.160334</td>\n",
       "      <td>0.021215</td>\n",
       "      <td>0.064587</td>\n",
       "      <td>-0.256857</td>\n",
       "      <td>0.005907</td>\n",
       "      <td>0.247300</td>\n",
       "      <td>-0.102347</td>\n",
       "      <td>-0.342595</td>\n",
       "      <td>-0.098146</td>\n",
       "      <td>-0.071128</td>\n",
       "    </tr>\n",
       "    <tr>\n",
       "      <th>Month No</th>\n",
       "      <td>0.996013</td>\n",
       "      <td>1.000000</td>\n",
       "      <td>-0.120339</td>\n",
       "      <td>0.002964</td>\n",
       "      <td>-0.164237</td>\n",
       "      <td>0.031293</td>\n",
       "      <td>0.073767</td>\n",
       "      <td>-0.252377</td>\n",
       "      <td>-0.003874</td>\n",
       "      <td>0.252448</td>\n",
       "      <td>-0.103695</td>\n",
       "      <td>-0.343919</td>\n",
       "      <td>-0.106067</td>\n",
       "      <td>-0.064760</td>\n",
       "    </tr>\n",
       "    <tr>\n",
       "      <th>Year</th>\n",
       "      <td>-0.125143</td>\n",
       "      <td>-0.120339</td>\n",
       "      <td>1.000000</td>\n",
       "      <td>0.392187</td>\n",
       "      <td>0.190500</td>\n",
       "      <td>0.842936</td>\n",
       "      <td>0.950406</td>\n",
       "      <td>0.334177</td>\n",
       "      <td>-0.074608</td>\n",
       "      <td>0.019187</td>\n",
       "      <td>-0.885019</td>\n",
       "      <td>0.403056</td>\n",
       "      <td>-0.091049</td>\n",
       "      <td>0.759452</td>\n",
       "    </tr>\n",
       "    <tr>\n",
       "      <th>Purchase</th>\n",
       "      <td>0.002079</td>\n",
       "      <td>0.002964</td>\n",
       "      <td>0.392187</td>\n",
       "      <td>1.000000</td>\n",
       "      <td>0.592774</td>\n",
       "      <td>0.495777</td>\n",
       "      <td>0.448838</td>\n",
       "      <td>0.370564</td>\n",
       "      <td>-0.163584</td>\n",
       "      <td>-0.039906</td>\n",
       "      <td>-0.428855</td>\n",
       "      <td>0.213638</td>\n",
       "      <td>-0.099411</td>\n",
       "      <td>0.194179</td>\n",
       "    </tr>\n",
       "    <tr>\n",
       "      <th>Mortgage Rate</th>\n",
       "      <td>-0.160334</td>\n",
       "      <td>-0.164237</td>\n",
       "      <td>0.190500</td>\n",
       "      <td>0.592774</td>\n",
       "      <td>1.000000</td>\n",
       "      <td>0.490071</td>\n",
       "      <td>0.287494</td>\n",
       "      <td>0.789341</td>\n",
       "      <td>-0.440933</td>\n",
       "      <td>-0.116036</td>\n",
       "      <td>-0.224813</td>\n",
       "      <td>0.581494</td>\n",
       "      <td>-0.254045</td>\n",
       "      <td>-0.108988</td>\n",
       "    </tr>\n",
       "    <tr>\n",
       "      <th>Inflation</th>\n",
       "      <td>0.021215</td>\n",
       "      <td>0.031293</td>\n",
       "      <td>0.842936</td>\n",
       "      <td>0.495777</td>\n",
       "      <td>0.490071</td>\n",
       "      <td>1.000000</td>\n",
       "      <td>0.937006</td>\n",
       "      <td>0.606853</td>\n",
       "      <td>-0.465137</td>\n",
       "      <td>0.067358</td>\n",
       "      <td>-0.743170</td>\n",
       "      <td>0.551256</td>\n",
       "      <td>-0.398860</td>\n",
       "      <td>0.464268</td>\n",
       "    </tr>\n",
       "    <tr>\n",
       "      <th>Housing Price Index</th>\n",
       "      <td>0.064587</td>\n",
       "      <td>0.073767</td>\n",
       "      <td>0.950406</td>\n",
       "      <td>0.448838</td>\n",
       "      <td>0.287494</td>\n",
       "      <td>0.937006</td>\n",
       "      <td>1.000000</td>\n",
       "      <td>0.437291</td>\n",
       "      <td>-0.222089</td>\n",
       "      <td>0.082698</td>\n",
       "      <td>-0.888370</td>\n",
       "      <td>0.429481</td>\n",
       "      <td>-0.230664</td>\n",
       "      <td>0.666582</td>\n",
       "    </tr>\n",
       "    <tr>\n",
       "      <th>Treasury Yield</th>\n",
       "      <td>-0.256857</td>\n",
       "      <td>-0.252377</td>\n",
       "      <td>0.334177</td>\n",
       "      <td>0.370564</td>\n",
       "      <td>0.789341</td>\n",
       "      <td>0.606853</td>\n",
       "      <td>0.437291</td>\n",
       "      <td>1.000000</td>\n",
       "      <td>-0.609909</td>\n",
       "      <td>-0.002307</td>\n",
       "      <td>-0.230718</td>\n",
       "      <td>0.712004</td>\n",
       "      <td>-0.475069</td>\n",
       "      <td>0.015846</td>\n",
       "    </tr>\n",
       "    <tr>\n",
       "      <th>Unemployment Rate</th>\n",
       "      <td>0.005907</td>\n",
       "      <td>-0.003874</td>\n",
       "      <td>-0.074608</td>\n",
       "      <td>-0.163584</td>\n",
       "      <td>-0.440933</td>\n",
       "      <td>-0.465137</td>\n",
       "      <td>-0.222089</td>\n",
       "      <td>-0.609909</td>\n",
       "      <td>1.000000</td>\n",
       "      <td>-0.265347</td>\n",
       "      <td>-0.127367</td>\n",
       "      <td>-0.442816</td>\n",
       "      <td>0.841326</td>\n",
       "      <td>0.310989</td>\n",
       "    </tr>\n",
       "    <tr>\n",
       "      <th>GDP</th>\n",
       "      <td>0.247300</td>\n",
       "      <td>0.252448</td>\n",
       "      <td>0.019187</td>\n",
       "      <td>-0.039906</td>\n",
       "      <td>-0.116036</td>\n",
       "      <td>0.067358</td>\n",
       "      <td>0.082698</td>\n",
       "      <td>-0.002307</td>\n",
       "      <td>-0.265347</td>\n",
       "      <td>1.000000</td>\n",
       "      <td>-0.023461</td>\n",
       "      <td>-0.092212</td>\n",
       "      <td>-0.421846</td>\n",
       "      <td>-0.034983</td>\n",
       "    </tr>\n",
       "    <tr>\n",
       "      <th>Business Confidence Index</th>\n",
       "      <td>-0.102347</td>\n",
       "      <td>-0.103695</td>\n",
       "      <td>-0.885019</td>\n",
       "      <td>-0.428855</td>\n",
       "      <td>-0.224813</td>\n",
       "      <td>-0.743170</td>\n",
       "      <td>-0.888370</td>\n",
       "      <td>-0.230718</td>\n",
       "      <td>-0.127367</td>\n",
       "      <td>-0.023461</td>\n",
       "      <td>1.000000</td>\n",
       "      <td>-0.315431</td>\n",
       "      <td>-0.055042</td>\n",
       "      <td>-0.693246</td>\n",
       "    </tr>\n",
       "    <tr>\n",
       "      <th>Consumer Confidence Index</th>\n",
       "      <td>-0.342595</td>\n",
       "      <td>-0.343919</td>\n",
       "      <td>0.403056</td>\n",
       "      <td>0.213638</td>\n",
       "      <td>0.581494</td>\n",
       "      <td>0.551256</td>\n",
       "      <td>0.429481</td>\n",
       "      <td>0.712004</td>\n",
       "      <td>-0.442816</td>\n",
       "      <td>-0.092212</td>\n",
       "      <td>-0.315431</td>\n",
       "      <td>1.000000</td>\n",
       "      <td>-0.300794</td>\n",
       "      <td>0.032534</td>\n",
       "    </tr>\n",
       "    <tr>\n",
       "      <th>Initial Unemployment Claim</th>\n",
       "      <td>-0.098146</td>\n",
       "      <td>-0.106067</td>\n",
       "      <td>-0.091049</td>\n",
       "      <td>-0.099411</td>\n",
       "      <td>-0.254045</td>\n",
       "      <td>-0.398860</td>\n",
       "      <td>-0.230664</td>\n",
       "      <td>-0.475069</td>\n",
       "      <td>0.841326</td>\n",
       "      <td>-0.421846</td>\n",
       "      <td>-0.055042</td>\n",
       "      <td>-0.300794</td>\n",
       "      <td>1.000000</td>\n",
       "      <td>0.246038</td>\n",
       "    </tr>\n",
       "    <tr>\n",
       "      <th>Disposable Income</th>\n",
       "      <td>-0.071128</td>\n",
       "      <td>-0.064760</td>\n",
       "      <td>0.759452</td>\n",
       "      <td>0.194179</td>\n",
       "      <td>-0.108988</td>\n",
       "      <td>0.464268</td>\n",
       "      <td>0.666582</td>\n",
       "      <td>0.015846</td>\n",
       "      <td>0.310989</td>\n",
       "      <td>-0.034983</td>\n",
       "      <td>-0.693246</td>\n",
       "      <td>0.032534</td>\n",
       "      <td>0.246038</td>\n",
       "      <td>1.000000</td>\n",
       "    </tr>\n",
       "  </tbody>\n",
       "</table>\n",
       "</div>"
      ],
      "text/plain": [
       "                             Week No  Month No      Year  Purchase  \\\n",
       "Week No                     1.000000  0.996013 -0.125143  0.002079   \n",
       "Month No                    0.996013  1.000000 -0.120339  0.002964   \n",
       "Year                       -0.125143 -0.120339  1.000000  0.392187   \n",
       "Purchase                    0.002079  0.002964  0.392187  1.000000   \n",
       "Mortgage Rate              -0.160334 -0.164237  0.190500  0.592774   \n",
       "Inflation                   0.021215  0.031293  0.842936  0.495777   \n",
       "Housing Price Index         0.064587  0.073767  0.950406  0.448838   \n",
       "Treasury Yield             -0.256857 -0.252377  0.334177  0.370564   \n",
       "Unemployment Rate           0.005907 -0.003874 -0.074608 -0.163584   \n",
       "GDP                         0.247300  0.252448  0.019187 -0.039906   \n",
       "Business Confidence Index  -0.102347 -0.103695 -0.885019 -0.428855   \n",
       "Consumer Confidence Index  -0.342595 -0.343919  0.403056  0.213638   \n",
       "Initial Unemployment Claim -0.098146 -0.106067 -0.091049 -0.099411   \n",
       "Disposable Income          -0.071128 -0.064760  0.759452  0.194179   \n",
       "\n",
       "                            Mortgage Rate  Inflation  Housing Price Index  \\\n",
       "Week No                         -0.160334   0.021215             0.064587   \n",
       "Month No                        -0.164237   0.031293             0.073767   \n",
       "Year                             0.190500   0.842936             0.950406   \n",
       "Purchase                         0.592774   0.495777             0.448838   \n",
       "Mortgage Rate                    1.000000   0.490071             0.287494   \n",
       "Inflation                        0.490071   1.000000             0.937006   \n",
       "Housing Price Index              0.287494   0.937006             1.000000   \n",
       "Treasury Yield                   0.789341   0.606853             0.437291   \n",
       "Unemployment Rate               -0.440933  -0.465137            -0.222089   \n",
       "GDP                             -0.116036   0.067358             0.082698   \n",
       "Business Confidence Index       -0.224813  -0.743170            -0.888370   \n",
       "Consumer Confidence Index        0.581494   0.551256             0.429481   \n",
       "Initial Unemployment Claim      -0.254045  -0.398860            -0.230664   \n",
       "Disposable Income               -0.108988   0.464268             0.666582   \n",
       "\n",
       "                            Treasury Yield  Unemployment Rate       GDP  \\\n",
       "Week No                          -0.256857           0.005907  0.247300   \n",
       "Month No                         -0.252377          -0.003874  0.252448   \n",
       "Year                              0.334177          -0.074608  0.019187   \n",
       "Purchase                          0.370564          -0.163584 -0.039906   \n",
       "Mortgage Rate                     0.789341          -0.440933 -0.116036   \n",
       "Inflation                         0.606853          -0.465137  0.067358   \n",
       "Housing Price Index               0.437291          -0.222089  0.082698   \n",
       "Treasury Yield                    1.000000          -0.609909 -0.002307   \n",
       "Unemployment Rate                -0.609909           1.000000 -0.265347   \n",
       "GDP                              -0.002307          -0.265347  1.000000   \n",
       "Business Confidence Index        -0.230718          -0.127367 -0.023461   \n",
       "Consumer Confidence Index         0.712004          -0.442816 -0.092212   \n",
       "Initial Unemployment Claim       -0.475069           0.841326 -0.421846   \n",
       "Disposable Income                 0.015846           0.310989 -0.034983   \n",
       "\n",
       "                            Business Confidence Index  \\\n",
       "Week No                                     -0.102347   \n",
       "Month No                                    -0.103695   \n",
       "Year                                        -0.885019   \n",
       "Purchase                                    -0.428855   \n",
       "Mortgage Rate                               -0.224813   \n",
       "Inflation                                   -0.743170   \n",
       "Housing Price Index                         -0.888370   \n",
       "Treasury Yield                              -0.230718   \n",
       "Unemployment Rate                           -0.127367   \n",
       "GDP                                         -0.023461   \n",
       "Business Confidence Index                    1.000000   \n",
       "Consumer Confidence Index                   -0.315431   \n",
       "Initial Unemployment Claim                  -0.055042   \n",
       "Disposable Income                           -0.693246   \n",
       "\n",
       "                            Consumer Confidence Index  \\\n",
       "Week No                                     -0.342595   \n",
       "Month No                                    -0.343919   \n",
       "Year                                         0.403056   \n",
       "Purchase                                     0.213638   \n",
       "Mortgage Rate                                0.581494   \n",
       "Inflation                                    0.551256   \n",
       "Housing Price Index                          0.429481   \n",
       "Treasury Yield                               0.712004   \n",
       "Unemployment Rate                           -0.442816   \n",
       "GDP                                         -0.092212   \n",
       "Business Confidence Index                   -0.315431   \n",
       "Consumer Confidence Index                    1.000000   \n",
       "Initial Unemployment Claim                  -0.300794   \n",
       "Disposable Income                            0.032534   \n",
       "\n",
       "                            Initial Unemployment Claim  Disposable Income  \n",
       "Week No                                      -0.098146          -0.071128  \n",
       "Month No                                     -0.106067          -0.064760  \n",
       "Year                                         -0.091049           0.759452  \n",
       "Purchase                                     -0.099411           0.194179  \n",
       "Mortgage Rate                                -0.254045          -0.108988  \n",
       "Inflation                                    -0.398860           0.464268  \n",
       "Housing Price Index                          -0.230664           0.666582  \n",
       "Treasury Yield                               -0.475069           0.015846  \n",
       "Unemployment Rate                             0.841326           0.310989  \n",
       "GDP                                          -0.421846          -0.034983  \n",
       "Business Confidence Index                    -0.055042          -0.693246  \n",
       "Consumer Confidence Index                    -0.300794           0.032534  \n",
       "Initial Unemployment Claim                    1.000000           0.246038  \n",
       "Disposable Income                             0.246038           1.000000  "
      ]
     },
     "execution_count": 10,
     "metadata": {},
     "output_type": "execute_result"
    }
   ],
   "source": [
    "d1.corr()"
   ]
  },
  {
   "cell_type": "code",
   "execution_count": 11,
   "id": "2265e7e8",
   "metadata": {},
   "outputs": [
    {
     "data": {
      "text/plain": [
       "Date                          0\n",
       "Week No                       0\n",
       "Month No                      0\n",
       "Year                          0\n",
       "Purchase                      9\n",
       "Mortgage Rate                 0\n",
       "Inflation                     0\n",
       "Housing Price Index           0\n",
       "Treasury Yield                0\n",
       "Unemployment Rate             0\n",
       "GDP                           0\n",
       "Business Confidence Index     0\n",
       "Consumer Confidence Index     0\n",
       "Initial Unemployment Claim    0\n",
       "Disposable Income             0\n",
       "dtype: int64"
      ]
     },
     "execution_count": 11,
     "metadata": {},
     "output_type": "execute_result"
    }
   ],
   "source": [
    "d1.isnull().sum()"
   ]
  },
  {
   "cell_type": "code",
   "execution_count": 12,
   "id": "88a4c67d",
   "metadata": {},
   "outputs": [],
   "source": [
    "future_data  = d1[d1['Purchase'].isna()]"
   ]
  },
  {
   "cell_type": "code",
   "execution_count": 13,
   "id": "f9b0f6f2",
   "metadata": {},
   "outputs": [
    {
     "data": {
      "text/html": [
       "<div>\n",
       "<style scoped>\n",
       "    .dataframe tbody tr th:only-of-type {\n",
       "        vertical-align: middle;\n",
       "    }\n",
       "\n",
       "    .dataframe tbody tr th {\n",
       "        vertical-align: top;\n",
       "    }\n",
       "\n",
       "    .dataframe thead th {\n",
       "        text-align: right;\n",
       "    }\n",
       "</style>\n",
       "<table border=\"1\" class=\"dataframe\">\n",
       "  <thead>\n",
       "    <tr style=\"text-align: right;\">\n",
       "      <th></th>\n",
       "      <th>Date</th>\n",
       "      <th>Week No</th>\n",
       "      <th>Month No</th>\n",
       "      <th>Year</th>\n",
       "      <th>Purchase</th>\n",
       "      <th>Mortgage Rate</th>\n",
       "      <th>Inflation</th>\n",
       "      <th>Housing Price Index</th>\n",
       "      <th>Treasury Yield</th>\n",
       "      <th>Unemployment Rate</th>\n",
       "      <th>GDP</th>\n",
       "      <th>Business Confidence Index</th>\n",
       "      <th>Consumer Confidence Index</th>\n",
       "      <th>Initial Unemployment Claim</th>\n",
       "      <th>Disposable Income</th>\n",
       "    </tr>\n",
       "  </thead>\n",
       "  <tbody>\n",
       "    <tr>\n",
       "      <th>187</th>\n",
       "      <td>2022-08-01</td>\n",
       "      <td>31</td>\n",
       "      <td>8</td>\n",
       "      <td>2022</td>\n",
       "      <td>NaN</td>\n",
       "      <td>5.405537</td>\n",
       "      <td>9.1</td>\n",
       "      <td>274.253358</td>\n",
       "      <td>2.379681</td>\n",
       "      <td>3.6</td>\n",
       "      <td>2.5</td>\n",
       "      <td>96.600531</td>\n",
       "      <td>105.138462</td>\n",
       "      <td>213138.5625</td>\n",
       "      <td>18423.057143</td>\n",
       "    </tr>\n",
       "    <tr>\n",
       "      <th>188</th>\n",
       "      <td>2022-08-08</td>\n",
       "      <td>32</td>\n",
       "      <td>8</td>\n",
       "      <td>2022</td>\n",
       "      <td>NaN</td>\n",
       "      <td>5.405537</td>\n",
       "      <td>9.1</td>\n",
       "      <td>274.253358</td>\n",
       "      <td>2.379681</td>\n",
       "      <td>3.6</td>\n",
       "      <td>2.5</td>\n",
       "      <td>96.600531</td>\n",
       "      <td>105.138462</td>\n",
       "      <td>213138.5625</td>\n",
       "      <td>18423.057143</td>\n",
       "    </tr>\n",
       "  </tbody>\n",
       "</table>\n",
       "</div>"
      ],
      "text/plain": [
       "          Date  Week No  Month No  Year  Purchase  Mortgage Rate  Inflation  \\\n",
       "187 2022-08-01       31         8  2022       NaN       5.405537        9.1   \n",
       "188 2022-08-08       32         8  2022       NaN       5.405537        9.1   \n",
       "\n",
       "     Housing Price Index  Treasury Yield  Unemployment Rate  GDP  \\\n",
       "187           274.253358        2.379681                3.6  2.5   \n",
       "188           274.253358        2.379681                3.6  2.5   \n",
       "\n",
       "     Business Confidence Index  Consumer Confidence Index  \\\n",
       "187                  96.600531                 105.138462   \n",
       "188                  96.600531                 105.138462   \n",
       "\n",
       "     Initial Unemployment Claim  Disposable Income  \n",
       "187                 213138.5625       18423.057143  \n",
       "188                 213138.5625       18423.057143  "
      ]
     },
     "execution_count": 13,
     "metadata": {},
     "output_type": "execute_result"
    }
   ],
   "source": [
    "future_data.head(2)"
   ]
  },
  {
   "cell_type": "code",
   "execution_count": 14,
   "id": "cb37a644",
   "metadata": {},
   "outputs": [],
   "source": [
    "base_data = d1[~d1['Purchase'].isna()]"
   ]
  },
  {
   "cell_type": "code",
   "execution_count": 15,
   "id": "ddd0d4a1",
   "metadata": {},
   "outputs": [
    {
     "data": {
      "text/html": [
       "<div>\n",
       "<style scoped>\n",
       "    .dataframe tbody tr th:only-of-type {\n",
       "        vertical-align: middle;\n",
       "    }\n",
       "\n",
       "    .dataframe tbody tr th {\n",
       "        vertical-align: top;\n",
       "    }\n",
       "\n",
       "    .dataframe thead th {\n",
       "        text-align: right;\n",
       "    }\n",
       "</style>\n",
       "<table border=\"1\" class=\"dataframe\">\n",
       "  <thead>\n",
       "    <tr style=\"text-align: right;\">\n",
       "      <th></th>\n",
       "      <th>Date</th>\n",
       "      <th>Week No</th>\n",
       "      <th>Month No</th>\n",
       "      <th>Year</th>\n",
       "      <th>Purchase</th>\n",
       "      <th>Mortgage Rate</th>\n",
       "      <th>Inflation</th>\n",
       "      <th>Housing Price Index</th>\n",
       "      <th>Treasury Yield</th>\n",
       "      <th>Unemployment Rate</th>\n",
       "      <th>GDP</th>\n",
       "      <th>Business Confidence Index</th>\n",
       "      <th>Consumer Confidence Index</th>\n",
       "      <th>Initial Unemployment Claim</th>\n",
       "      <th>Disposable Income</th>\n",
       "    </tr>\n",
       "  </thead>\n",
       "  <tbody>\n",
       "    <tr>\n",
       "      <th>0</th>\n",
       "      <td>2018-12-31</td>\n",
       "      <td>1</td>\n",
       "      <td>1</td>\n",
       "      <td>2019</td>\n",
       "      <td>37.0</td>\n",
       "      <td>4.51</td>\n",
       "      <td>1.6</td>\n",
       "      <td>187.901424</td>\n",
       "      <td>1.70</td>\n",
       "      <td>4.0</td>\n",
       "      <td>2.4</td>\n",
       "      <td>101.008462</td>\n",
       "      <td>101.0012</td>\n",
       "      <td>329495.250000</td>\n",
       "      <td>16027.8</td>\n",
       "    </tr>\n",
       "    <tr>\n",
       "      <th>1</th>\n",
       "      <td>2019-01-07</td>\n",
       "      <td>2</td>\n",
       "      <td>1</td>\n",
       "      <td>2019</td>\n",
       "      <td>50.0</td>\n",
       "      <td>4.51</td>\n",
       "      <td>1.6</td>\n",
       "      <td>187.901424</td>\n",
       "      <td>2.16</td>\n",
       "      <td>4.0</td>\n",
       "      <td>2.4</td>\n",
       "      <td>101.008462</td>\n",
       "      <td>101.0012</td>\n",
       "      <td>348680.142857</td>\n",
       "      <td>16027.8</td>\n",
       "    </tr>\n",
       "  </tbody>\n",
       "</table>\n",
       "</div>"
      ],
      "text/plain": [
       "        Date  Week No  Month No  Year  Purchase  Mortgage Rate  Inflation  \\\n",
       "0 2018-12-31        1         1  2019      37.0           4.51        1.6   \n",
       "1 2019-01-07        2         1  2019      50.0           4.51        1.6   \n",
       "\n",
       "   Housing Price Index  Treasury Yield  Unemployment Rate  GDP  \\\n",
       "0           187.901424            1.70                4.0  2.4   \n",
       "1           187.901424            2.16                4.0  2.4   \n",
       "\n",
       "   Business Confidence Index  Consumer Confidence Index  \\\n",
       "0                 101.008462                   101.0012   \n",
       "1                 101.008462                   101.0012   \n",
       "\n",
       "   Initial Unemployment Claim  Disposable Income  \n",
       "0               329495.250000            16027.8  \n",
       "1               348680.142857            16027.8  "
      ]
     },
     "execution_count": 15,
     "metadata": {},
     "output_type": "execute_result"
    }
   ],
   "source": [
    "base_data.head(2)"
   ]
  },
  {
   "cell_type": "code",
   "execution_count": 16,
   "id": "489806cb",
   "metadata": {},
   "outputs": [
    {
     "data": {
      "text/html": [
       "<div>\n",
       "<style scoped>\n",
       "    .dataframe tbody tr th:only-of-type {\n",
       "        vertical-align: middle;\n",
       "    }\n",
       "\n",
       "    .dataframe tbody tr th {\n",
       "        vertical-align: top;\n",
       "    }\n",
       "\n",
       "    .dataframe thead th {\n",
       "        text-align: right;\n",
       "    }\n",
       "</style>\n",
       "<table border=\"1\" class=\"dataframe\">\n",
       "  <thead>\n",
       "    <tr style=\"text-align: right;\">\n",
       "      <th></th>\n",
       "      <th>Date</th>\n",
       "      <th>Week No</th>\n",
       "      <th>Month No</th>\n",
       "      <th>Year</th>\n",
       "      <th>Purchase</th>\n",
       "      <th>Mortgage Rate</th>\n",
       "      <th>Inflation</th>\n",
       "      <th>Housing Price Index</th>\n",
       "      <th>Treasury Yield</th>\n",
       "      <th>Unemployment Rate</th>\n",
       "      <th>GDP</th>\n",
       "      <th>Business Confidence Index</th>\n",
       "      <th>Consumer Confidence Index</th>\n",
       "      <th>Initial Unemployment Claim</th>\n",
       "      <th>Disposable Income</th>\n",
       "    </tr>\n",
       "  </thead>\n",
       "  <tbody>\n",
       "    <tr>\n",
       "      <th>185</th>\n",
       "      <td>2022-07-18</td>\n",
       "      <td>29</td>\n",
       "      <td>7</td>\n",
       "      <td>2022</td>\n",
       "      <td>805.0</td>\n",
       "      <td>5.380909</td>\n",
       "      <td>9.1</td>\n",
       "      <td>274.253358</td>\n",
       "      <td>2.414167</td>\n",
       "      <td>3.6</td>\n",
       "      <td>2.5</td>\n",
       "      <td>96.600531</td>\n",
       "      <td>105.138462</td>\n",
       "      <td>212281.7500</td>\n",
       "      <td>18423.057143</td>\n",
       "    </tr>\n",
       "    <tr>\n",
       "      <th>186</th>\n",
       "      <td>2022-07-25</td>\n",
       "      <td>30</td>\n",
       "      <td>7</td>\n",
       "      <td>2022</td>\n",
       "      <td>891.0</td>\n",
       "      <td>5.405537</td>\n",
       "      <td>9.1</td>\n",
       "      <td>274.253358</td>\n",
       "      <td>2.379681</td>\n",
       "      <td>3.6</td>\n",
       "      <td>2.5</td>\n",
       "      <td>96.600531</td>\n",
       "      <td>105.138462</td>\n",
       "      <td>213138.5625</td>\n",
       "      <td>18423.057143</td>\n",
       "    </tr>\n",
       "  </tbody>\n",
       "</table>\n",
       "</div>"
      ],
      "text/plain": [
       "          Date  Week No  Month No  Year  Purchase  Mortgage Rate  Inflation  \\\n",
       "185 2022-07-18       29         7  2022     805.0       5.380909        9.1   \n",
       "186 2022-07-25       30         7  2022     891.0       5.405537        9.1   \n",
       "\n",
       "     Housing Price Index  Treasury Yield  Unemployment Rate  GDP  \\\n",
       "185           274.253358        2.414167                3.6  2.5   \n",
       "186           274.253358        2.379681                3.6  2.5   \n",
       "\n",
       "     Business Confidence Index  Consumer Confidence Index  \\\n",
       "185                  96.600531                 105.138462   \n",
       "186                  96.600531                 105.138462   \n",
       "\n",
       "     Initial Unemployment Claim  Disposable Income  \n",
       "185                 212281.7500       18423.057143  \n",
       "186                 213138.5625       18423.057143  "
      ]
     },
     "execution_count": 16,
     "metadata": {},
     "output_type": "execute_result"
    }
   ],
   "source": [
    "base_data.tail(2)"
   ]
  },
  {
   "cell_type": "code",
   "execution_count": 17,
   "id": "887ac929",
   "metadata": {},
   "outputs": [
    {
     "data": {
      "text/plain": [
       "Date                          0\n",
       "Week No                       0\n",
       "Month No                      0\n",
       "Year                          0\n",
       "Purchase                      0\n",
       "Mortgage Rate                 0\n",
       "Inflation                     0\n",
       "Housing Price Index           0\n",
       "Treasury Yield                0\n",
       "Unemployment Rate             0\n",
       "GDP                           0\n",
       "Business Confidence Index     0\n",
       "Consumer Confidence Index     0\n",
       "Initial Unemployment Claim    0\n",
       "Disposable Income             0\n",
       "dtype: int64"
      ]
     },
     "execution_count": 17,
     "metadata": {},
     "output_type": "execute_result"
    }
   ],
   "source": [
    "base_data.isna().sum()"
   ]
  },
  {
   "cell_type": "code",
   "execution_count": 18,
   "id": "77df5465",
   "metadata": {},
   "outputs": [],
   "source": [
    "base_data=base_data.drop('Date',axis=1)"
   ]
  },
  {
   "cell_type": "code",
   "execution_count": 19,
   "id": "d0cd2161",
   "metadata": {},
   "outputs": [],
   "source": [
    "x=base_data.drop('Purchase',axis=1)\n",
    "y=base_data['Purchase']"
   ]
  },
  {
   "cell_type": "code",
   "execution_count": 20,
   "id": "e6ad39dd",
   "metadata": {},
   "outputs": [
    {
     "data": {
      "text/html": [
       "<div>\n",
       "<style scoped>\n",
       "    .dataframe tbody tr th:only-of-type {\n",
       "        vertical-align: middle;\n",
       "    }\n",
       "\n",
       "    .dataframe tbody tr th {\n",
       "        vertical-align: top;\n",
       "    }\n",
       "\n",
       "    .dataframe thead th {\n",
       "        text-align: right;\n",
       "    }\n",
       "</style>\n",
       "<table border=\"1\" class=\"dataframe\">\n",
       "  <thead>\n",
       "    <tr style=\"text-align: right;\">\n",
       "      <th></th>\n",
       "      <th>Week No</th>\n",
       "      <th>Month No</th>\n",
       "      <th>Year</th>\n",
       "      <th>Mortgage Rate</th>\n",
       "      <th>Inflation</th>\n",
       "      <th>Housing Price Index</th>\n",
       "      <th>Treasury Yield</th>\n",
       "      <th>Unemployment Rate</th>\n",
       "      <th>GDP</th>\n",
       "      <th>Business Confidence Index</th>\n",
       "      <th>Consumer Confidence Index</th>\n",
       "      <th>Initial Unemployment Claim</th>\n",
       "      <th>Disposable Income</th>\n",
       "    </tr>\n",
       "  </thead>\n",
       "  <tbody>\n",
       "    <tr>\n",
       "      <th>0</th>\n",
       "      <td>1</td>\n",
       "      <td>1</td>\n",
       "      <td>2019</td>\n",
       "      <td>4.51</td>\n",
       "      <td>1.6</td>\n",
       "      <td>187.901424</td>\n",
       "      <td>1.70</td>\n",
       "      <td>4.0</td>\n",
       "      <td>2.4</td>\n",
       "      <td>101.008462</td>\n",
       "      <td>101.0012</td>\n",
       "      <td>329495.250000</td>\n",
       "      <td>16027.8</td>\n",
       "    </tr>\n",
       "    <tr>\n",
       "      <th>1</th>\n",
       "      <td>2</td>\n",
       "      <td>1</td>\n",
       "      <td>2019</td>\n",
       "      <td>4.51</td>\n",
       "      <td>1.6</td>\n",
       "      <td>187.901424</td>\n",
       "      <td>2.16</td>\n",
       "      <td>4.0</td>\n",
       "      <td>2.4</td>\n",
       "      <td>101.008462</td>\n",
       "      <td>101.0012</td>\n",
       "      <td>348680.142857</td>\n",
       "      <td>16027.8</td>\n",
       "    </tr>\n",
       "  </tbody>\n",
       "</table>\n",
       "</div>"
      ],
      "text/plain": [
       "   Week No  Month No  Year  Mortgage Rate  Inflation  Housing Price Index  \\\n",
       "0        1         1  2019           4.51        1.6           187.901424   \n",
       "1        2         1  2019           4.51        1.6           187.901424   \n",
       "\n",
       "   Treasury Yield  Unemployment Rate  GDP  Business Confidence Index  \\\n",
       "0            1.70                4.0  2.4                 101.008462   \n",
       "1            2.16                4.0  2.4                 101.008462   \n",
       "\n",
       "   Consumer Confidence Index  Initial Unemployment Claim  Disposable Income  \n",
       "0                   101.0012               329495.250000            16027.8  \n",
       "1                   101.0012               348680.142857            16027.8  "
      ]
     },
     "execution_count": 20,
     "metadata": {},
     "output_type": "execute_result"
    }
   ],
   "source": [
    "x.head(2)"
   ]
  },
  {
   "cell_type": "code",
   "execution_count": 21,
   "id": "6bf70600",
   "metadata": {},
   "outputs": [
    {
     "data": {
      "text/plain": [
       "0    37.0\n",
       "1    50.0\n",
       "Name: Purchase, dtype: float64"
      ]
     },
     "execution_count": 21,
     "metadata": {},
     "output_type": "execute_result"
    }
   ],
   "source": [
    "y.head(2)"
   ]
  },
  {
   "cell_type": "code",
   "execution_count": 22,
   "id": "3c9c4711",
   "metadata": {},
   "outputs": [],
   "source": [
    "from sklearn.model_selection import train_test_split\n",
    "X_train,X_test,y_train,y_test=train_test_split(x,y,test_size=0.10,random_state=24)"
   ]
  },
  {
   "cell_type": "code",
   "execution_count": 23,
   "id": "86634b53",
   "metadata": {},
   "outputs": [
    {
     "name": "stdout",
     "output_type": "stream",
     "text": [
      "(168, 13) (19, 13) (168,) (19,)\n"
     ]
    }
   ],
   "source": [
    "print(X_train.shape,X_test.shape,y_train.shape,y_test.shape)"
   ]
  },
  {
   "cell_type": "code",
   "execution_count": 24,
   "id": "cb880bd0",
   "metadata": {},
   "outputs": [
    {
     "data": {
      "text/plain": [
       "array([111.20470407, 113.86336858, 144.52597473, 110.91871367,\n",
       "       -14.86262162, 188.50274106,  79.36268154,  72.19895829,\n",
       "       148.32706267, 530.78015044, 112.82633487,  94.29647034,\n",
       "       308.15551514, 313.93053213, 529.91228042, 151.5144736 ,\n",
       "        42.60900224, 124.08221225, 530.93928252])"
      ]
     },
     "execution_count": 24,
     "metadata": {},
     "output_type": "execute_result"
    }
   ],
   "source": [
    "from sklearn.linear_model import LinearRegression\n",
    "ln=LinearRegression()\n",
    "ln.fit(X_train,y_train)\n",
    "ln.predict(X_test)"
   ]
  },
  {
   "cell_type": "code",
   "execution_count": 25,
   "id": "1097fdc3",
   "metadata": {},
   "outputs": [
    {
     "data": {
      "text/plain": [
       "1757.7242669522238"
      ]
     },
     "execution_count": 25,
     "metadata": {},
     "output_type": "execute_result"
    }
   ],
   "source": [
    "abs(y_test.values-ln.predict(X_test)).sum()"
   ]
  },
  {
   "cell_type": "code",
   "execution_count": 26,
   "id": "0b2c8008",
   "metadata": {},
   "outputs": [
    {
     "name": "stderr",
     "output_type": "stream",
     "text": [
      "C:\\Users\\gn221m\\Anaconda3\\lib\\site-packages\\sklearn\\linear_model\\_coordinate_descent.py:648: ConvergenceWarning: Objective did not converge. You might want to increase the number of iterations, check the scale of the features or consider increasing regularisation. Duality gap: 7.097e+02, tolerance: 3.847e+02\n",
      "  coef_, l1_reg, l2_reg, X, y, max_iter, tol, rng, random, positive\n"
     ]
    },
    {
     "data": {
      "text/plain": [
       "1791.521741069766"
      ]
     },
     "execution_count": 26,
     "metadata": {},
     "output_type": "execute_result"
    }
   ],
   "source": [
    "from sklearn.linear_model import Lasso\n",
    "ls=Lasso()\n",
    "ls.fit(X_train,y_train)\n",
    "ls.predict(X_test)\n",
    "\n",
    "abs(y_test.values-ls.predict(X_test)).sum()"
   ]
  },
  {
   "cell_type": "code",
   "execution_count": 27,
   "id": "4a70467f",
   "metadata": {},
   "outputs": [
    {
     "data": {
      "text/plain": [
       "1794.1416325934406"
      ]
     },
     "execution_count": 27,
     "metadata": {},
     "output_type": "execute_result"
    }
   ],
   "source": [
    "from sklearn.linear_model import Ridge\n",
    "rd=Ridge()\n",
    "rd.fit(X_train,y_train)\n",
    "rd.predict(X_test)\n",
    "\n",
    "abs(y_test.values-rd.predict(X_test)).sum()"
   ]
  },
  {
   "cell_type": "code",
   "execution_count": 28,
   "id": "bfb85751",
   "metadata": {},
   "outputs": [],
   "source": [
    "def table_validation():\n",
    "    validation_table=[]\n",
    "    for i in [LinearRegression,Lasso,Ridge]:\n",
    "        rd=i()\n",
    "        rd.fit(X_train,y_train)\n",
    "        rd.predict(X_test)\n",
    "        mae=mean_absolute_error(y_test.values,rd.predict(X_test))\n",
    "        mse=mean_squared_error(y_test.values,rd.predict(X_test))\n",
    "        rmse=np.sqrt(mean_squared_error(y_test.values,rd.predict(X_test)))\n",
    "        mape=(((abs(y_test.values-rd.predict(X_test))/y_test.values)*100).sum())*(1/y_test.shape[0])\n",
    "        rsquare=r2_score(y_test.values,rd.predict(X_test))\n",
    "        validation_table.append([i,mae,mse,rmse,mape,rsquare])\n",
    "        #print(type(validation_table))\n",
    "    validation_table=pd.DataFrame(validation_table)\n",
    "    validation_table.columns=[\"model name\",\"mae\",\"mse\",\"rmse\",\"mape\",\"rsquare\"]\n",
    "    return validation_table"
   ]
  },
  {
   "cell_type": "code",
   "execution_count": 29,
   "id": "77cd6fdd",
   "metadata": {},
   "outputs": [
    {
     "name": "stderr",
     "output_type": "stream",
     "text": [
      "C:\\Users\\gn221m\\Anaconda3\\lib\\site-packages\\sklearn\\linear_model\\_coordinate_descent.py:648: ConvergenceWarning: Objective did not converge. You might want to increase the number of iterations, check the scale of the features or consider increasing regularisation. Duality gap: 7.097e+02, tolerance: 3.847e+02\n",
      "  coef_, l1_reg, l2_reg, X, y, max_iter, tol, rng, random, positive\n"
     ]
    }
   ],
   "source": [
    "tv=table_validation()"
   ]
  },
  {
   "cell_type": "code",
   "execution_count": 30,
   "id": "1244b2c4",
   "metadata": {},
   "outputs": [
    {
     "data": {
      "text/html": [
       "<div>\n",
       "<style scoped>\n",
       "    .dataframe tbody tr th:only-of-type {\n",
       "        vertical-align: middle;\n",
       "    }\n",
       "\n",
       "    .dataframe tbody tr th {\n",
       "        vertical-align: top;\n",
       "    }\n",
       "\n",
       "    .dataframe thead th {\n",
       "        text-align: right;\n",
       "    }\n",
       "</style>\n",
       "<table border=\"1\" class=\"dataframe\">\n",
       "  <thead>\n",
       "    <tr style=\"text-align: right;\">\n",
       "      <th></th>\n",
       "      <th>model name</th>\n",
       "      <th>mae</th>\n",
       "      <th>mse</th>\n",
       "      <th>rmse</th>\n",
       "      <th>mape</th>\n",
       "      <th>rsquare</th>\n",
       "    </tr>\n",
       "  </thead>\n",
       "  <tbody>\n",
       "    <tr>\n",
       "      <th>0</th>\n",
       "      <td>&lt;class 'sklearn.linear_model._base.LinearRegre...</td>\n",
       "      <td>92.511804</td>\n",
       "      <td>17752.806055</td>\n",
       "      <td>133.239656</td>\n",
       "      <td>63.752673</td>\n",
       "      <td>0.719402</td>\n",
       "    </tr>\n",
       "    <tr>\n",
       "      <th>1</th>\n",
       "      <td>&lt;class 'sklearn.linear_model._coordinate_desce...</td>\n",
       "      <td>94.290618</td>\n",
       "      <td>19090.099426</td>\n",
       "      <td>138.166926</td>\n",
       "      <td>63.772382</td>\n",
       "      <td>0.698265</td>\n",
       "    </tr>\n",
       "    <tr>\n",
       "      <th>2</th>\n",
       "      <td>&lt;class 'sklearn.linear_model._ridge.Ridge'&gt;</td>\n",
       "      <td>94.428507</td>\n",
       "      <td>18860.788750</td>\n",
       "      <td>137.334587</td>\n",
       "      <td>63.925698</td>\n",
       "      <td>0.701889</td>\n",
       "    </tr>\n",
       "  </tbody>\n",
       "</table>\n",
       "</div>"
      ],
      "text/plain": [
       "                                          model name        mae           mse  \\\n",
       "0  <class 'sklearn.linear_model._base.LinearRegre...  92.511804  17752.806055   \n",
       "1  <class 'sklearn.linear_model._coordinate_desce...  94.290618  19090.099426   \n",
       "2        <class 'sklearn.linear_model._ridge.Ridge'>  94.428507  18860.788750   \n",
       "\n",
       "         rmse       mape   rsquare  \n",
       "0  133.239656  63.752673  0.719402  \n",
       "1  138.166926  63.772382  0.698265  \n",
       "2  137.334587  63.925698  0.701889  "
      ]
     },
     "execution_count": 30,
     "metadata": {},
     "output_type": "execute_result"
    }
   ],
   "source": [
    "tv"
   ]
  },
  {
   "cell_type": "code",
   "execution_count": 31,
   "id": "cd02bf56",
   "metadata": {},
   "outputs": [],
   "source": [
    "from sklearn.tree import DecisionTreeRegressor\n",
    "from sklearn.ensemble import RandomForestRegressor\n",
    "from sklearn.ensemble import BaggingRegressor"
   ]
  },
  {
   "cell_type": "code",
   "execution_count": 32,
   "id": "4ab5c35d",
   "metadata": {},
   "outputs": [],
   "source": [
    "def model_validation(x,X_train,X_test,y_train,y_test):\n",
    "    validation_table=[]\n",
    "    models=[LinearRegression,Lasso,Ridge,DecisionTreeRegressor,RandomForestRegressor,BaggingRegressor]\n",
    "    for i in models:\n",
    "        rd=i()\n",
    "        rd.fit(X_train,y_train)\n",
    "        if x==\"train\":\n",
    "            rd.predict(X_train)\n",
    "            mae=mean_absolute_error(y_train.values,rd.predict(X_train))\n",
    "            mse=mean_squared_error(y_train.values,rd.predict(X_train))\n",
    "            rmse=np.sqrt(mean_squared_error(y_train.values,rd.predict(X_train)))\n",
    "            mape=(((abs(y_train.values-rd.predict(X_train))/y_train.values)*100).sum())*(1/y_train.shape[0])\n",
    "            rsquare=r2_score(y_train.values,rd.predict(X_train))\n",
    "            validation_table.append([i,mae,mse,rmse,mape,rsquare])\n",
    "        #validation_table=pd.DataFrame(validation_table_train)\n",
    "        #validation_table.columns=[\"model name\",\"mae\",\"mse\",\"rmse\",\"mape\",\"rsquare\"]\n",
    "        else:\n",
    "            rd.predict(X_test)\n",
    "            mae=mean_absolute_error(y_test.values,rd.predict(X_test))\n",
    "            mse=mean_squared_error(y_test.values,rd.predict(X_test))\n",
    "            rmse=np.sqrt(mean_squared_error(y_test.values,rd.predict(X_test)))\n",
    "            mape=(((abs(y_test.values-rd.predict(X_test))/y_test.values)*100).sum())*(1/y_test.shape[0])\n",
    "            rsquare=r2_score(y_test.values,rd.predict(X_test))\n",
    "            validation_table.append([i,mae,mse,rmse,mape,rsquare])\n",
    "            \n",
    "    validation_table=pd.DataFrame(validation_table)\n",
    "    validation_table.columns=[\"model name\",\"mae\",\"mse\",\"rmse\",\"mape\",\"rsquare\"]\n",
    "    return validation_table"
   ]
  },
  {
   "cell_type": "code",
   "execution_count": 33,
   "id": "58fada2d",
   "metadata": {},
   "outputs": [],
   "source": [
    "pd.options.display.float_format='{:0.2f}'.format"
   ]
  },
  {
   "cell_type": "code",
   "execution_count": 34,
   "id": "26f62681",
   "metadata": {},
   "outputs": [
    {
     "name": "stderr",
     "output_type": "stream",
     "text": [
      "C:\\Users\\gn221m\\Anaconda3\\lib\\site-packages\\sklearn\\linear_model\\_coordinate_descent.py:648: ConvergenceWarning: Objective did not converge. You might want to increase the number of iterations, check the scale of the features or consider increasing regularisation. Duality gap: 7.097e+02, tolerance: 3.847e+02\n",
      "  coef_, l1_reg, l2_reg, X, y, max_iter, tol, rng, random, positive\n"
     ]
    }
   ],
   "source": [
    "validation_table_train = model_validation('train',X_train,X_test,y_train,y_test)"
   ]
  },
  {
   "cell_type": "code",
   "execution_count": 35,
   "id": "510fb722",
   "metadata": {},
   "outputs": [
    {
     "data": {
      "text/html": [
       "<div>\n",
       "<style scoped>\n",
       "    .dataframe tbody tr th:only-of-type {\n",
       "        vertical-align: middle;\n",
       "    }\n",
       "\n",
       "    .dataframe tbody tr th {\n",
       "        vertical-align: top;\n",
       "    }\n",
       "\n",
       "    .dataframe thead th {\n",
       "        text-align: right;\n",
       "    }\n",
       "</style>\n",
       "<table border=\"1\" class=\"dataframe\">\n",
       "  <thead>\n",
       "    <tr style=\"text-align: right;\">\n",
       "      <th></th>\n",
       "      <th>model name</th>\n",
       "      <th>mae</th>\n",
       "      <th>mse</th>\n",
       "      <th>rmse</th>\n",
       "      <th>mape</th>\n",
       "      <th>rsquare</th>\n",
       "    </tr>\n",
       "  </thead>\n",
       "  <tbody>\n",
       "    <tr>\n",
       "      <th>0</th>\n",
       "      <td>&lt;class 'sklearn.linear_model._base.LinearRegre...</td>\n",
       "      <td>45.91</td>\n",
       "      <td>9622.32</td>\n",
       "      <td>98.09</td>\n",
       "      <td>35.43</td>\n",
       "      <td>0.58</td>\n",
       "    </tr>\n",
       "    <tr>\n",
       "      <th>1</th>\n",
       "      <td>&lt;class 'sklearn.linear_model._coordinate_desce...</td>\n",
       "      <td>45.58</td>\n",
       "      <td>9768.28</td>\n",
       "      <td>98.83</td>\n",
       "      <td>34.20</td>\n",
       "      <td>0.57</td>\n",
       "    </tr>\n",
       "    <tr>\n",
       "      <th>2</th>\n",
       "      <td>&lt;class 'sklearn.linear_model._ridge.Ridge'&gt;</td>\n",
       "      <td>45.56</td>\n",
       "      <td>9664.96</td>\n",
       "      <td>98.31</td>\n",
       "      <td>34.51</td>\n",
       "      <td>0.58</td>\n",
       "    </tr>\n",
       "    <tr>\n",
       "      <th>3</th>\n",
       "      <td>&lt;class 'sklearn.tree._classes.DecisionTreeRegr...</td>\n",
       "      <td>0.00</td>\n",
       "      <td>0.00</td>\n",
       "      <td>0.00</td>\n",
       "      <td>0.00</td>\n",
       "      <td>1.00</td>\n",
       "    </tr>\n",
       "    <tr>\n",
       "      <th>4</th>\n",
       "      <td>&lt;class 'sklearn.ensemble._forest.RandomForestR...</td>\n",
       "      <td>9.48</td>\n",
       "      <td>820.19</td>\n",
       "      <td>28.64</td>\n",
       "      <td>5.57</td>\n",
       "      <td>0.96</td>\n",
       "    </tr>\n",
       "    <tr>\n",
       "      <th>5</th>\n",
       "      <td>&lt;class 'sklearn.ensemble._bagging.BaggingRegre...</td>\n",
       "      <td>8.46</td>\n",
       "      <td>465.57</td>\n",
       "      <td>21.58</td>\n",
       "      <td>6.16</td>\n",
       "      <td>0.98</td>\n",
       "    </tr>\n",
       "  </tbody>\n",
       "</table>\n",
       "</div>"
      ],
      "text/plain": [
       "                                          model name   mae     mse  rmse  \\\n",
       "0  <class 'sklearn.linear_model._base.LinearRegre... 45.91 9622.32 98.09   \n",
       "1  <class 'sklearn.linear_model._coordinate_desce... 45.58 9768.28 98.83   \n",
       "2        <class 'sklearn.linear_model._ridge.Ridge'> 45.56 9664.96 98.31   \n",
       "3  <class 'sklearn.tree._classes.DecisionTreeRegr...  0.00    0.00  0.00   \n",
       "4  <class 'sklearn.ensemble._forest.RandomForestR...  9.48  820.19 28.64   \n",
       "5  <class 'sklearn.ensemble._bagging.BaggingRegre...  8.46  465.57 21.58   \n",
       "\n",
       "   mape  rsquare  \n",
       "0 35.43     0.58  \n",
       "1 34.20     0.57  \n",
       "2 34.51     0.58  \n",
       "3  0.00     1.00  \n",
       "4  5.57     0.96  \n",
       "5  6.16     0.98  "
      ]
     },
     "execution_count": 35,
     "metadata": {},
     "output_type": "execute_result"
    }
   ],
   "source": [
    "validation_table_train"
   ]
  },
  {
   "cell_type": "code",
   "execution_count": 36,
   "id": "4ca1ba82",
   "metadata": {},
   "outputs": [
    {
     "name": "stderr",
     "output_type": "stream",
     "text": [
      "C:\\Users\\gn221m\\Anaconda3\\lib\\site-packages\\sklearn\\linear_model\\_coordinate_descent.py:648: ConvergenceWarning: Objective did not converge. You might want to increase the number of iterations, check the scale of the features or consider increasing regularisation. Duality gap: 7.097e+02, tolerance: 3.847e+02\n",
      "  coef_, l1_reg, l2_reg, X, y, max_iter, tol, rng, random, positive\n"
     ]
    }
   ],
   "source": [
    "validation_table_test = model_validation('test',X_train,X_test,y_train,y_test)"
   ]
  },
  {
   "cell_type": "code",
   "execution_count": 37,
   "id": "7b1915a3",
   "metadata": {},
   "outputs": [
    {
     "data": {
      "text/html": [
       "<div>\n",
       "<style scoped>\n",
       "    .dataframe tbody tr th:only-of-type {\n",
       "        vertical-align: middle;\n",
       "    }\n",
       "\n",
       "    .dataframe tbody tr th {\n",
       "        vertical-align: top;\n",
       "    }\n",
       "\n",
       "    .dataframe thead th {\n",
       "        text-align: right;\n",
       "    }\n",
       "</style>\n",
       "<table border=\"1\" class=\"dataframe\">\n",
       "  <thead>\n",
       "    <tr style=\"text-align: right;\">\n",
       "      <th></th>\n",
       "      <th>model name</th>\n",
       "      <th>mae</th>\n",
       "      <th>mse</th>\n",
       "      <th>rmse</th>\n",
       "      <th>mape</th>\n",
       "      <th>rsquare</th>\n",
       "    </tr>\n",
       "  </thead>\n",
       "  <tbody>\n",
       "    <tr>\n",
       "      <th>0</th>\n",
       "      <td>&lt;class 'sklearn.linear_model._base.LinearRegre...</td>\n",
       "      <td>92.51</td>\n",
       "      <td>17752.81</td>\n",
       "      <td>133.24</td>\n",
       "      <td>63.75</td>\n",
       "      <td>0.72</td>\n",
       "    </tr>\n",
       "    <tr>\n",
       "      <th>1</th>\n",
       "      <td>&lt;class 'sklearn.linear_model._coordinate_desce...</td>\n",
       "      <td>94.29</td>\n",
       "      <td>19090.10</td>\n",
       "      <td>138.17</td>\n",
       "      <td>63.77</td>\n",
       "      <td>0.70</td>\n",
       "    </tr>\n",
       "    <tr>\n",
       "      <th>2</th>\n",
       "      <td>&lt;class 'sklearn.linear_model._ridge.Ridge'&gt;</td>\n",
       "      <td>94.43</td>\n",
       "      <td>18860.79</td>\n",
       "      <td>137.33</td>\n",
       "      <td>63.93</td>\n",
       "      <td>0.70</td>\n",
       "    </tr>\n",
       "    <tr>\n",
       "      <th>3</th>\n",
       "      <td>&lt;class 'sklearn.tree._classes.DecisionTreeRegr...</td>\n",
       "      <td>48.68</td>\n",
       "      <td>14963.53</td>\n",
       "      <td>122.33</td>\n",
       "      <td>19.10</td>\n",
       "      <td>0.76</td>\n",
       "    </tr>\n",
       "    <tr>\n",
       "      <th>4</th>\n",
       "      <td>&lt;class 'sklearn.ensemble._forest.RandomForestR...</td>\n",
       "      <td>55.30</td>\n",
       "      <td>14503.75</td>\n",
       "      <td>120.43</td>\n",
       "      <td>19.97</td>\n",
       "      <td>0.77</td>\n",
       "    </tr>\n",
       "    <tr>\n",
       "      <th>5</th>\n",
       "      <td>&lt;class 'sklearn.ensemble._bagging.BaggingRegre...</td>\n",
       "      <td>65.89</td>\n",
       "      <td>14660.70</td>\n",
       "      <td>121.08</td>\n",
       "      <td>26.24</td>\n",
       "      <td>0.77</td>\n",
       "    </tr>\n",
       "  </tbody>\n",
       "</table>\n",
       "</div>"
      ],
      "text/plain": [
       "                                          model name   mae      mse   rmse  \\\n",
       "0  <class 'sklearn.linear_model._base.LinearRegre... 92.51 17752.81 133.24   \n",
       "1  <class 'sklearn.linear_model._coordinate_desce... 94.29 19090.10 138.17   \n",
       "2        <class 'sklearn.linear_model._ridge.Ridge'> 94.43 18860.79 137.33   \n",
       "3  <class 'sklearn.tree._classes.DecisionTreeRegr... 48.68 14963.53 122.33   \n",
       "4  <class 'sklearn.ensemble._forest.RandomForestR... 55.30 14503.75 120.43   \n",
       "5  <class 'sklearn.ensemble._bagging.BaggingRegre... 65.89 14660.70 121.08   \n",
       "\n",
       "   mape  rsquare  \n",
       "0 63.75     0.72  \n",
       "1 63.77     0.70  \n",
       "2 63.93     0.70  \n",
       "3 19.10     0.76  \n",
       "4 19.97     0.77  \n",
       "5 26.24     0.77  "
      ]
     },
     "execution_count": 37,
     "metadata": {},
     "output_type": "execute_result"
    }
   ],
   "source": [
    "validation_table_test"
   ]
  },
  {
   "cell_type": "markdown",
   "id": "b2497cfb",
   "metadata": {},
   "source": [
    "## The models are working good on the training data but not working well on the testing data, so we need to do further Processing\n",
    "##### we need to check multicollinearity, if the features are highly correlated, we need to remove one feature from the highly correlated features\n",
    "##### By Using Lasso regression model , we can check the features coefficients values, if the coeffis having 0 values, we can remove them from the model building\n"
   ]
  },
  {
   "cell_type": "code",
   "execution_count": 38,
   "id": "0ad39fbb",
   "metadata": {},
   "outputs": [
    {
     "name": "stdout",
     "output_type": "stream",
     "text": [
      "R squared Error on test set :  0.3382122636806293\n",
      "                   Column_Name  Coefficient_Value_lr\n",
      "0                      Week No                 -8.56\n",
      "1                     Month No                 47.79\n",
      "2                         Year                112.13\n",
      "3                Mortgage Rate                228.67\n",
      "4                    Inflation                -30.05\n",
      "5          Housing Price Index                  2.28\n",
      "6               Treasury Yield                -80.64\n",
      "7            Unemployment Rate                  2.54\n",
      "8                          GDP                 -0.16\n",
      "9    Business Confidence Index                 22.12\n",
      "10   Consumer Confidence Index                -10.64\n",
      "11  Initial Unemployment Claim                 -0.00\n",
      "12           Disposable Income                 -0.01\n"
     ]
    },
    {
     "data": {
      "text/plain": [
       "<BarContainer object of 13 artists>"
      ]
     },
     "execution_count": 38,
     "metadata": {},
     "output_type": "execute_result"
    },
    {
     "data": {
      "image/png": "[encoded data removed]",
      "text/plain": [
       "<Figure size 432x288 with 1 Axes>"
      ]
     },
     "metadata": {
      "needs_background": "light"
     },
     "output_type": "display_data"
    }
   ],
   "source": [
    "linearreg = LinearRegression()\n",
    "linearreg.fit(X_train, y_train)\n",
    "\n",
    "# predicting on test\n",
    "linearreg_prediction = linearreg.predict(X_test)\n",
    "\n",
    "# calculating R_square\n",
    "R_squared = r2_score(linearreg_prediction,y_test)\n",
    "print(\"R squared Error on test set : \", R_squared)\n",
    "\n",
    "\n",
    "# Putting together the coefficient and their corresponding variable names\n",
    "coefficient_df = pd.DataFrame()\n",
    "coefficient_df[\"Column_Name\"] = X_train.columns\n",
    "coefficient_df['Coefficient_Value_lr'] = pd.Series(linearreg.coef_)\n",
    "print(coefficient_df)\n",
    "coefficient_df.to_csv('coeff_values.csv',index=False)\n",
    "plt.rcParams[\"figure.figsize\"] = (15,6)\n",
    " \n",
    "plt.bar(coefficient_df[\"Column_Name\"],coefficient_df[\"Coefficient_Value_lr\"])\n"
   ]
  },
  {
   "cell_type": "code",
   "execution_count": 39,
   "id": "f79fe007",
   "metadata": {},
   "outputs": [],
   "source": [
    "import pandas as pd"
   ]
  },
  {
   "cell_type": "code",
   "execution_count": 40,
   "id": "ef4474a8",
   "metadata": {},
   "outputs": [],
   "source": [
    "coefficient_df = pd.DataFrame()"
   ]
  },
  {
   "cell_type": "code",
   "execution_count": 41,
   "id": "cf0544df",
   "metadata": {},
   "outputs": [],
   "source": [
    "coefficient_df[\"Column_Name\"] = X_train.columns"
   ]
  },
  {
   "cell_type": "code",
   "execution_count": 42,
   "id": "57903516",
   "metadata": {},
   "outputs": [
    {
     "data": {
      "text/html": [
       "<div>\n",
       "<style scoped>\n",
       "    .dataframe tbody tr th:only-of-type {\n",
       "        vertical-align: middle;\n",
       "    }\n",
       "\n",
       "    .dataframe tbody tr th {\n",
       "        vertical-align: top;\n",
       "    }\n",
       "\n",
       "    .dataframe thead th {\n",
       "        text-align: right;\n",
       "    }\n",
       "</style>\n",
       "<table border=\"1\" class=\"dataframe\">\n",
       "  <thead>\n",
       "    <tr style=\"text-align: right;\">\n",
       "      <th></th>\n",
       "      <th>Column_Name</th>\n",
       "    </tr>\n",
       "  </thead>\n",
       "  <tbody>\n",
       "    <tr>\n",
       "      <th>0</th>\n",
       "      <td>Week No</td>\n",
       "    </tr>\n",
       "    <tr>\n",
       "      <th>1</th>\n",
       "      <td>Month No</td>\n",
       "    </tr>\n",
       "    <tr>\n",
       "      <th>2</th>\n",
       "      <td>Year</td>\n",
       "    </tr>\n",
       "    <tr>\n",
       "      <th>3</th>\n",
       "      <td>Mortgage Rate</td>\n",
       "    </tr>\n",
       "    <tr>\n",
       "      <th>4</th>\n",
       "      <td>Inflation</td>\n",
       "    </tr>\n",
       "    <tr>\n",
       "      <th>5</th>\n",
       "      <td>Housing Price Index</td>\n",
       "    </tr>\n",
       "    <tr>\n",
       "      <th>6</th>\n",
       "      <td>Treasury Yield</td>\n",
       "    </tr>\n",
       "    <tr>\n",
       "      <th>7</th>\n",
       "      <td>Unemployment Rate</td>\n",
       "    </tr>\n",
       "    <tr>\n",
       "      <th>8</th>\n",
       "      <td>GDP</td>\n",
       "    </tr>\n",
       "    <tr>\n",
       "      <th>9</th>\n",
       "      <td>Business Confidence Index</td>\n",
       "    </tr>\n",
       "    <tr>\n",
       "      <th>10</th>\n",
       "      <td>Consumer Confidence Index</td>\n",
       "    </tr>\n",
       "    <tr>\n",
       "      <th>11</th>\n",
       "      <td>Initial Unemployment Claim</td>\n",
       "    </tr>\n",
       "    <tr>\n",
       "      <th>12</th>\n",
       "      <td>Disposable Income</td>\n",
       "    </tr>\n",
       "  </tbody>\n",
       "</table>\n",
       "</div>"
      ],
      "text/plain": [
       "                   Column_Name\n",
       "0                      Week No\n",
       "1                     Month No\n",
       "2                         Year\n",
       "3                Mortgage Rate\n",
       "4                    Inflation\n",
       "5          Housing Price Index\n",
       "6               Treasury Yield\n",
       "7            Unemployment Rate\n",
       "8                          GDP\n",
       "9    Business Confidence Index\n",
       "10   Consumer Confidence Index\n",
       "11  Initial Unemployment Claim\n",
       "12           Disposable Income"
      ]
     },
     "execution_count": 42,
     "metadata": {},
     "output_type": "execute_result"
    }
   ],
   "source": [
    "coefficient_df"
   ]
  },
  {
   "cell_type": "code",
   "execution_count": 43,
   "id": "8a7274da",
   "metadata": {},
   "outputs": [
    {
     "name": "stdout",
     "output_type": "stream",
     "text": [
      "                   Column_Name  Coefficient_Value\n",
      "0                      Week No              -8.56\n",
      "1                     Month No              47.79\n",
      "2                         Year             112.13\n",
      "3                Mortgage Rate             228.67\n",
      "4                    Inflation             -30.05\n",
      "5          Housing Price Index               2.28\n",
      "6               Treasury Yield             -80.64\n",
      "7            Unemployment Rate               2.54\n",
      "8                          GDP              -0.16\n",
      "9    Business Confidence Index              22.12\n",
      "10   Consumer Confidence Index             -10.64\n",
      "11  Initial Unemployment Claim              -0.00\n",
      "12           Disposable Income              -0.01\n"
     ]
    }
   ],
   "source": [
    "coefficient_df['Coefficient_Value'] = pd.Series(linearreg.coef_)\n",
    "print(coefficient_df)"
   ]
  },
  {
   "cell_type": "code",
   "execution_count": 44,
   "id": "99105e98",
   "metadata": {},
   "outputs": [
    {
     "data": {
      "text/plain": [
       "0     -8.56\n",
       "1     47.79\n",
       "2    112.13\n",
       "3    228.67\n",
       "4    -30.05\n",
       "5      2.28\n",
       "6    -80.64\n",
       "7      2.54\n",
       "8     -0.16\n",
       "9     22.12\n",
       "10   -10.64\n",
       "11    -0.00\n",
       "12    -0.01\n",
       "dtype: float64"
      ]
     },
     "execution_count": 44,
     "metadata": {},
     "output_type": "execute_result"
    }
   ],
   "source": [
    "pd.Series(linearreg.coef_)"
   ]
  },
  {
   "cell_type": "code",
   "execution_count": 45,
   "id": "9e95ce12",
   "metadata": {},
   "outputs": [
    {
     "data": {
      "text/plain": [
       "-228590.8488149408"
      ]
     },
     "execution_count": 45,
     "metadata": {},
     "output_type": "execute_result"
    }
   ],
   "source": [
    "linearreg.intercept_"
   ]
  },
  {
   "cell_type": "code",
   "execution_count": 46,
   "id": "b92065ec",
   "metadata": {
    "scrolled": true
   },
   "outputs": [
    {
     "name": "stdout",
     "output_type": "stream",
     "text": [
      "R squared Error on test set :  0.29525996164607915\n"
     ]
    },
    {
     "data": {
      "text/plain": [
       "<BarContainer object of 13 artists>"
      ]
     },
     "execution_count": 46,
     "metadata": {},
     "output_type": "execute_result"
    },
    {
     "data": {
      "image/png": "[encoded data removed]",
      "text/plain": [
       "<Figure size 1080x432 with 1 Axes>"
      ]
     },
     "metadata": {
      "needs_background": "light"
     },
     "output_type": "display_data"
    }
   ],
   "source": [
    "from sklearn.linear_model import Ridge\n",
    "\n",
    "# Train the model\n",
    "ridgeRegressor = Ridge(alpha = 0.5) #here setting alpha is nothing but lambda in the formula\n",
    "ridgeRegressor.fit(X_train, y_train)\n",
    "y_predicted_ridge = ridgeRegressor.predict(X_test)\n",
    "\n",
    "# calculating R_square\n",
    "R_squared = r2_score(y_predicted_ridge,y_test)\n",
    "print(\"R squared Error on test set : \", R_squared)\n",
    "\n",
    "coefficient_df['Coefficient_Value_ridge'] = pd.Series(ridgeRegressor.coef_)\n",
    "#print(coefficient_df.head)\n",
    "coefficient_df.to_csv('coeff_values.csv',index=False)\n",
    "plt.rcParams[\"figure.figsize\"] = (15,6)\n",
    " \n",
    "plt.bar(coefficient_df[\"Column_Name\"],coefficient_df[\"Coefficient_Value_ridge\"])"
   ]
  },
  {
   "cell_type": "code",
   "execution_count": 47,
   "id": "2f3df5e4",
   "metadata": {},
   "outputs": [
    {
     "name": "stdout",
     "output_type": "stream",
     "text": [
      "R squared Error on test set :  0.23571285197060576\n"
     ]
    },
    {
     "name": "stderr",
     "output_type": "stream",
     "text": [
      "C:\\Users\\gn221m\\Anaconda3\\lib\\site-packages\\sklearn\\linear_model\\_coordinate_descent.py:648: ConvergenceWarning: Objective did not converge. You might want to increase the number of iterations, check the scale of the features or consider increasing regularisation. Duality gap: 7.097e+02, tolerance: 3.847e+02\n",
      "  coef_, l1_reg, l2_reg, X, y, max_iter, tol, rng, random, positive\n"
     ]
    },
    {
     "data": {
      "text/plain": [
       "<BarContainer object of 13 artists>"
      ]
     },
     "execution_count": 47,
     "metadata": {},
     "output_type": "execute_result"
    },
    {
     "data": {
      "image/png": "[encoded data removed]",
      "text/plain": [
       "<Figure size 1080x432 with 1 Axes>"
      ]
     },
     "metadata": {
      "needs_background": "light"
     },
     "output_type": "display_data"
    }
   ],
   "source": [
    "# import Lasso regression from sklearn library\n",
    "from sklearn.linear_model import Lasso\n",
    "\n",
    "# Train the model\n",
    "lassoRegressor = Lasso(alpha = 1) #here setting alpha is nothing but lambda in the formula\n",
    "lassoRegressor.fit(X_train, y_train)\n",
    "y_predicted_lasso = lassoRegressor.predict(X_test)\n",
    "\n",
    "# calculating Mean Squared Error (mse)\n",
    "R_squared = r2_score(y_predicted_lasso,y_test)\n",
    "print(\"R squared Error on test set : \", R_squared)\n",
    "\n",
    "coefficient_df[\"Column_Name\"] = X_train.columns\n",
    "coefficient_df['Coefficient_Value_lasso'] = pd.Series(lassoRegressor.coef_)\n",
    "#print(coefficient_df.head)\n",
    "#coefficient_df.to_csv('coeff_values.csv',index=False)\n",
    "\n",
    "plt.rcParams[\"figure.figsize\"] = (15,6)\n",
    " \n",
    "plt.bar(coefficient_df[\"Column_Name\"],coefficient_df[\"Coefficient_Value_lasso\"])"
   ]
  },
  {
   "cell_type": "code",
   "execution_count": 48,
   "id": "074ce139",
   "metadata": {},
   "outputs": [],
   "source": [
    "lasso_coeff_zero=[]"
   ]
  },
  {
   "cell_type": "code",
   "execution_count": 49,
   "id": "42f7972a",
   "metadata": {},
   "outputs": [],
   "source": [
    "index = len(coefficient_df.Coefficient_Value_lasso)"
   ]
  },
  {
   "cell_type": "code",
   "execution_count": 50,
   "id": "4745cedf",
   "metadata": {},
   "outputs": [
    {
     "data": {
      "text/plain": [
       "13"
      ]
     },
     "execution_count": 50,
     "metadata": {},
     "output_type": "execute_result"
    }
   ],
   "source": [
    "index"
   ]
  },
  {
   "cell_type": "code",
   "execution_count": 51,
   "id": "d1a068df",
   "metadata": {},
   "outputs": [
    {
     "data": {
      "text/plain": [
       "['Unemployment Rate']"
      ]
     },
     "execution_count": 51,
     "metadata": {},
     "output_type": "execute_result"
    }
   ],
   "source": [
    "i=0\n",
    "while i<index:\n",
    "    if coefficient_df.Coefficient_Value_lasso[i]==0:\n",
    "        value=coefficient_df.Column_Name[i]\n",
    "        lasso_coeff_zero.append(value)\n",
    "    i=i+1\n",
    "lasso_coeff_zero"
   ]
  },
  {
   "cell_type": "code",
   "execution_count": 52,
   "id": "14685a14",
   "metadata": {},
   "outputs": [
    {
     "data": {
      "text/plain": [
       "1"
      ]
     },
     "execution_count": 52,
     "metadata": {},
     "output_type": "execute_result"
    }
   ],
   "source": [
    "len(lasso_coeff_zero)"
   ]
  },
  {
   "cell_type": "code",
   "execution_count": 53,
   "id": "43e3e40c",
   "metadata": {},
   "outputs": [],
   "source": [
    "#Using Pearson Correlation"
   ]
  },
  {
   "cell_type": "code",
   "execution_count": 54,
   "id": "eb7ac2a0",
   "metadata": {},
   "outputs": [
    {
     "data": {
      "image/png": "[encoded data removed]",
      "text/plain": [
       "<Figure size 864x720 with 2 Axes>"
      ]
     },
     "metadata": {
      "needs_background": "light"
     },
     "output_type": "display_data"
    }
   ],
   "source": [
    "import seaborn as sns\n",
    "plt.figure(figsize=(12,10))\n",
    "cor = base_data.corr()\n",
    "sns.heatmap(cor, annot=True, cmap=plt.cm.CMRmap_r)\n",
    "plt.show()"
   ]
  },
  {
   "cell_type": "code",
   "execution_count": 55,
   "id": "1fcecfb6",
   "metadata": {},
   "outputs": [],
   "source": [
    "# with the following function we can select highly correlated features\n",
    "# it will remove the first feature that is correlated with anything other feature\n",
    "\n",
    "def correlation_check(dataset, threshold):\n",
    "    col_corr = set()  # Set of all the names of correlated columns\n",
    "    corr_matrix = dataset.corr()\n",
    "    for i in range(len(corr_matrix.columns)):\n",
    "        for j in range(i):\n",
    "            if abs(corr_matrix.iloc[i, j]) > threshold: # we are interested in absolute coeff value\n",
    "                colname = corr_matrix.columns[i]  # getting the name of column\n",
    "                col_corr.add(colname)\n",
    "    return col_corr"
   ]
  },
  {
   "cell_type": "code",
   "execution_count": 58,
   "id": "a7eabf7c",
   "metadata": {},
   "outputs": [
    {
     "data": {
      "text/plain": [
       "5"
      ]
     },
     "execution_count": 58,
     "metadata": {},
     "output_type": "execute_result"
    }
   ],
   "source": [
    "corr_features = correlation_check(X_train, 0.8)\n",
    "len(set(corr_features))"
   ]
  },
  {
   "cell_type": "code",
   "execution_count": 59,
   "id": "8dc642ca",
   "metadata": {},
   "outputs": [
    {
     "data": {
      "text/plain": [
       "{'Business Confidence Index',\n",
       " 'Housing Price Index',\n",
       " 'Inflation',\n",
       " 'Initial Unemployment Claim',\n",
       " 'Month No'}"
      ]
     },
     "execution_count": 59,
     "metadata": {},
     "output_type": "execute_result"
    }
   ],
   "source": [
    "corr_features"
   ]
  },
  {
   "cell_type": "code",
   "execution_count": 60,
   "id": "61fa1d9e",
   "metadata": {},
   "outputs": [],
   "source": [
    "base_data_upd = base_data.drop(corr_features,axis=1)"
   ]
  },
  {
   "cell_type": "code",
   "execution_count": 61,
   "id": "6cbfcf62",
   "metadata": {},
   "outputs": [
    {
     "data": {
      "text/html": [
       "<div>\n",
       "<style scoped>\n",
       "    .dataframe tbody tr th:only-of-type {\n",
       "        vertical-align: middle;\n",
       "    }\n",
       "\n",
       "    .dataframe tbody tr th {\n",
       "        vertical-align: top;\n",
       "    }\n",
       "\n",
       "    .dataframe thead th {\n",
       "        text-align: right;\n",
       "    }\n",
       "</style>\n",
       "<table border=\"1\" class=\"dataframe\">\n",
       "  <thead>\n",
       "    <tr style=\"text-align: right;\">\n",
       "      <th></th>\n",
       "      <th>Week No</th>\n",
       "      <th>Month No</th>\n",
       "      <th>Year</th>\n",
       "      <th>Purchase</th>\n",
       "      <th>Mortgage Rate</th>\n",
       "      <th>Inflation</th>\n",
       "      <th>Housing Price Index</th>\n",
       "      <th>Treasury Yield</th>\n",
       "      <th>Unemployment Rate</th>\n",
       "      <th>GDP</th>\n",
       "      <th>Business Confidence Index</th>\n",
       "      <th>Consumer Confidence Index</th>\n",
       "      <th>Initial Unemployment Claim</th>\n",
       "      <th>Disposable Income</th>\n",
       "    </tr>\n",
       "  </thead>\n",
       "  <tbody>\n",
       "    <tr>\n",
       "      <th>0</th>\n",
       "      <td>1</td>\n",
       "      <td>1</td>\n",
       "      <td>2019</td>\n",
       "      <td>37.00</td>\n",
       "      <td>4.51</td>\n",
       "      <td>1.60</td>\n",
       "      <td>187.90</td>\n",
       "      <td>1.70</td>\n",
       "      <td>4.00</td>\n",
       "      <td>2.40</td>\n",
       "      <td>101.01</td>\n",
       "      <td>101.00</td>\n",
       "      <td>329495.25</td>\n",
       "      <td>16027.80</td>\n",
       "    </tr>\n",
       "    <tr>\n",
       "      <th>1</th>\n",
       "      <td>2</td>\n",
       "      <td>1</td>\n",
       "      <td>2019</td>\n",
       "      <td>50.00</td>\n",
       "      <td>4.51</td>\n",
       "      <td>1.60</td>\n",
       "      <td>187.90</td>\n",
       "      <td>2.16</td>\n",
       "      <td>4.00</td>\n",
       "      <td>2.40</td>\n",
       "      <td>101.01</td>\n",
       "      <td>101.00</td>\n",
       "      <td>348680.14</td>\n",
       "      <td>16027.80</td>\n",
       "    </tr>\n",
       "  </tbody>\n",
       "</table>\n",
       "</div>"
      ],
      "text/plain": [
       "   Week No  Month No  Year  Purchase  Mortgage Rate  Inflation  \\\n",
       "0        1         1  2019     37.00           4.51       1.60   \n",
       "1        2         1  2019     50.00           4.51       1.60   \n",
       "\n",
       "   Housing Price Index  Treasury Yield  Unemployment Rate  GDP  \\\n",
       "0               187.90            1.70               4.00 2.40   \n",
       "1               187.90            2.16               4.00 2.40   \n",
       "\n",
       "   Business Confidence Index  Consumer Confidence Index  \\\n",
       "0                     101.01                     101.00   \n",
       "1                     101.01                     101.00   \n",
       "\n",
       "   Initial Unemployment Claim  Disposable Income  \n",
       "0                   329495.25           16027.80  \n",
       "1                   348680.14           16027.80  "
      ]
     },
     "execution_count": 61,
     "metadata": {},
     "output_type": "execute_result"
    }
   ],
   "source": [
    "base_data.head(2)"
   ]
  },
  {
   "cell_type": "code",
   "execution_count": 62,
   "id": "008e4fa9",
   "metadata": {},
   "outputs": [
    {
     "data": {
      "text/html": [
       "<div>\n",
       "<style scoped>\n",
       "    .dataframe tbody tr th:only-of-type {\n",
       "        vertical-align: middle;\n",
       "    }\n",
       "\n",
       "    .dataframe tbody tr th {\n",
       "        vertical-align: top;\n",
       "    }\n",
       "\n",
       "    .dataframe thead th {\n",
       "        text-align: right;\n",
       "    }\n",
       "</style>\n",
       "<table border=\"1\" class=\"dataframe\">\n",
       "  <thead>\n",
       "    <tr style=\"text-align: right;\">\n",
       "      <th></th>\n",
       "      <th>Week No</th>\n",
       "      <th>Year</th>\n",
       "      <th>Purchase</th>\n",
       "      <th>Mortgage Rate</th>\n",
       "      <th>Treasury Yield</th>\n",
       "      <th>Unemployment Rate</th>\n",
       "      <th>GDP</th>\n",
       "      <th>Consumer Confidence Index</th>\n",
       "      <th>Disposable Income</th>\n",
       "    </tr>\n",
       "  </thead>\n",
       "  <tbody>\n",
       "    <tr>\n",
       "      <th>0</th>\n",
       "      <td>1</td>\n",
       "      <td>2019</td>\n",
       "      <td>37.00</td>\n",
       "      <td>4.51</td>\n",
       "      <td>1.70</td>\n",
       "      <td>4.00</td>\n",
       "      <td>2.40</td>\n",
       "      <td>101.00</td>\n",
       "      <td>16027.80</td>\n",
       "    </tr>\n",
       "    <tr>\n",
       "      <th>1</th>\n",
       "      <td>2</td>\n",
       "      <td>2019</td>\n",
       "      <td>50.00</td>\n",
       "      <td>4.51</td>\n",
       "      <td>2.16</td>\n",
       "      <td>4.00</td>\n",
       "      <td>2.40</td>\n",
       "      <td>101.00</td>\n",
       "      <td>16027.80</td>\n",
       "    </tr>\n",
       "  </tbody>\n",
       "</table>\n",
       "</div>"
      ],
      "text/plain": [
       "   Week No  Year  Purchase  Mortgage Rate  Treasury Yield  Unemployment Rate  \\\n",
       "0        1  2019     37.00           4.51            1.70               4.00   \n",
       "1        2  2019     50.00           4.51            2.16               4.00   \n",
       "\n",
       "   GDP  Consumer Confidence Index  Disposable Income  \n",
       "0 2.40                     101.00           16027.80  \n",
       "1 2.40                     101.00           16027.80  "
      ]
     },
     "execution_count": 62,
     "metadata": {},
     "output_type": "execute_result"
    }
   ],
   "source": [
    "base_data_upd.head(2)"
   ]
  },
  {
   "cell_type": "code",
   "execution_count": 63,
   "id": "9fa2fa7e",
   "metadata": {},
   "outputs": [],
   "source": [
    "x=base_data_upd.drop('Purchase',axis=1)\n",
    "y=base_data_upd['Purchase']"
   ]
  },
  {
   "cell_type": "code",
   "execution_count": 64,
   "id": "00d39017",
   "metadata": {},
   "outputs": [],
   "source": [
    "X_train,X_test,y_train,y_test=train_test_split(x,y,test_size=0.10,random_state=24)"
   ]
  },
  {
   "cell_type": "code",
   "execution_count": 65,
   "id": "0018e698",
   "metadata": {},
   "outputs": [
    {
     "name": "stdout",
     "output_type": "stream",
     "text": [
      "(168, 8) (19, 8) (168,) (19,)\n"
     ]
    }
   ],
   "source": [
    "print(X_train.shape,X_test.shape,y_train.shape,y_test.shape)"
   ]
  },
  {
   "cell_type": "code",
   "execution_count": 66,
   "id": "19222bef",
   "metadata": {},
   "outputs": [],
   "source": [
    "validation_table_train_upd = model_validation('train',X_train,X_test,y_train,y_test)"
   ]
  },
  {
   "cell_type": "code",
   "execution_count": 67,
   "id": "ad27a475",
   "metadata": {},
   "outputs": [
    {
     "data": {
      "text/html": [
       "<div>\n",
       "<style scoped>\n",
       "    .dataframe tbody tr th:only-of-type {\n",
       "        vertical-align: middle;\n",
       "    }\n",
       "\n",
       "    .dataframe tbody tr th {\n",
       "        vertical-align: top;\n",
       "    }\n",
       "\n",
       "    .dataframe thead th {\n",
       "        text-align: right;\n",
       "    }\n",
       "</style>\n",
       "<table border=\"1\" class=\"dataframe\">\n",
       "  <thead>\n",
       "    <tr style=\"text-align: right;\">\n",
       "      <th></th>\n",
       "      <th>model name</th>\n",
       "      <th>mae</th>\n",
       "      <th>mse</th>\n",
       "      <th>rmse</th>\n",
       "      <th>mape</th>\n",
       "      <th>rsquare</th>\n",
       "    </tr>\n",
       "  </thead>\n",
       "  <tbody>\n",
       "    <tr>\n",
       "      <th>0</th>\n",
       "      <td>&lt;class 'sklearn.linear_model._base.LinearRegre...</td>\n",
       "      <td>47.95</td>\n",
       "      <td>10085.82</td>\n",
       "      <td>100.43</td>\n",
       "      <td>36.88</td>\n",
       "      <td>0.56</td>\n",
       "    </tr>\n",
       "    <tr>\n",
       "      <th>1</th>\n",
       "      <td>&lt;class 'sklearn.linear_model._coordinate_desce...</td>\n",
       "      <td>47.84</td>\n",
       "      <td>10124.68</td>\n",
       "      <td>100.62</td>\n",
       "      <td>36.38</td>\n",
       "      <td>0.56</td>\n",
       "    </tr>\n",
       "    <tr>\n",
       "      <th>2</th>\n",
       "      <td>&lt;class 'sklearn.linear_model._ridge.Ridge'&gt;</td>\n",
       "      <td>47.65</td>\n",
       "      <td>10099.47</td>\n",
       "      <td>100.50</td>\n",
       "      <td>36.26</td>\n",
       "      <td>0.56</td>\n",
       "    </tr>\n",
       "    <tr>\n",
       "      <th>3</th>\n",
       "      <td>&lt;class 'sklearn.tree._classes.DecisionTreeRegr...</td>\n",
       "      <td>0.00</td>\n",
       "      <td>0.00</td>\n",
       "      <td>0.00</td>\n",
       "      <td>0.00</td>\n",
       "      <td>1.00</td>\n",
       "    </tr>\n",
       "    <tr>\n",
       "      <th>4</th>\n",
       "      <td>&lt;class 'sklearn.ensemble._forest.RandomForestR...</td>\n",
       "      <td>9.63</td>\n",
       "      <td>1066.54</td>\n",
       "      <td>32.66</td>\n",
       "      <td>5.91</td>\n",
       "      <td>0.95</td>\n",
       "    </tr>\n",
       "    <tr>\n",
       "      <th>5</th>\n",
       "      <td>&lt;class 'sklearn.ensemble._bagging.BaggingRegre...</td>\n",
       "      <td>10.50</td>\n",
       "      <td>1258.42</td>\n",
       "      <td>35.47</td>\n",
       "      <td>5.69</td>\n",
       "      <td>0.95</td>\n",
       "    </tr>\n",
       "  </tbody>\n",
       "</table>\n",
       "</div>"
      ],
      "text/plain": [
       "                                          model name   mae      mse   rmse  \\\n",
       "0  <class 'sklearn.linear_model._base.LinearRegre... 47.95 10085.82 100.43   \n",
       "1  <class 'sklearn.linear_model._coordinate_desce... 47.84 10124.68 100.62   \n",
       "2        <class 'sklearn.linear_model._ridge.Ridge'> 47.65 10099.47 100.50   \n",
       "3  <class 'sklearn.tree._classes.DecisionTreeRegr...  0.00     0.00   0.00   \n",
       "4  <class 'sklearn.ensemble._forest.RandomForestR...  9.63  1066.54  32.66   \n",
       "5  <class 'sklearn.ensemble._bagging.BaggingRegre... 10.50  1258.42  35.47   \n",
       "\n",
       "   mape  rsquare  \n",
       "0 36.88     0.56  \n",
       "1 36.38     0.56  \n",
       "2 36.26     0.56  \n",
       "3  0.00     1.00  \n",
       "4  5.91     0.95  \n",
       "5  5.69     0.95  "
      ]
     },
     "execution_count": 67,
     "metadata": {},
     "output_type": "execute_result"
    }
   ],
   "source": [
    "validation_table_train_upd"
   ]
  },
  {
   "cell_type": "code",
   "execution_count": 68,
   "id": "e7450626",
   "metadata": {},
   "outputs": [],
   "source": [
    "validation_table_test_upd = model_validation('test',X_train,X_test,y_train,y_test)"
   ]
  },
  {
   "cell_type": "code",
   "execution_count": 69,
   "id": "efc5f91d",
   "metadata": {},
   "outputs": [
    {
     "data": {
      "text/html": [
       "<div>\n",
       "<style scoped>\n",
       "    .dataframe tbody tr th:only-of-type {\n",
       "        vertical-align: middle;\n",
       "    }\n",
       "\n",
       "    .dataframe tbody tr th {\n",
       "        vertical-align: top;\n",
       "    }\n",
       "\n",
       "    .dataframe thead th {\n",
       "        text-align: right;\n",
       "    }\n",
       "</style>\n",
       "<table border=\"1\" class=\"dataframe\">\n",
       "  <thead>\n",
       "    <tr style=\"text-align: right;\">\n",
       "      <th></th>\n",
       "      <th>model name</th>\n",
       "      <th>mae</th>\n",
       "      <th>mse</th>\n",
       "      <th>rmse</th>\n",
       "      <th>mape</th>\n",
       "      <th>rsquare</th>\n",
       "    </tr>\n",
       "  </thead>\n",
       "  <tbody>\n",
       "    <tr>\n",
       "      <th>0</th>\n",
       "      <td>&lt;class 'sklearn.linear_model._base.LinearRegre...</td>\n",
       "      <td>91.91</td>\n",
       "      <td>17441.19</td>\n",
       "      <td>132.07</td>\n",
       "      <td>63.72</td>\n",
       "      <td>0.72</td>\n",
       "    </tr>\n",
       "    <tr>\n",
       "      <th>1</th>\n",
       "      <td>&lt;class 'sklearn.linear_model._coordinate_desce...</td>\n",
       "      <td>95.21</td>\n",
       "      <td>18674.90</td>\n",
       "      <td>136.66</td>\n",
       "      <td>64.54</td>\n",
       "      <td>0.70</td>\n",
       "    </tr>\n",
       "    <tr>\n",
       "      <th>2</th>\n",
       "      <td>&lt;class 'sklearn.linear_model._ridge.Ridge'&gt;</td>\n",
       "      <td>93.46</td>\n",
       "      <td>18197.65</td>\n",
       "      <td>134.90</td>\n",
       "      <td>63.54</td>\n",
       "      <td>0.71</td>\n",
       "    </tr>\n",
       "    <tr>\n",
       "      <th>3</th>\n",
       "      <td>&lt;class 'sklearn.tree._classes.DecisionTreeRegr...</td>\n",
       "      <td>82.00</td>\n",
       "      <td>52438.21</td>\n",
       "      <td>228.99</td>\n",
       "      <td>46.16</td>\n",
       "      <td>0.17</td>\n",
       "    </tr>\n",
       "    <tr>\n",
       "      <th>4</th>\n",
       "      <td>&lt;class 'sklearn.ensemble._forest.RandomForestR...</td>\n",
       "      <td>51.62</td>\n",
       "      <td>9212.07</td>\n",
       "      <td>95.98</td>\n",
       "      <td>22.34</td>\n",
       "      <td>0.85</td>\n",
       "    </tr>\n",
       "    <tr>\n",
       "      <th>5</th>\n",
       "      <td>&lt;class 'sklearn.ensemble._bagging.BaggingRegre...</td>\n",
       "      <td>53.45</td>\n",
       "      <td>10792.49</td>\n",
       "      <td>103.89</td>\n",
       "      <td>26.95</td>\n",
       "      <td>0.83</td>\n",
       "    </tr>\n",
       "  </tbody>\n",
       "</table>\n",
       "</div>"
      ],
      "text/plain": [
       "                                          model name   mae      mse   rmse  \\\n",
       "0  <class 'sklearn.linear_model._base.LinearRegre... 91.91 17441.19 132.07   \n",
       "1  <class 'sklearn.linear_model._coordinate_desce... 95.21 18674.90 136.66   \n",
       "2        <class 'sklearn.linear_model._ridge.Ridge'> 93.46 18197.65 134.90   \n",
       "3  <class 'sklearn.tree._classes.DecisionTreeRegr... 82.00 52438.21 228.99   \n",
       "4  <class 'sklearn.ensemble._forest.RandomForestR... 51.62  9212.07  95.98   \n",
       "5  <class 'sklearn.ensemble._bagging.BaggingRegre... 53.45 10792.49 103.89   \n",
       "\n",
       "   mape  rsquare  \n",
       "0 63.72     0.72  \n",
       "1 64.54     0.70  \n",
       "2 63.54     0.71  \n",
       "3 46.16     0.17  \n",
       "4 22.34     0.85  \n",
       "5 26.95     0.83  "
      ]
     },
     "execution_count": 69,
     "metadata": {},
     "output_type": "execute_result"
    }
   ],
   "source": [
    "validation_table_test_upd"
   ]
  },
  {
   "cell_type": "code",
   "execution_count": 70,
   "id": "3f7329e1",
   "metadata": {},
   "outputs": [],
   "source": [
    "from sklearn.preprocessing import StandardScaler\n",
    "def StandardScaler_of_data(x,X_train,X_test):    \n",
    "    if x=='train':\n",
    "        print(\"runningin in training mode\")\n",
    "        le=StandardScaler()\n",
    "        le.fit(X_train)\n",
    "        x=le.transform(X_train)\n",
    "        dat1=pd.DataFrame(x)\n",
    "        dat1.columns=X_train.columns\n",
    "        data=dat1\n",
    "    else:\n",
    "        print(\"running in test mode\")\n",
    "        le=StandardScaler()\n",
    "        le.fit(X_train)\n",
    "        x=le.transform(X_test)\n",
    "        dat1=pd.DataFrame(x)        \n",
    "        dat1.columns=X_test.columns\n",
    "        data=dat1\n",
    "    return data"
   ]
  },
  {
   "cell_type": "code",
   "execution_count": 71,
   "id": "67d4dbcf",
   "metadata": {},
   "outputs": [
    {
     "name": "stdout",
     "output_type": "stream",
     "text": [
      "runningin in training mode\n"
     ]
    }
   ],
   "source": [
    "X_train_std = StandardScaler_of_data('train',X_train,X_test)"
   ]
  },
  {
   "cell_type": "code",
   "execution_count": 72,
   "id": "64ab960a",
   "metadata": {},
   "outputs": [
    {
     "data": {
      "text/html": [
       "<div>\n",
       "<style scoped>\n",
       "    .dataframe tbody tr th:only-of-type {\n",
       "        vertical-align: middle;\n",
       "    }\n",
       "\n",
       "    .dataframe tbody tr th {\n",
       "        vertical-align: top;\n",
       "    }\n",
       "\n",
       "    .dataframe thead th {\n",
       "        text-align: right;\n",
       "    }\n",
       "</style>\n",
       "<table border=\"1\" class=\"dataframe\">\n",
       "  <thead>\n",
       "    <tr style=\"text-align: right;\">\n",
       "      <th></th>\n",
       "      <th>Week No</th>\n",
       "      <th>Year</th>\n",
       "      <th>Mortgage Rate</th>\n",
       "      <th>Treasury Yield</th>\n",
       "      <th>Unemployment Rate</th>\n",
       "      <th>GDP</th>\n",
       "      <th>Consumer Confidence Index</th>\n",
       "      <th>Disposable Income</th>\n",
       "    </tr>\n",
       "  </thead>\n",
       "  <tbody>\n",
       "    <tr>\n",
       "      <th>184</th>\n",
       "      <td>28</td>\n",
       "      <td>2022</td>\n",
       "      <td>5.50</td>\n",
       "      <td>2.20</td>\n",
       "      <td>3.60</td>\n",
       "      <td>2.50</td>\n",
       "      <td>105.14</td>\n",
       "      <td>18423.06</td>\n",
       "    </tr>\n",
       "    <tr>\n",
       "      <th>25</th>\n",
       "      <td>26</td>\n",
       "      <td>2019</td>\n",
       "      <td>3.84</td>\n",
       "      <td>1.81</td>\n",
       "      <td>3.60</td>\n",
       "      <td>3.20</td>\n",
       "      <td>101.46</td>\n",
       "      <td>16142.70</td>\n",
       "    </tr>\n",
       "  </tbody>\n",
       "</table>\n",
       "</div>"
      ],
      "text/plain": [
       "     Week No  Year  Mortgage Rate  Treasury Yield  Unemployment Rate  GDP  \\\n",
       "184       28  2022           5.50            2.20               3.60 2.50   \n",
       "25        26  2019           3.84            1.81               3.60 3.20   \n",
       "\n",
       "     Consumer Confidence Index  Disposable Income  \n",
       "184                     105.14           18423.06  \n",
       "25                      101.46           16142.70  "
      ]
     },
     "execution_count": 72,
     "metadata": {},
     "output_type": "execute_result"
    }
   ],
   "source": [
    "X_train.head(2)"
   ]
  },
  {
   "cell_type": "code",
   "execution_count": 73,
   "id": "5cd2ba63",
   "metadata": {},
   "outputs": [
    {
     "data": {
      "text/html": [
       "<div>\n",
       "<style scoped>\n",
       "    .dataframe tbody tr th:only-of-type {\n",
       "        vertical-align: middle;\n",
       "    }\n",
       "\n",
       "    .dataframe tbody tr th {\n",
       "        vertical-align: top;\n",
       "    }\n",
       "\n",
       "    .dataframe thead th {\n",
       "        text-align: right;\n",
       "    }\n",
       "</style>\n",
       "<table border=\"1\" class=\"dataframe\">\n",
       "  <thead>\n",
       "    <tr style=\"text-align: right;\">\n",
       "      <th></th>\n",
       "      <th>Week No</th>\n",
       "      <th>Year</th>\n",
       "      <th>Mortgage Rate</th>\n",
       "      <th>Treasury Yield</th>\n",
       "      <th>Unemployment Rate</th>\n",
       "      <th>GDP</th>\n",
       "      <th>Consumer Confidence Index</th>\n",
       "      <th>Disposable Income</th>\n",
       "    </tr>\n",
       "  </thead>\n",
       "  <tbody>\n",
       "    <tr>\n",
       "      <th>0</th>\n",
       "      <td>0.17</td>\n",
       "      <td>1.66</td>\n",
       "      <td>2.87</td>\n",
       "      <td>1.43</td>\n",
       "      <td>-0.69</td>\n",
       "      <td>-0.00</td>\n",
       "      <td>1.58</td>\n",
       "      <td>0.78</td>\n",
       "    </tr>\n",
       "    <tr>\n",
       "      <th>1</th>\n",
       "      <td>0.04</td>\n",
       "      <td>-1.25</td>\n",
       "      <td>0.50</td>\n",
       "      <td>0.59</td>\n",
       "      <td>-0.69</td>\n",
       "      <td>0.06</td>\n",
       "      <td>0.28</td>\n",
       "      <td>-1.23</td>\n",
       "    </tr>\n",
       "  </tbody>\n",
       "</table>\n",
       "</div>"
      ],
      "text/plain": [
       "   Week No  Year  Mortgage Rate  Treasury Yield  Unemployment Rate   GDP  \\\n",
       "0     0.17  1.66           2.87            1.43              -0.69 -0.00   \n",
       "1     0.04 -1.25           0.50            0.59              -0.69  0.06   \n",
       "\n",
       "   Consumer Confidence Index  Disposable Income  \n",
       "0                       1.58               0.78  \n",
       "1                       0.28              -1.23  "
      ]
     },
     "execution_count": 73,
     "metadata": {},
     "output_type": "execute_result"
    }
   ],
   "source": [
    "X_train_std.head(2)"
   ]
  },
  {
   "cell_type": "code",
   "execution_count": 74,
   "id": "aa52418b",
   "metadata": {},
   "outputs": [
    {
     "data": {
      "text/plain": [
       "(168, 8)"
      ]
     },
     "execution_count": 74,
     "metadata": {},
     "output_type": "execute_result"
    }
   ],
   "source": [
    "X_train.shape"
   ]
  },
  {
   "cell_type": "code",
   "execution_count": 75,
   "id": "e5840f4f",
   "metadata": {},
   "outputs": [
    {
     "name": "stdout",
     "output_type": "stream",
     "text": [
      "running in test mode\n"
     ]
    }
   ],
   "source": [
    "X_test_std = StandardScaler_of_data('test',X_train,X_test)"
   ]
  },
  {
   "cell_type": "code",
   "execution_count": 76,
   "id": "58201612",
   "metadata": {},
   "outputs": [
    {
     "data": {
      "text/plain": [
       "(19, 8)"
      ]
     },
     "execution_count": 76,
     "metadata": {},
     "output_type": "execute_result"
    }
   ],
   "source": [
    "X_test.shape"
   ]
  },
  {
   "cell_type": "code",
   "execution_count": 77,
   "id": "0e74353a",
   "metadata": {},
   "outputs": [
    {
     "data": {
      "text/html": [
       "<div>\n",
       "<style scoped>\n",
       "    .dataframe tbody tr th:only-of-type {\n",
       "        vertical-align: middle;\n",
       "    }\n",
       "\n",
       "    .dataframe tbody tr th {\n",
       "        vertical-align: top;\n",
       "    }\n",
       "\n",
       "    .dataframe thead th {\n",
       "        text-align: right;\n",
       "    }\n",
       "</style>\n",
       "<table border=\"1\" class=\"dataframe\">\n",
       "  <thead>\n",
       "    <tr style=\"text-align: right;\">\n",
       "      <th></th>\n",
       "      <th>Week No</th>\n",
       "      <th>Year</th>\n",
       "      <th>Mortgage Rate</th>\n",
       "      <th>Treasury Yield</th>\n",
       "      <th>Unemployment Rate</th>\n",
       "      <th>GDP</th>\n",
       "      <th>Consumer Confidence Index</th>\n",
       "      <th>Disposable Income</th>\n",
       "    </tr>\n",
       "  </thead>\n",
       "  <tbody>\n",
       "    <tr>\n",
       "      <th>53</th>\n",
       "      <td>2</td>\n",
       "      <td>2020</td>\n",
       "      <td>3.72</td>\n",
       "      <td>1.66</td>\n",
       "      <td>3.50</td>\n",
       "      <td>-5.10</td>\n",
       "      <td>101.64</td>\n",
       "      <td>16622.60</td>\n",
       "    </tr>\n",
       "    <tr>\n",
       "      <th>69</th>\n",
       "      <td>18</td>\n",
       "      <td>2020</td>\n",
       "      <td>3.33</td>\n",
       "      <td>0.89</td>\n",
       "      <td>14.70</td>\n",
       "      <td>-31.20</td>\n",
       "      <td>98.96</td>\n",
       "      <td>18919.40</td>\n",
       "    </tr>\n",
       "  </tbody>\n",
       "</table>\n",
       "</div>"
      ],
      "text/plain": [
       "    Week No  Year  Mortgage Rate  Treasury Yield  Unemployment Rate    GDP  \\\n",
       "53        2  2020           3.72            1.66               3.50  -5.10   \n",
       "69       18  2020           3.33            0.89              14.70 -31.20   \n",
       "\n",
       "    Consumer Confidence Index  Disposable Income  \n",
       "53                     101.64           16622.60  \n",
       "69                      98.96           18919.40  "
      ]
     },
     "execution_count": 77,
     "metadata": {},
     "output_type": "execute_result"
    }
   ],
   "source": [
    "X_test.head(2)"
   ]
  },
  {
   "cell_type": "code",
   "execution_count": 78,
   "id": "58917815",
   "metadata": {},
   "outputs": [
    {
     "data": {
      "text/html": [
       "<div>\n",
       "<style scoped>\n",
       "    .dataframe tbody tr th:only-of-type {\n",
       "        vertical-align: middle;\n",
       "    }\n",
       "\n",
       "    .dataframe tbody tr th {\n",
       "        vertical-align: top;\n",
       "    }\n",
       "\n",
       "    .dataframe thead th {\n",
       "        text-align: right;\n",
       "    }\n",
       "</style>\n",
       "<table border=\"1\" class=\"dataframe\">\n",
       "  <thead>\n",
       "    <tr style=\"text-align: right;\">\n",
       "      <th></th>\n",
       "      <th>Week No</th>\n",
       "      <th>Year</th>\n",
       "      <th>Mortgage Rate</th>\n",
       "      <th>Treasury Yield</th>\n",
       "      <th>Unemployment Rate</th>\n",
       "      <th>GDP</th>\n",
       "      <th>Consumer Confidence Index</th>\n",
       "      <th>Disposable Income</th>\n",
       "    </tr>\n",
       "  </thead>\n",
       "  <tbody>\n",
       "    <tr>\n",
       "      <th>0</th>\n",
       "      <td>-1.59</td>\n",
       "      <td>-0.28</td>\n",
       "      <td>0.33</td>\n",
       "      <td>0.26</td>\n",
       "      <td>-0.73</td>\n",
       "      <td>-0.61</td>\n",
       "      <td>0.35</td>\n",
       "      <td>-0.81</td>\n",
       "    </tr>\n",
       "    <tr>\n",
       "      <th>1</th>\n",
       "      <td>-0.51</td>\n",
       "      <td>-0.28</td>\n",
       "      <td>-0.23</td>\n",
       "      <td>-1.40</td>\n",
       "      <td>3.49</td>\n",
       "      <td>-2.72</td>\n",
       "      <td>-0.60</td>\n",
       "      <td>1.22</td>\n",
       "    </tr>\n",
       "  </tbody>\n",
       "</table>\n",
       "</div>"
      ],
      "text/plain": [
       "   Week No  Year  Mortgage Rate  Treasury Yield  Unemployment Rate   GDP  \\\n",
       "0    -1.59 -0.28           0.33            0.26              -0.73 -0.61   \n",
       "1    -0.51 -0.28          -0.23           -1.40               3.49 -2.72   \n",
       "\n",
       "   Consumer Confidence Index  Disposable Income  \n",
       "0                       0.35              -0.81  \n",
       "1                      -0.60               1.22  "
      ]
     },
     "execution_count": 78,
     "metadata": {},
     "output_type": "execute_result"
    }
   ],
   "source": [
    "X_test_std.head(2) "
   ]
  },
  {
   "cell_type": "code",
   "execution_count": 79,
   "id": "e31ef50f",
   "metadata": {},
   "outputs": [],
   "source": [
    "validation_table_train_upd_new = model_validation('train',X_train_std,X_test_std,y_train,y_test)"
   ]
  },
  {
   "cell_type": "code",
   "execution_count": 80,
   "id": "d80bde2d",
   "metadata": {},
   "outputs": [
    {
     "data": {
      "text/html": [
       "<div>\n",
       "<style scoped>\n",
       "    .dataframe tbody tr th:only-of-type {\n",
       "        vertical-align: middle;\n",
       "    }\n",
       "\n",
       "    .dataframe tbody tr th {\n",
       "        vertical-align: top;\n",
       "    }\n",
       "\n",
       "    .dataframe thead th {\n",
       "        text-align: right;\n",
       "    }\n",
       "</style>\n",
       "<table border=\"1\" class=\"dataframe\">\n",
       "  <thead>\n",
       "    <tr style=\"text-align: right;\">\n",
       "      <th></th>\n",
       "      <th>model name</th>\n",
       "      <th>mae</th>\n",
       "      <th>mse</th>\n",
       "      <th>rmse</th>\n",
       "      <th>mape</th>\n",
       "      <th>rsquare</th>\n",
       "    </tr>\n",
       "  </thead>\n",
       "  <tbody>\n",
       "    <tr>\n",
       "      <th>0</th>\n",
       "      <td>&lt;class 'sklearn.linear_model._base.LinearRegre...</td>\n",
       "      <td>47.95</td>\n",
       "      <td>10085.82</td>\n",
       "      <td>100.43</td>\n",
       "      <td>36.88</td>\n",
       "      <td>0.56</td>\n",
       "    </tr>\n",
       "    <tr>\n",
       "      <th>1</th>\n",
       "      <td>&lt;class 'sklearn.linear_model._coordinate_desce...</td>\n",
       "      <td>47.68</td>\n",
       "      <td>10100.43</td>\n",
       "      <td>100.50</td>\n",
       "      <td>36.36</td>\n",
       "      <td>0.56</td>\n",
       "    </tr>\n",
       "    <tr>\n",
       "      <th>2</th>\n",
       "      <td>&lt;class 'sklearn.linear_model._ridge.Ridge'&gt;</td>\n",
       "      <td>47.81</td>\n",
       "      <td>10089.00</td>\n",
       "      <td>100.44</td>\n",
       "      <td>36.57</td>\n",
       "      <td>0.56</td>\n",
       "    </tr>\n",
       "    <tr>\n",
       "      <th>3</th>\n",
       "      <td>&lt;class 'sklearn.tree._classes.DecisionTreeRegr...</td>\n",
       "      <td>0.00</td>\n",
       "      <td>0.00</td>\n",
       "      <td>0.00</td>\n",
       "      <td>0.00</td>\n",
       "      <td>1.00</td>\n",
       "    </tr>\n",
       "    <tr>\n",
       "      <th>4</th>\n",
       "      <td>&lt;class 'sklearn.ensemble._forest.RandomForestR...</td>\n",
       "      <td>10.46</td>\n",
       "      <td>1405.34</td>\n",
       "      <td>37.49</td>\n",
       "      <td>6.00</td>\n",
       "      <td>0.94</td>\n",
       "    </tr>\n",
       "    <tr>\n",
       "      <th>5</th>\n",
       "      <td>&lt;class 'sklearn.ensemble._bagging.BaggingRegre...</td>\n",
       "      <td>11.11</td>\n",
       "      <td>2444.99</td>\n",
       "      <td>49.45</td>\n",
       "      <td>5.75</td>\n",
       "      <td>0.89</td>\n",
       "    </tr>\n",
       "  </tbody>\n",
       "</table>\n",
       "</div>"
      ],
      "text/plain": [
       "                                          model name   mae      mse   rmse  \\\n",
       "0  <class 'sklearn.linear_model._base.LinearRegre... 47.95 10085.82 100.43   \n",
       "1  <class 'sklearn.linear_model._coordinate_desce... 47.68 10100.43 100.50   \n",
       "2        <class 'sklearn.linear_model._ridge.Ridge'> 47.81 10089.00 100.44   \n",
       "3  <class 'sklearn.tree._classes.DecisionTreeRegr...  0.00     0.00   0.00   \n",
       "4  <class 'sklearn.ensemble._forest.RandomForestR... 10.46  1405.34  37.49   \n",
       "5  <class 'sklearn.ensemble._bagging.BaggingRegre... 11.11  2444.99  49.45   \n",
       "\n",
       "   mape  rsquare  \n",
       "0 36.88     0.56  \n",
       "1 36.36     0.56  \n",
       "2 36.57     0.56  \n",
       "3  0.00     1.00  \n",
       "4  6.00     0.94  \n",
       "5  5.75     0.89  "
      ]
     },
     "execution_count": 80,
     "metadata": {},
     "output_type": "execute_result"
    }
   ],
   "source": [
    "validation_table_train_upd_new"
   ]
  },
  {
   "cell_type": "code",
   "execution_count": 81,
   "id": "ed921c8b",
   "metadata": {},
   "outputs": [],
   "source": [
    "validation_table_test_upd_new = model_validation('test',X_train_std,X_test_std,y_train,y_test)"
   ]
  },
  {
   "cell_type": "code",
   "execution_count": 82,
   "id": "8fa2340c",
   "metadata": {},
   "outputs": [
    {
     "data": {
      "text/html": [
       "<div>\n",
       "<style scoped>\n",
       "    .dataframe tbody tr th:only-of-type {\n",
       "        vertical-align: middle;\n",
       "    }\n",
       "\n",
       "    .dataframe tbody tr th {\n",
       "        vertical-align: top;\n",
       "    }\n",
       "\n",
       "    .dataframe thead th {\n",
       "        text-align: right;\n",
       "    }\n",
       "</style>\n",
       "<table border=\"1\" class=\"dataframe\">\n",
       "  <thead>\n",
       "    <tr style=\"text-align: right;\">\n",
       "      <th></th>\n",
       "      <th>model name</th>\n",
       "      <th>mae</th>\n",
       "      <th>mse</th>\n",
       "      <th>rmse</th>\n",
       "      <th>mape</th>\n",
       "      <th>rsquare</th>\n",
       "    </tr>\n",
       "  </thead>\n",
       "  <tbody>\n",
       "    <tr>\n",
       "      <th>0</th>\n",
       "      <td>&lt;class 'sklearn.linear_model._base.LinearRegre...</td>\n",
       "      <td>91.91</td>\n",
       "      <td>17441.19</td>\n",
       "      <td>132.07</td>\n",
       "      <td>63.72</td>\n",
       "      <td>0.72</td>\n",
       "    </tr>\n",
       "    <tr>\n",
       "      <th>1</th>\n",
       "      <td>&lt;class 'sklearn.linear_model._coordinate_desce...</td>\n",
       "      <td>93.60</td>\n",
       "      <td>18222.44</td>\n",
       "      <td>134.99</td>\n",
       "      <td>64.16</td>\n",
       "      <td>0.71</td>\n",
       "    </tr>\n",
       "    <tr>\n",
       "      <th>2</th>\n",
       "      <td>&lt;class 'sklearn.linear_model._ridge.Ridge'&gt;</td>\n",
       "      <td>92.51</td>\n",
       "      <td>17793.21</td>\n",
       "      <td>133.39</td>\n",
       "      <td>63.53</td>\n",
       "      <td>0.72</td>\n",
       "    </tr>\n",
       "    <tr>\n",
       "      <th>3</th>\n",
       "      <td>&lt;class 'sklearn.tree._classes.DecisionTreeRegr...</td>\n",
       "      <td>83.63</td>\n",
       "      <td>52491.53</td>\n",
       "      <td>229.11</td>\n",
       "      <td>47.66</td>\n",
       "      <td>0.17</td>\n",
       "    </tr>\n",
       "    <tr>\n",
       "      <th>4</th>\n",
       "      <td>&lt;class 'sklearn.ensemble._forest.RandomForestR...</td>\n",
       "      <td>51.93</td>\n",
       "      <td>8814.38</td>\n",
       "      <td>93.88</td>\n",
       "      <td>23.17</td>\n",
       "      <td>0.86</td>\n",
       "    </tr>\n",
       "    <tr>\n",
       "      <th>5</th>\n",
       "      <td>&lt;class 'sklearn.ensemble._bagging.BaggingRegre...</td>\n",
       "      <td>45.30</td>\n",
       "      <td>8974.34</td>\n",
       "      <td>94.73</td>\n",
       "      <td>17.05</td>\n",
       "      <td>0.86</td>\n",
       "    </tr>\n",
       "  </tbody>\n",
       "</table>\n",
       "</div>"
      ],
      "text/plain": [
       "                                          model name   mae      mse   rmse  \\\n",
       "0  <class 'sklearn.linear_model._base.LinearRegre... 91.91 17441.19 132.07   \n",
       "1  <class 'sklearn.linear_model._coordinate_desce... 93.60 18222.44 134.99   \n",
       "2        <class 'sklearn.linear_model._ridge.Ridge'> 92.51 17793.21 133.39   \n",
       "3  <class 'sklearn.tree._classes.DecisionTreeRegr... 83.63 52491.53 229.11   \n",
       "4  <class 'sklearn.ensemble._forest.RandomForestR... 51.93  8814.38  93.88   \n",
       "5  <class 'sklearn.ensemble._bagging.BaggingRegre... 45.30  8974.34  94.73   \n",
       "\n",
       "   mape  rsquare  \n",
       "0 63.72     0.72  \n",
       "1 64.16     0.71  \n",
       "2 63.53     0.72  \n",
       "3 47.66     0.17  \n",
       "4 23.17     0.86  \n",
       "5 17.05     0.86  "
      ]
     },
     "execution_count": 82,
     "metadata": {},
     "output_type": "execute_result"
    }
   ],
   "source": [
    "validation_table_test_upd_new"
   ]
  },
  {
   "cell_type": "code",
   "execution_count": 83,
   "id": "257fad74",
   "metadata": {},
   "outputs": [
    {
     "data": {
      "text/plain": [
       "GridSearchCV(cv=5, estimator=Ridge(),\n",
       "             param_grid={'alpha': [1e-15, 1e-10, 1e-08, 0.001, 0.01, 1, 5, 10,\n",
       "                                   20, 30, 35, 40, 45, 50, 55, 100]},\n",
       "             scoring='neg_mean_squared_error')"
      ]
     },
     "execution_count": 83,
     "metadata": {},
     "output_type": "execute_result"
    }
   ],
   "source": [
    "from sklearn.model_selection import GridSearchCV\n",
    "\n",
    "ridge=Ridge()\n",
    "parameters={'alpha':[1e-15,1e-10,1e-8,1e-3,1e-2,1,5,10,20,30,35,40,45,50,55,100]}\n",
    "ridge_regressor=GridSearchCV(ridge,parameters,scoring='neg_mean_squared_error',cv=5)\n",
    "ridge_regressor.fit(x,y)"
   ]
  },
  {
   "cell_type": "code",
   "execution_count": 84,
   "id": "ee77e61f",
   "metadata": {},
   "outputs": [
    {
     "name": "stdout",
     "output_type": "stream",
     "text": [
      "{'alpha': 5}\n",
      "-35037.31931807338\n"
     ]
    }
   ],
   "source": [
    "print(ridge_regressor.best_params_)\n",
    "print(ridge_regressor.best_score_)"
   ]
  },
  {
   "cell_type": "code",
   "execution_count": 85,
   "id": "feaa2d2a",
   "metadata": {},
   "outputs": [
    {
     "name": "stderr",
     "output_type": "stream",
     "text": [
      "C:\\Users\\gn221m\\Anaconda3\\lib\\site-packages\\sklearn\\linear_model\\_coordinate_descent.py:648: ConvergenceWarning: Objective did not converge. You might want to increase the number of iterations, check the scale of the features or consider increasing regularisation. Duality gap: 4.360e+05, tolerance: 4.185e+02\n",
      "  coef_, l1_reg, l2_reg, X, y, max_iter, tol, rng, random, positive\n",
      "C:\\Users\\gn221m\\Anaconda3\\lib\\site-packages\\sklearn\\linear_model\\_coordinate_descent.py:648: ConvergenceWarning: Objective did not converge. You might want to increase the number of iterations, check the scale of the features or consider increasing regularisation. Duality gap: 9.656e+05, tolerance: 5.036e+02\n",
      "  coef_, l1_reg, l2_reg, X, y, max_iter, tol, rng, random, positive\n",
      "C:\\Users\\gn221m\\Anaconda3\\lib\\site-packages\\sklearn\\linear_model\\_coordinate_descent.py:648: ConvergenceWarning: Objective did not converge. You might want to increase the number of iterations, check the scale of the features or consider increasing regularisation. Duality gap: 9.773e+05, tolerance: 4.945e+02\n",
      "  coef_, l1_reg, l2_reg, X, y, max_iter, tol, rng, random, positive\n",
      "C:\\Users\\gn221m\\Anaconda3\\lib\\site-packages\\sklearn\\linear_model\\_coordinate_descent.py:648: ConvergenceWarning: Objective did not converge. You might want to increase the number of iterations, check the scale of the features or consider increasing regularisation. Duality gap: 9.677e+05, tolerance: 5.109e+02\n",
      "  coef_, l1_reg, l2_reg, X, y, max_iter, tol, rng, random, positive\n",
      "C:\\Users\\gn221m\\Anaconda3\\lib\\site-packages\\sklearn\\linear_model\\_coordinate_descent.py:648: ConvergenceWarning: Objective did not converge. You might want to increase the number of iterations, check the scale of the features or consider increasing regularisation. Duality gap: 4.969e+05, tolerance: 1.021e+02\n",
      "  coef_, l1_reg, l2_reg, X, y, max_iter, tol, rng, random, positive\n"
     ]
    },
    {
     "name": "stdout",
     "output_type": "stream",
     "text": [
      "{'alpha': 5}\n",
      "-31610.454959048173\n"
     ]
    }
   ],
   "source": [
    "lasso=Lasso()\n",
    "parameters={'alpha':[1e-15,1e-10,1e-8,1e-3,1e-2,1,5,10,20,30,35,40,45,50,55,100]}\n",
    "lasso_regressor=GridSearchCV(lasso,parameters,scoring='neg_mean_squared_error',cv=5)\n",
    "\n",
    "lasso_regressor.fit(x,y)\n",
    "print(lasso_regressor.best_params_)\n",
    "print(lasso_regressor.best_score_)"
   ]
  },
  {
   "cell_type": "code",
   "execution_count": 86,
   "id": "69ce7b3b",
   "metadata": {},
   "outputs": [
    {
     "name": "stdout",
     "output_type": "stream",
     "text": [
      "Train Accuracy: 0.9598736785414316\n",
      "Test Accuracy: 0.8564377056020609\n"
     ]
    }
   ],
   "source": [
    "model = RandomForestRegressor\n",
    "model = RandomForestRegressor()\n",
    "model.fit(X_train, y_train)\n",
    "print(\"Train Accuracy:\",model.score(X_train, y_train))\n",
    "print(\"Test Accuracy:\",model.score(X_test, y_test))"
   ]
  },
  {
   "cell_type": "code",
   "execution_count": 87,
   "id": "765b3a61",
   "metadata": {},
   "outputs": [],
   "source": [
    "import pickle"
   ]
  },
  {
   "cell_type": "code",
   "execution_count": 88,
   "id": "b97cddbe",
   "metadata": {},
   "outputs": [],
   "source": [
    "# save the model to disk\n",
    "filename = 'RF_model.sav'\n",
    "pickle.dump(model, open(filename, 'wb'))"
   ]
  },
  {
   "cell_type": "code",
   "execution_count": 89,
   "id": "729b5cef",
   "metadata": {},
   "outputs": [
    {
     "data": {
      "text/html": [
       "<div>\n",
       "<style scoped>\n",
       "    .dataframe tbody tr th:only-of-type {\n",
       "        vertical-align: middle;\n",
       "    }\n",
       "\n",
       "    .dataframe tbody tr th {\n",
       "        vertical-align: top;\n",
       "    }\n",
       "\n",
       "    .dataframe thead th {\n",
       "        text-align: right;\n",
       "    }\n",
       "</style>\n",
       "<table border=\"1\" class=\"dataframe\">\n",
       "  <thead>\n",
       "    <tr style=\"text-align: right;\">\n",
       "      <th></th>\n",
       "      <th>Week No</th>\n",
       "      <th>Year</th>\n",
       "      <th>Mortgage Rate</th>\n",
       "      <th>Treasury Yield</th>\n",
       "      <th>Unemployment Rate</th>\n",
       "      <th>GDP</th>\n",
       "      <th>Consumer Confidence Index</th>\n",
       "      <th>Disposable Income</th>\n",
       "    </tr>\n",
       "  </thead>\n",
       "  <tbody>\n",
       "    <tr>\n",
       "      <th>184</th>\n",
       "      <td>28</td>\n",
       "      <td>2022</td>\n",
       "      <td>5.50</td>\n",
       "      <td>2.20</td>\n",
       "      <td>3.60</td>\n",
       "      <td>2.50</td>\n",
       "      <td>105.14</td>\n",
       "      <td>18423.06</td>\n",
       "    </tr>\n",
       "    <tr>\n",
       "      <th>25</th>\n",
       "      <td>26</td>\n",
       "      <td>2019</td>\n",
       "      <td>3.84</td>\n",
       "      <td>1.81</td>\n",
       "      <td>3.60</td>\n",
       "      <td>3.20</td>\n",
       "      <td>101.46</td>\n",
       "      <td>16142.70</td>\n",
       "    </tr>\n",
       "  </tbody>\n",
       "</table>\n",
       "</div>"
      ],
      "text/plain": [
       "     Week No  Year  Mortgage Rate  Treasury Yield  Unemployment Rate  GDP  \\\n",
       "184       28  2022           5.50            2.20               3.60 2.50   \n",
       "25        26  2019           3.84            1.81               3.60 3.20   \n",
       "\n",
       "     Consumer Confidence Index  Disposable Income  \n",
       "184                     105.14           18423.06  \n",
       "25                      101.46           16142.70  "
      ]
     },
     "execution_count": 89,
     "metadata": {},
     "output_type": "execute_result"
    }
   ],
   "source": [
    "X_train.head(2)"
   ]
  },
  {
   "cell_type": "code",
   "execution_count": 90,
   "id": "b8f5b574",
   "metadata": {},
   "outputs": [
    {
     "data": {
      "text/plain": [
       "Index(['Week No', 'Year', 'Mortgage Rate', 'Treasury Yield',\n",
       "       'Unemployment Rate', 'GDP', 'Consumer Confidence Index',\n",
       "       'Disposable Income'],\n",
       "      dtype='object')"
      ]
     },
     "execution_count": 90,
     "metadata": {},
     "output_type": "execute_result"
    }
   ],
   "source": [
    "X_train.columns"
   ]
  },
  {
   "cell_type": "code",
   "execution_count": 91,
   "id": "b9d6b30b",
   "metadata": {},
   "outputs": [
    {
     "data": {
      "text/html": [
       "<div>\n",
       "<style scoped>\n",
       "    .dataframe tbody tr th:only-of-type {\n",
       "        vertical-align: middle;\n",
       "    }\n",
       "\n",
       "    .dataframe tbody tr th {\n",
       "        vertical-align: top;\n",
       "    }\n",
       "\n",
       "    .dataframe thead th {\n",
       "        text-align: right;\n",
       "    }\n",
       "</style>\n",
       "<table border=\"1\" class=\"dataframe\">\n",
       "  <thead>\n",
       "    <tr style=\"text-align: right;\">\n",
       "      <th></th>\n",
       "      <th>Date</th>\n",
       "      <th>Week No</th>\n",
       "      <th>Month No</th>\n",
       "      <th>Year</th>\n",
       "      <th>Purchase</th>\n",
       "      <th>Mortgage Rate</th>\n",
       "      <th>Inflation</th>\n",
       "      <th>Housing Price Index</th>\n",
       "      <th>Treasury Yield</th>\n",
       "      <th>Unemployment Rate</th>\n",
       "      <th>GDP</th>\n",
       "      <th>Business Confidence Index</th>\n",
       "      <th>Consumer Confidence Index</th>\n",
       "      <th>Initial Unemployment Claim</th>\n",
       "      <th>Disposable Income</th>\n",
       "    </tr>\n",
       "  </thead>\n",
       "  <tbody>\n",
       "    <tr>\n",
       "      <th>187</th>\n",
       "      <td>2022-08-01</td>\n",
       "      <td>31</td>\n",
       "      <td>8</td>\n",
       "      <td>2022</td>\n",
       "      <td>NaN</td>\n",
       "      <td>5.41</td>\n",
       "      <td>9.10</td>\n",
       "      <td>274.25</td>\n",
       "      <td>2.38</td>\n",
       "      <td>3.60</td>\n",
       "      <td>2.50</td>\n",
       "      <td>96.60</td>\n",
       "      <td>105.14</td>\n",
       "      <td>213138.56</td>\n",
       "      <td>18423.06</td>\n",
       "    </tr>\n",
       "    <tr>\n",
       "      <th>188</th>\n",
       "      <td>2022-08-08</td>\n",
       "      <td>32</td>\n",
       "      <td>8</td>\n",
       "      <td>2022</td>\n",
       "      <td>NaN</td>\n",
       "      <td>5.41</td>\n",
       "      <td>9.10</td>\n",
       "      <td>274.25</td>\n",
       "      <td>2.38</td>\n",
       "      <td>3.60</td>\n",
       "      <td>2.50</td>\n",
       "      <td>96.60</td>\n",
       "      <td>105.14</td>\n",
       "      <td>213138.56</td>\n",
       "      <td>18423.06</td>\n",
       "    </tr>\n",
       "  </tbody>\n",
       "</table>\n",
       "</div>"
      ],
      "text/plain": [
       "          Date  Week No  Month No  Year  Purchase  Mortgage Rate  Inflation  \\\n",
       "187 2022-08-01       31         8  2022       NaN           5.41       9.10   \n",
       "188 2022-08-08       32         8  2022       NaN           5.41       9.10   \n",
       "\n",
       "     Housing Price Index  Treasury Yield  Unemployment Rate  GDP  \\\n",
       "187               274.25            2.38               3.60 2.50   \n",
       "188               274.25            2.38               3.60 2.50   \n",
       "\n",
       "     Business Confidence Index  Consumer Confidence Index  \\\n",
       "187                      96.60                     105.14   \n",
       "188                      96.60                     105.14   \n",
       "\n",
       "     Initial Unemployment Claim  Disposable Income  \n",
       "187                   213138.56           18423.06  \n",
       "188                   213138.56           18423.06  "
      ]
     },
     "execution_count": 91,
     "metadata": {},
     "output_type": "execute_result"
    }
   ],
   "source": [
    "future_data.head(2)"
   ]
  },
  {
   "cell_type": "code",
   "execution_count": 92,
   "id": "ea04df49",
   "metadata": {},
   "outputs": [],
   "source": [
    "pred_data = future_data[['Week No', 'Year', 'Mortgage Rate', 'Treasury Yield',\n",
    "       'Unemployment Rate', 'GDP', 'Consumer Confidence Index',\n",
    "       'Disposable Income']]"
   ]
  },
  {
   "cell_type": "code",
   "execution_count": 93,
   "id": "ab71be70",
   "metadata": {},
   "outputs": [],
   "source": [
    "def predictions_on_future_data(future_data):\n",
    "    pred_data = future_data[['Week No', 'Year', 'Mortgage Rate', 'Treasury Yield',\n",
    "       'Unemployment Rate', 'GDP', 'Consumer Confidence Index',\n",
    "       'Disposable Income']]\n",
    "    filename = 'RF_model.sav'\n",
    "    rf_model = pickle.load(open(filename, 'rb'))\n",
    "    y_pred = rf_model.predict(pred_data)\n",
    "    print(y_pred)\n",
    "    future_data['Purchase_Pred'] = y_pred\n",
    "    \n",
    "    return future_data"
   ]
  },
  {
   "cell_type": "code",
   "execution_count": 94,
   "id": "e1c509db",
   "metadata": {},
   "outputs": [
    {
     "name": "stdout",
     "output_type": "stream",
     "text": [
      "[706.04 706.04 706.04 706.04 706.04 706.04 706.04 706.04 706.04]\n"
     ]
    },
    {
     "name": "stderr",
     "output_type": "stream",
     "text": [
      "C:\\Users\\gn221m\\Anaconda3\\lib\\site-packages\\ipykernel_launcher.py:9: SettingWithCopyWarning: \n",
      "A value is trying to be set on a copy of a slice from a DataFrame.\n",
      "Try using .loc[row_indexer,col_indexer] = value instead\n",
      "\n",
      "See the caveats in the documentation: https://pandas.pydata.org/pandas-docs/stable/user_guide/indexing.html#returning-a-view-versus-a-copy\n",
      "  if __name__ == '__main__':\n"
     ]
    }
   ],
   "source": [
    "preds = predictions_on_future_data(future_data)"
   ]
  },
  {
   "cell_type": "code",
   "execution_count": 95,
   "id": "e9a4b253",
   "metadata": {},
   "outputs": [],
   "source": [
    "preds.to_excel(\"predictions_on_future_data.xlsx\",index=False)"
   ]
  },
  {
   "cell_type": "code",
   "execution_count": 96,
   "id": "73daf8e9",
   "metadata": {},
   "outputs": [
    {
     "name": "stdout",
     "output_type": "stream",
     "text": [
      "{'n_estimators': [10, 20, 30, 40, 50, 60, 70, 80, 90, 100], 'criterion': ['mse', 'mae'], 'max_features': ['auto'], 'max_depth': [10, 20, 30, 40, 50, 60, 70, 80, 90, 100, 110, None], 'min_samples_split': [2, 4, 6], 'min_samples_leaf': [2, 4, 6], 'bootstrap': [True, False]}\n"
     ]
    }
   ],
   "source": [
    "# Number of trees in random forest\n",
    "n_estimators = [int(x) for x in np.linspace(start = 10, stop = 100, num = 10)]\n",
    "# Number of features to consider at every split\n",
    "max_features = ['auto']\n",
    "# Maximum number of levels in tree\n",
    "max_depth = [int(x) for x in np.linspace(10, 110, num = 11)]\n",
    "max_depth.append(None)\n",
    "# Minimum number of samples required to split a node\n",
    "min_samples_split = [2,4,6]\n",
    "# Minimum number of samples required at each leaf node\n",
    "min_samples_leaf = [2,4,6]\n",
    "# Method of selecting samples for training each tree\n",
    "bootstrap = [True, False]\n",
    "criterion = ['mse','mae']\n",
    "# Create the parameters grid\n",
    "\n",
    "param_grid = {'n_estimators': n_estimators,\n",
    "              'criterion': criterion,\n",
    "              'max_features': max_features,\n",
    "              'max_depth': max_depth,\n",
    "              'min_samples_split': min_samples_split,\n",
    "              'min_samples_leaf': min_samples_leaf,\n",
    "              'bootstrap': bootstrap}\n",
    "print(param_grid)"
   ]
  },
  {
   "cell_type": "code",
   "execution_count": 97,
   "id": "1f4a5e49",
   "metadata": {},
   "outputs": [],
   "source": [
    "from sklearn.model_selection import GridSearchCV\n",
    "# Create a based model\n",
    "rf = RandomForestRegressor()\n",
    "# Instantiate the grid search model\n",
    "grid_search = GridSearchCV(estimator = rf, param_grid = param_grid, \n",
    "                          cv = 3, n_jobs = -1, verbose = 2)"
   ]
  },
  {
   "cell_type": "code",
   "execution_count": 98,
   "id": "3f838508",
   "metadata": {},
   "outputs": [
    {
     "name": "stdout",
     "output_type": "stream",
     "text": [
      "Fitting 3 folds for each of 4320 candidates, totalling 12960 fits\n"
     ]
    },
    {
     "data": {
      "text/plain": [
       "GridSearchCV(cv=3, estimator=RandomForestRegressor(), n_jobs=-1,\n",
       "             param_grid={'bootstrap': [True, False],\n",
       "                         'criterion': ['mse', 'mae'],\n",
       "                         'max_depth': [10, 20, 30, 40, 50, 60, 70, 80, 90, 100,\n",
       "                                       110, None],\n",
       "                         'max_features': ['auto'],\n",
       "                         'min_samples_leaf': [2, 4, 6],\n",
       "                         'min_samples_split': [2, 4, 6],\n",
       "                         'n_estimators': [10, 20, 30, 40, 50, 60, 70, 80, 90,\n",
       "                                          100]},\n",
       "             verbose=2)"
      ]
     },
     "execution_count": 98,
     "metadata": {},
     "output_type": "execute_result"
    }
   ],
   "source": [
    "# Fit the grid search to the data\n",
    "grid_search.fit(X_train, y_train)"
   ]
  },
  {
   "cell_type": "code",
   "execution_count": 102,
   "id": "d8841902",
   "metadata": {},
   "outputs": [
    {
     "data": {
      "text/plain": [
       "{'bootstrap': False,\n",
       " 'criterion': 'mae',\n",
       " 'max_depth': 70,\n",
       " 'max_features': 'auto',\n",
       " 'min_samples_leaf': 4,\n",
       " 'min_samples_split': 4,\n",
       " 'n_estimators': 10}"
      ]
     },
     "execution_count": 102,
     "metadata": {},
     "output_type": "execute_result"
    }
   ],
   "source": [
    "grid_search.best_params_"
   ]
  },
  {
   "cell_type": "code",
   "execution_count": 104,
   "id": "c7552195",
   "metadata": {},
   "outputs": [],
   "source": [
    "rf_tuned = RandomForestRegressor(n_estimators=10,criterion='mae',max_features='auto', max_depth=70,min_samples_split=4,min_samples_leaf=4,bootstrap=False,n_jobs=-1)"
   ]
  },
  {
   "cell_type": "code",
   "execution_count": 105,
   "id": "208d461f",
   "metadata": {},
   "outputs": [
    {
     "name": "stdout",
     "output_type": "stream",
     "text": [
      "Train Accuracy: 0.7438707656352355\n",
      "Test Accuracy: 0.7509849587099265\n"
     ]
    }
   ],
   "source": [
    "rf_tuned.fit(X_train, y_train)\n",
    "print(\"Train Accuracy:\",rf_tuned.score(X_train, y_train))\n",
    "print(\"Test Accuracy:\",rf_tuned.score(X_test, y_test))"
   ]
  },
  {
   "cell_type": "code",
   "execution_count": 107,
   "id": "dc416811",
   "metadata": {},
   "outputs": [
    {
     "data": {
      "text/plain": [
       "array([0.07098615, 0.00309461, 0.61031514, 0.01679175, 0.03978354,\n",
       "       0.03312828, 0.01698637, 0.20891415])"
      ]
     },
     "execution_count": 107,
     "metadata": {},
     "output_type": "execute_result"
    }
   ],
   "source": [
    "rf_tuned.feature_importances_"
   ]
  },
  {
   "cell_type": "code",
   "execution_count": 108,
   "id": "e83650b8",
   "metadata": {},
   "outputs": [
    {
     "data": {
      "image/png": "[encoded data removed]",
      "text/plain": [
       "<Figure size 1080x432 with 1 Axes>"
      ]
     },
     "metadata": {
      "needs_background": "light"
     },
     "output_type": "display_data"
    },
    {
     "data": {
      "text/plain": [
       "['Week No',\n",
       " 'Year',\n",
       " 'Mortgage Rate',\n",
       " 'Treasury Yield',\n",
       " 'Unemployment Rate',\n",
       " 'GDP',\n",
       " 'Consumer Confidence Index',\n",
       " 'Disposable Income']"
      ]
     },
     "execution_count": 108,
     "metadata": {},
     "output_type": "execute_result"
    }
   ],
   "source": [
    "#Feature Importance\n",
    "importances = rf_tuned.feature_importances_\n",
    "indices = np.argsort(importances)\n",
    "features = X_train.columns\n",
    "plt.title('Feature Importances')\n",
    "plt.barh(range(len(indices)), importances[indices], color='b', align='center')\n",
    "plt.yticks(range(len(indices)), [features[i] for i in indices])\n",
    "plt.xlabel('Relative Importance')\n",
    "plt.show()\n",
    "list(features)"
   ]
  },
  {
   "cell_type": "code",
   "execution_count": 100,
   "id": "93c103c8",
   "metadata": {},
   "outputs": [],
   "source": [
    "def model_validation_rf(x,X_train,X_test,y_train,y_test):\n",
    "    validation_table=[]\n",
    "    models=[RandomForestRegressor]\n",
    "    for i in models:\n",
    "        rd=i(n_estimators=10,criterion='mse',max_features='auto', max_depth=40,min_samples_split=6,min_samples_leaf=4,bootstrap=False,n_jobs=-1)\n",
    "        rd.fit(X_train,y_train)\n",
    "        if x==\"train\":\n",
    "            rd.predict(X_train)\n",
    "            mae=mean_absolute_error(y_train.values,rd.predict(X_train))\n",
    "            mse=mean_squared_error(y_train.values,rd.predict(X_train))\n",
    "            rmse=np.sqrt(mean_squared_error(y_train.values,rd.predict(X_train)))\n",
    "            mape=(((abs(y_train.values-rd.predict(X_train))/y_train.values)*100).sum())*(1/y_train.shape[0])\n",
    "            rsquare=r2_score(y_train.values,rd.predict(X_train))\n",
    "            validation_table.append([i,mae,mse,rmse,mape,rsquare])\n",
    "        #validation_table=pd.DataFrame(validation_table_train)\n",
    "        #validation_table.columns=[\"model name\",\"mae\",\"mse\",\"rmse\",\"mape\",\"rsquare\"]\n",
    "        else:\n",
    "            rd.predict(X_test)\n",
    "            mae=mean_absolute_error(y_test.values,rd.predict(X_test))\n",
    "            mse=mean_squared_error(y_test.values,rd.predict(X_test))\n",
    "            rmse=np.sqrt(mean_squared_error(y_test.values,rd.predict(X_test)))\n",
    "            mape=(((abs(y_test.values-rd.predict(X_test))/y_test.values)*100).sum())*(1/y_test.shape[0])\n",
    "            rsquare=r2_score(y_test.values,rd.predict(X_test))\n",
    "            validation_table.append([i,mae,mse,rmse,mape,rsquare])\n",
    "            \n",
    "    validation_table=pd.DataFrame(validation_table)\n",
    "    validation_table.columns=[\"model name\",\"mae\",\"mse\",\"rmse\",\"mape\",\"rsquare\"]\n",
    "    return validation_table"
   ]
  },
  {
   "cell_type": "code",
   "execution_count": 101,
   "id": "b7c330b3",
   "metadata": {},
   "outputs": [],
   "source": [
    "val_table_rf_train = model_validation_rf('train',X_train,X_test,y_train,y_test)"
   ]
  },
  {
   "cell_type": "code",
   "execution_count": 102,
   "id": "ce5dae74",
   "metadata": {},
   "outputs": [
    {
     "data": {
      "text/html": [
       "<div>\n",
       "<style scoped>\n",
       "    .dataframe tbody tr th:only-of-type {\n",
       "        vertical-align: middle;\n",
       "    }\n",
       "\n",
       "    .dataframe tbody tr th {\n",
       "        vertical-align: top;\n",
       "    }\n",
       "\n",
       "    .dataframe thead th {\n",
       "        text-align: right;\n",
       "    }\n",
       "</style>\n",
       "<table border=\"1\" class=\"dataframe\">\n",
       "  <thead>\n",
       "    <tr style=\"text-align: right;\">\n",
       "      <th></th>\n",
       "      <th>model name</th>\n",
       "      <th>mae</th>\n",
       "      <th>mse</th>\n",
       "      <th>rmse</th>\n",
       "      <th>mape</th>\n",
       "      <th>rsquare</th>\n",
       "    </tr>\n",
       "  </thead>\n",
       "  <tbody>\n",
       "    <tr>\n",
       "      <th>0</th>\n",
       "      <td>&lt;class 'sklearn.ensemble._forest.RandomForestR...</td>\n",
       "      <td>18.08</td>\n",
       "      <td>4440.59</td>\n",
       "      <td>66.64</td>\n",
       "      <td>10.50</td>\n",
       "      <td>0.81</td>\n",
       "    </tr>\n",
       "  </tbody>\n",
       "</table>\n",
       "</div>"
      ],
      "text/plain": [
       "                                          model name   mae     mse  rmse  \\\n",
       "0  <class 'sklearn.ensemble._forest.RandomForestR... 18.08 4440.59 66.64   \n",
       "\n",
       "   mape  rsquare  \n",
       "0 10.50     0.81  "
      ]
     },
     "execution_count": 102,
     "metadata": {},
     "output_type": "execute_result"
    }
   ],
   "source": [
    "val_table_rf_train"
   ]
  },
  {
   "cell_type": "code",
   "execution_count": 103,
   "id": "4437d43e",
   "metadata": {},
   "outputs": [],
   "source": [
    "val_table_rf_test = model_validation_rf('test',X_train,X_test,y_train,y_test)"
   ]
  },
  {
   "cell_type": "code",
   "execution_count": 104,
   "id": "a1c31ce7",
   "metadata": {},
   "outputs": [
    {
     "data": {
      "text/html": [
       "<div>\n",
       "<style scoped>\n",
       "    .dataframe tbody tr th:only-of-type {\n",
       "        vertical-align: middle;\n",
       "    }\n",
       "\n",
       "    .dataframe tbody tr th {\n",
       "        vertical-align: top;\n",
       "    }\n",
       "\n",
       "    .dataframe thead th {\n",
       "        text-align: right;\n",
       "    }\n",
       "</style>\n",
       "<table border=\"1\" class=\"dataframe\">\n",
       "  <thead>\n",
       "    <tr style=\"text-align: right;\">\n",
       "      <th></th>\n",
       "      <th>model name</th>\n",
       "      <th>mae</th>\n",
       "      <th>mse</th>\n",
       "      <th>rmse</th>\n",
       "      <th>mape</th>\n",
       "      <th>rsquare</th>\n",
       "    </tr>\n",
       "  </thead>\n",
       "  <tbody>\n",
       "    <tr>\n",
       "      <th>0</th>\n",
       "      <td>&lt;class 'sklearn.ensemble._forest.RandomForestR...</td>\n",
       "      <td>56.20</td>\n",
       "      <td>10851.39</td>\n",
       "      <td>104.17</td>\n",
       "      <td>25.96</td>\n",
       "      <td>0.83</td>\n",
       "    </tr>\n",
       "  </tbody>\n",
       "</table>\n",
       "</div>"
      ],
      "text/plain": [
       "                                          model name   mae      mse   rmse  \\\n",
       "0  <class 'sklearn.ensemble._forest.RandomForestR... 56.20 10851.39 104.17   \n",
       "\n",
       "   mape  rsquare  \n",
       "0 25.96     0.83  "
      ]
     },
     "execution_count": 104,
     "metadata": {},
     "output_type": "execute_result"
    }
   ],
   "source": [
    "val_table_rf_test"
   ]
  },
  {
   "cell_type": "code",
   "execution_count": 105,
   "id": "7bceee57",
   "metadata": {},
   "outputs": [],
   "source": [
    "# save the model to disk\n",
    "filename = 'RF_tuned.sav'\n",
    "pickle.dump(rf_tuned, open(filename, 'wb'))"
   ]
  },
  {
   "cell_type": "code",
   "execution_count": 106,
   "id": "eda6e16d",
   "metadata": {},
   "outputs": [],
   "source": [
    "def predictions_on_future_data(future_data):\n",
    "    pred_data = future_data[['Week No', 'Year', 'Mortgage Rate', 'Treasury Yield',\n",
    "       'Unemployment Rate', 'GDP', 'Consumer Confidence Index',\n",
    "       'Disposable Income']]\n",
    "    filename = 'RF_tuned.sav'\n",
    "    rf_model = pickle.load(open(filename, 'rb'))\n",
    "    y_pred = rf_model.predict(pred_data)\n",
    "    print(y_pred)\n",
    "    future_data['Purchase_Pred'] = y_pred\n",
    "    \n",
    "    return future_data"
   ]
  },
  {
   "cell_type": "code",
   "execution_count": 107,
   "id": "823c5655",
   "metadata": {},
   "outputs": [
    {
     "name": "stdout",
     "output_type": "stream",
     "text": [
      "[681. 681. 681. 681. 681. 681. 681. 681. 681.]\n"
     ]
    },
    {
     "name": "stderr",
     "output_type": "stream",
     "text": [
      "C:\\Users\\gn221m\\Anaconda3\\lib\\site-packages\\ipykernel_launcher.py:9: SettingWithCopyWarning: \n",
      "A value is trying to be set on a copy of a slice from a DataFrame.\n",
      "Try using .loc[row_indexer,col_indexer] = value instead\n",
      "\n",
      "See the caveats in the documentation: https://pandas.pydata.org/pandas-docs/stable/user_guide/indexing.html#returning-a-view-versus-a-copy\n",
      "  if __name__ == '__main__':\n"
     ]
    }
   ],
   "source": [
    "preds_tuned = predictions_on_future_data(future_data)"
   ]
  },
  {
   "cell_type": "markdown",
   "id": "1ecf7716",
   "metadata": {},
   "source": [
    "## Building XGBoost and doing Hyper Parameter Tuning"
   ]
  },
  {
   "cell_type": "code",
   "execution_count": 109,
   "id": "0124f94a",
   "metadata": {},
   "outputs": [],
   "source": [
    "from xgboost import XGBRegressor"
   ]
  },
  {
   "cell_type": "code",
   "execution_count": 112,
   "id": "5b87b3f1",
   "metadata": {},
   "outputs": [],
   "source": [
    "def model_validation_xgboost(x,X_train,X_test,y_train,y_test):\n",
    "    validation_table=[]\n",
    "    models=[RandomForestRegressor,XGBRegressor]\n",
    "    for i in models:\n",
    "        rd=i()\n",
    "        rd.fit(X_train,y_train)\n",
    "        if x==\"train\":\n",
    "            rd.predict(X_train)\n",
    "            mae=mean_absolute_error(y_train.values,rd.predict(X_train))\n",
    "            mse=mean_squared_error(y_train.values,rd.predict(X_train))\n",
    "            rmse=np.sqrt(mean_squared_error(y_train.values,rd.predict(X_train)))\n",
    "            mape=(((abs(y_train.values-rd.predict(X_train))/y_train.values)*100).sum())*(1/y_train.shape[0])\n",
    "            rsquare=r2_score(y_train.values,rd.predict(X_train))\n",
    "            validation_table.append([i,mae,mse,rmse,mape,rsquare])\n",
    "        #validation_table=pd.DataFrame(validation_table_train)\n",
    "        #validation_table.columns=[\"model name\",\"mae\",\"mse\",\"rmse\",\"mape\",\"rsquare\"]\n",
    "        else:\n",
    "            rd.predict(X_test)\n",
    "            mae=mean_absolute_error(y_test.values,rd.predict(X_test))\n",
    "            mse=mean_squared_error(y_test.values,rd.predict(X_test))\n",
    "            rmse=np.sqrt(mean_squared_error(y_test.values,rd.predict(X_test)))\n",
    "            mape=(((abs(y_test.values-rd.predict(X_test))/y_test.values)*100).sum())*(1/y_test.shape[0])\n",
    "            rsquare=r2_score(y_test.values,rd.predict(X_test))\n",
    "            validation_table.append([i,mae,mse,rmse,mape,rsquare])\n",
    "            \n",
    "    validation_table=pd.DataFrame(validation_table)\n",
    "    validation_table.columns=[\"model name\",\"mae\",\"mse\",\"rmse\",\"mape\",\"rsquare\"]\n",
    "    return validation_table"
   ]
  },
  {
   "cell_type": "code",
   "execution_count": 113,
   "id": "5b6316cd",
   "metadata": {},
   "outputs": [
    {
     "data": {
      "text/html": [
       "<div>\n",
       "<style scoped>\n",
       "    .dataframe tbody tr th:only-of-type {\n",
       "        vertical-align: middle;\n",
       "    }\n",
       "\n",
       "    .dataframe tbody tr th {\n",
       "        vertical-align: top;\n",
       "    }\n",
       "\n",
       "    .dataframe thead th {\n",
       "        text-align: right;\n",
       "    }\n",
       "</style>\n",
       "<table border=\"1\" class=\"dataframe\">\n",
       "  <thead>\n",
       "    <tr style=\"text-align: right;\">\n",
       "      <th></th>\n",
       "      <th>model name</th>\n",
       "      <th>mae</th>\n",
       "      <th>mse</th>\n",
       "      <th>rmse</th>\n",
       "      <th>mape</th>\n",
       "      <th>rsquare</th>\n",
       "    </tr>\n",
       "  </thead>\n",
       "  <tbody>\n",
       "    <tr>\n",
       "      <th>0</th>\n",
       "      <td>&lt;class 'sklearn.ensemble._forest.RandomForestR...</td>\n",
       "      <td>9.05</td>\n",
       "      <td>836.19</td>\n",
       "      <td>28.92</td>\n",
       "      <td>5.95</td>\n",
       "      <td>0.96</td>\n",
       "    </tr>\n",
       "    <tr>\n",
       "      <th>1</th>\n",
       "      <td>&lt;class 'xgboost.sklearn.XGBRegressor'&gt;</td>\n",
       "      <td>0.07</td>\n",
       "      <td>0.01</td>\n",
       "      <td>0.10</td>\n",
       "      <td>0.07</td>\n",
       "      <td>1.00</td>\n",
       "    </tr>\n",
       "  </tbody>\n",
       "</table>\n",
       "</div>"
      ],
      "text/plain": [
       "                                          model name  mae    mse  rmse  mape  \\\n",
       "0  <class 'sklearn.ensemble._forest.RandomForestR... 9.05 836.19 28.92  5.95   \n",
       "1             <class 'xgboost.sklearn.XGBRegressor'> 0.07   0.01  0.10  0.07   \n",
       "\n",
       "   rsquare  \n",
       "0     0.96  \n",
       "1     1.00  "
      ]
     },
     "execution_count": 113,
     "metadata": {},
     "output_type": "execute_result"
    }
   ],
   "source": [
    "val_table_xgboost_train = model_validation_xgboost('train',X_train,X_test,y_train,y_test)\n",
    "val_table_xgboost_train"
   ]
  },
  {
   "cell_type": "code",
   "execution_count": 114,
   "id": "fb7afe37",
   "metadata": {},
   "outputs": [
    {
     "data": {
      "text/html": [
       "<div>\n",
       "<style scoped>\n",
       "    .dataframe tbody tr th:only-of-type {\n",
       "        vertical-align: middle;\n",
       "    }\n",
       "\n",
       "    .dataframe tbody tr th {\n",
       "        vertical-align: top;\n",
       "    }\n",
       "\n",
       "    .dataframe thead th {\n",
       "        text-align: right;\n",
       "    }\n",
       "</style>\n",
       "<table border=\"1\" class=\"dataframe\">\n",
       "  <thead>\n",
       "    <tr style=\"text-align: right;\">\n",
       "      <th></th>\n",
       "      <th>model name</th>\n",
       "      <th>mae</th>\n",
       "      <th>mse</th>\n",
       "      <th>rmse</th>\n",
       "      <th>mape</th>\n",
       "      <th>rsquare</th>\n",
       "    </tr>\n",
       "  </thead>\n",
       "  <tbody>\n",
       "    <tr>\n",
       "      <th>0</th>\n",
       "      <td>&lt;class 'sklearn.ensemble._forest.RandomForestR...</td>\n",
       "      <td>50.91</td>\n",
       "      <td>9493.08</td>\n",
       "      <td>97.43</td>\n",
       "      <td>27.42</td>\n",
       "      <td>0.85</td>\n",
       "    </tr>\n",
       "    <tr>\n",
       "      <th>1</th>\n",
       "      <td>&lt;class 'xgboost.sklearn.XGBRegressor'&gt;</td>\n",
       "      <td>56.30</td>\n",
       "      <td>15210.10</td>\n",
       "      <td>123.33</td>\n",
       "      <td>28.19</td>\n",
       "      <td>0.76</td>\n",
       "    </tr>\n",
       "  </tbody>\n",
       "</table>\n",
       "</div>"
      ],
      "text/plain": [
       "                                          model name   mae      mse   rmse  \\\n",
       "0  <class 'sklearn.ensemble._forest.RandomForestR... 50.91  9493.08  97.43   \n",
       "1             <class 'xgboost.sklearn.XGBRegressor'> 56.30 15210.10 123.33   \n",
       "\n",
       "   mape  rsquare  \n",
       "0 27.42     0.85  \n",
       "1 28.19     0.76  "
      ]
     },
     "execution_count": 114,
     "metadata": {},
     "output_type": "execute_result"
    }
   ],
   "source": [
    "val_table_xgboost_test = model_validation_xgboost('test',X_train,X_test,y_train,y_test)\n",
    "val_table_xgboost_test"
   ]
  },
  {
   "cell_type": "code",
   "execution_count": 119,
   "id": "6de2885b",
   "metadata": {},
   "outputs": [],
   "source": [
    "def hyperParameterTuning_xgboost(X_train, y_train):\n",
    "    \n",
    "    param_tuning = {\n",
    "        'learning_rate': [0.01,0.05,0.1],\n",
    "        'max_depth': [3, 5, 7, 10],\n",
    "        'min_child_weight': [1, 3, 5],\n",
    "        'subsample': [0.3,0.5,0.7],\n",
    "        'colsample_bytree': [0.3,0.5,0.7],\n",
    "        'n_estimators' : [int(x) for x in np.linspace(start = 10, stop = 90, num = 5)],\n",
    "        'objective': ['reg:squarederror']\n",
    "    }\n",
    "    print(param_tuning)\n",
    "    xgb_model = XGBRegressor()\n",
    "\n",
    "    gsearch = GridSearchCV(estimator = xgb_model,\n",
    "                           param_grid = param_tuning,\n",
    "                           cv = 5,\n",
    "                           n_jobs = -1,\n",
    "                           verbose = 1)\n",
    "\n",
    "    gsearch.fit(X_train,y_train)\n",
    "\n",
    "    return gsearch.best_params_"
   ]
  },
  {
   "cell_type": "code",
   "execution_count": 120,
   "id": "702af6f9",
   "metadata": {},
   "outputs": [
    {
     "name": "stdout",
     "output_type": "stream",
     "text": [
      "{'learning_rate': [0.01, 0.05, 0.1], 'max_depth': [3, 5, 7, 10], 'min_child_weight': [1, 3, 5], 'subsample': [0.3, 0.5, 0.7], 'colsample_bytree': [0.3, 0.5, 0.7], 'n_estimators': [10, 30, 50, 70, 90], 'objective': ['reg:squarederror']}\n",
      "Fitting 5 folds for each of 1620 candidates, totalling 8100 fits\n"
     ]
    },
    {
     "data": {
      "text/plain": [
       "{'colsample_bytree': 0.7,\n",
       " 'learning_rate': 0.1,\n",
       " 'max_depth': 10,\n",
       " 'min_child_weight': 1,\n",
       " 'n_estimators': 30,\n",
       " 'objective': 'reg:squarederror',\n",
       " 'subsample': 0.7}"
      ]
     },
     "execution_count": 120,
     "metadata": {},
     "output_type": "execute_result"
    }
   ],
   "source": [
    "hyperParameterTuning_xgboost(X_train, y_train)"
   ]
  },
  {
   "cell_type": "code",
   "execution_count": 121,
   "id": "c4b1321c",
   "metadata": {},
   "outputs": [],
   "source": [
    "xgb_model = XGBRegressor(\n",
    "        objective = 'reg:squarederror',\n",
    "        colsample_bytree = 0.7,\n",
    "        learning_rate = 0.1,\n",
    "        max_depth = 10,\n",
    "        min_child_weight = 1,\n",
    "        n_estimators = 30,\n",
    "        subsample = 0.7)"
   ]
  },
  {
   "cell_type": "code",
   "execution_count": 122,
   "id": "f1a3457a",
   "metadata": {},
   "outputs": [
    {
     "name": "stderr",
     "output_type": "stream",
     "text": [
      "C:\\Users\\gn221m\\Anaconda3\\lib\\site-packages\\xgboost\\sklearn.py:797: UserWarning: `early_stopping_rounds` in `fit` method is deprecated for better compatibility with scikit-learn, use `early_stopping_rounds` in constructor or`set_params` instead.\n",
      "  UserWarning,\n"
     ]
    },
    {
     "data": {
      "text/plain": [
       "XGBRegressor(base_score=0.5, booster='gbtree', callbacks=None,\n",
       "             colsample_bylevel=1, colsample_bynode=1, colsample_bytree=0.7,\n",
       "             early_stopping_rounds=None, enable_categorical=False,\n",
       "             eval_metric=None, gamma=0, gpu_id=-1, grow_policy='depthwise',\n",
       "             importance_type=None, interaction_constraints='',\n",
       "             learning_rate=0.1, max_bin=256, max_cat_to_onehot=4,\n",
       "             max_delta_step=0, max_depth=10, max_leaves=0, min_child_weight=1,\n",
       "             missing=nan, monotone_constraints='()', n_estimators=30, n_jobs=0,\n",
       "             num_parallel_tree=1, predictor='auto', random_state=0, reg_alpha=0,\n",
       "             reg_lambda=1, ...)"
      ]
     },
     "execution_count": 122,
     "metadata": {},
     "output_type": "execute_result"
    }
   ],
   "source": [
    "xgb_model.fit(X_train, y_train, early_stopping_rounds=5, eval_set=[(X_test,y_test)], verbose=False)"
   ]
  },
  {
   "cell_type": "code",
   "execution_count": 123,
   "id": "ae056f3c",
   "metadata": {},
   "outputs": [],
   "source": [
    "def model_validation_xgboost(x,X_train,X_test,y_train,y_test):\n",
    "    validation_table=[]\n",
    "    models=[XGBRegressor]\n",
    "    for i in models:\n",
    "        rd=i(objective = 'reg:squarederror',\n",
    "            colsample_bytree = 0.7,\n",
    "            learning_rate = 0.1,\n",
    "            max_depth = 10,\n",
    "            min_child_weight = 1,\n",
    "            n_estimators = 30,\n",
    "            subsample = 0.7)               \n",
    "        rd.fit(X_train,y_train)\n",
    "        if x==\"train\":\n",
    "            rd.predict(X_train)\n",
    "            mae=mean_absolute_error(y_train.values,rd.predict(X_train))\n",
    "            mse=mean_squared_error(y_train.values,rd.predict(X_train))\n",
    "            rmse=np.sqrt(mean_squared_error(y_train.values,rd.predict(X_train)))\n",
    "            mape=(((abs(y_train.values-rd.predict(X_train))/y_train.values)*100).sum())*(1/y_train.shape[0])\n",
    "            rsquare=r2_score(y_train.values,rd.predict(X_train))\n",
    "            validation_table.append([i,mae,mse,rmse,mape,rsquare])\n",
    "        #validation_table=pd.DataFrame(validation_table_train)\n",
    "        #validation_table.columns=[\"model name\",\"mae\",\"mse\",\"rmse\",\"mape\",\"rsquare\"]\n",
    "        else:\n",
    "            rd.predict(X_test)\n",
    "            mae=mean_absolute_error(y_test.values,rd.predict(X_test))\n",
    "            mse=mean_squared_error(y_test.values,rd.predict(X_test))\n",
    "            rmse=np.sqrt(mean_squared_error(y_test.values,rd.predict(X_test)))\n",
    "            mape=(((abs(y_test.values-rd.predict(X_test))/y_test.values)*100).sum())*(1/y_test.shape[0])\n",
    "            rsquare=r2_score(y_test.values,rd.predict(X_test))\n",
    "            validation_table.append([i,mae,mse,rmse,mape,rsquare])\n",
    "            \n",
    "    validation_table=pd.DataFrame(validation_table)\n",
    "    validation_table.columns=[\"model name\",\"mae\",\"mse\",\"rmse\",\"mape\",\"rsquare\"]\n",
    "    return validation_table"
   ]
  },
  {
   "cell_type": "code",
   "execution_count": 124,
   "id": "f61da595",
   "metadata": {},
   "outputs": [
    {
     "data": {
      "text/html": [
       "<div>\n",
       "<style scoped>\n",
       "    .dataframe tbody tr th:only-of-type {\n",
       "        vertical-align: middle;\n",
       "    }\n",
       "\n",
       "    .dataframe tbody tr th {\n",
       "        vertical-align: top;\n",
       "    }\n",
       "\n",
       "    .dataframe thead th {\n",
       "        text-align: right;\n",
       "    }\n",
       "</style>\n",
       "<table border=\"1\" class=\"dataframe\">\n",
       "  <thead>\n",
       "    <tr style=\"text-align: right;\">\n",
       "      <th></th>\n",
       "      <th>model name</th>\n",
       "      <th>mae</th>\n",
       "      <th>mse</th>\n",
       "      <th>rmse</th>\n",
       "      <th>mape</th>\n",
       "      <th>rsquare</th>\n",
       "    </tr>\n",
       "  </thead>\n",
       "  <tbody>\n",
       "    <tr>\n",
       "      <th>0</th>\n",
       "      <td>&lt;class 'xgboost.sklearn.XGBRegressor'&gt;</td>\n",
       "      <td>13.07</td>\n",
       "      <td>1312.36</td>\n",
       "      <td>36.23</td>\n",
       "      <td>7.10</td>\n",
       "      <td>0.94</td>\n",
       "    </tr>\n",
       "  </tbody>\n",
       "</table>\n",
       "</div>"
      ],
      "text/plain": [
       "                               model name   mae     mse  rmse  mape  rsquare\n",
       "0  <class 'xgboost.sklearn.XGBRegressor'> 13.07 1312.36 36.23  7.10     0.94"
      ]
     },
     "execution_count": 124,
     "metadata": {},
     "output_type": "execute_result"
    }
   ],
   "source": [
    "val_table_xgboost_train = model_validation_xgboost('train',X_train,X_test,y_train,y_test)\n",
    "val_table_xgboost_train"
   ]
  },
  {
   "cell_type": "code",
   "execution_count": 125,
   "id": "7c6952d8",
   "metadata": {},
   "outputs": [
    {
     "data": {
      "text/html": [
       "<div>\n",
       "<style scoped>\n",
       "    .dataframe tbody tr th:only-of-type {\n",
       "        vertical-align: middle;\n",
       "    }\n",
       "\n",
       "    .dataframe tbody tr th {\n",
       "        vertical-align: top;\n",
       "    }\n",
       "\n",
       "    .dataframe thead th {\n",
       "        text-align: right;\n",
       "    }\n",
       "</style>\n",
       "<table border=\"1\" class=\"dataframe\">\n",
       "  <thead>\n",
       "    <tr style=\"text-align: right;\">\n",
       "      <th></th>\n",
       "      <th>model name</th>\n",
       "      <th>mae</th>\n",
       "      <th>mse</th>\n",
       "      <th>rmse</th>\n",
       "      <th>mape</th>\n",
       "      <th>rsquare</th>\n",
       "    </tr>\n",
       "  </thead>\n",
       "  <tbody>\n",
       "    <tr>\n",
       "      <th>0</th>\n",
       "      <td>&lt;class 'xgboost.sklearn.XGBRegressor'&gt;</td>\n",
       "      <td>58.03</td>\n",
       "      <td>10627.68</td>\n",
       "      <td>103.09</td>\n",
       "      <td>22.89</td>\n",
       "      <td>0.83</td>\n",
       "    </tr>\n",
       "  </tbody>\n",
       "</table>\n",
       "</div>"
      ],
      "text/plain": [
       "                               model name   mae      mse   rmse  mape  rsquare\n",
       "0  <class 'xgboost.sklearn.XGBRegressor'> 58.03 10627.68 103.09 22.89     0.83"
      ]
     },
     "execution_count": 125,
     "metadata": {},
     "output_type": "execute_result"
    }
   ],
   "source": [
    "val_table_xgboost_test = model_validation_xgboost('test',X_train,X_test,y_train,y_test)\n",
    "val_table_xgboost_test"
   ]
  },
  {
   "cell_type": "code",
   "execution_count": null,
   "id": "3a4fef53",
   "metadata": {},
   "outputs": [],
   "source": []
  }
 ],
 "metadata": {
  "kernelspec": {
   "display_name": "Python 3 (ipykernel)",
   "language": "python",
   "name": "python3"
  },
  "language_info": {
   "codemirror_mode": {
    "name": "ipython",
    "version": 3
   },
   "file_extension": ".py",
   "mimetype": "text/x-python",
   "name": "python",
   "nbconvert_exporter": "python",
   "pygments_lexer": "ipython3",
   "version": "3.7.13"
  }
 },
 "nbformat": 4,
 "nbformat_minor": 5
}
