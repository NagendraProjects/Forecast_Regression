{
 "cells": [
  {
   "cell_type": "code",
   "execution_count": 1,
   "id": "57b5a233",
   "metadata": {},
   "outputs": [],
   "source": [
    "import warnings\n",
    "warnings.filterwarnings('ignore',category=FutureWarning)\n",
    "import pandas as pd\n",
    "import os\n",
    "import seaborn as sns\n",
    "from sklearn.metrics import mean_absolute_error,mean_squared_error,r2_score\n",
    "import numpy as np\n",
    "import matplotlib.pyplot as plt"
   ]
  },
  {
   "cell_type": "code",
   "execution_count": 2,
   "id": "96a78ea2",
   "metadata": {},
   "outputs": [],
   "source": [
    "d1=pd.read_excel('Weekly_data.xlsx')"
   ]
  },
  {
   "cell_type": "code",
   "execution_count": 3,
   "id": "fd25c848",
   "metadata": {},
   "outputs": [
    {
     "data": {
      "text/html": [
       "<div>\n",
       "<style scoped>\n",
       "    .dataframe tbody tr th:only-of-type {\n",
       "        vertical-align: middle;\n",
       "    }\n",
       "\n",
       "    .dataframe tbody tr th {\n",
       "        vertical-align: top;\n",
       "    }\n",
       "\n",
       "    .dataframe thead th {\n",
       "        text-align: right;\n",
       "    }\n",
       "</style>\n",
       "<table border=\"1\" class=\"dataframe\">\n",
       "  <thead>\n",
       "    <tr style=\"text-align: right;\">\n",
       "      <th></th>\n",
       "      <th>Date</th>\n",
       "      <th>Week No</th>\n",
       "      <th>Month No</th>\n",
       "      <th>Year</th>\n",
       "      <th>Refinance</th>\n",
       "      <th>Mortgage Rate</th>\n",
       "      <th>Inflation</th>\n",
       "      <th>Housing Price Index</th>\n",
       "      <th>Treasury Yield</th>\n",
       "      <th>Unemployment Rate</th>\n",
       "      <th>GDP</th>\n",
       "      <th>Business Confidence Index</th>\n",
       "      <th>Consumer Confidence Index</th>\n",
       "      <th>Initial Unemployment Claim</th>\n",
       "      <th>Disposable Income</th>\n",
       "    </tr>\n",
       "  </thead>\n",
       "  <tbody>\n",
       "    <tr>\n",
       "      <th>0</th>\n",
       "      <td>2018-12-31</td>\n",
       "      <td>1</td>\n",
       "      <td>1</td>\n",
       "      <td>2019</td>\n",
       "      <td>885.0</td>\n",
       "      <td>4.51</td>\n",
       "      <td>1.6</td>\n",
       "      <td>187.901424</td>\n",
       "      <td>1.700000</td>\n",
       "      <td>4.0</td>\n",
       "      <td>2.4</td>\n",
       "      <td>101.008462</td>\n",
       "      <td>101.0012</td>\n",
       "      <td>329495.250000</td>\n",
       "      <td>16027.8</td>\n",
       "    </tr>\n",
       "    <tr>\n",
       "      <th>1</th>\n",
       "      <td>2019-01-07</td>\n",
       "      <td>2</td>\n",
       "      <td>1</td>\n",
       "      <td>2019</td>\n",
       "      <td>1094.0</td>\n",
       "      <td>4.51</td>\n",
       "      <td>1.6</td>\n",
       "      <td>187.901424</td>\n",
       "      <td>2.160000</td>\n",
       "      <td>4.0</td>\n",
       "      <td>2.4</td>\n",
       "      <td>101.008462</td>\n",
       "      <td>101.0012</td>\n",
       "      <td>348680.142857</td>\n",
       "      <td>16027.8</td>\n",
       "    </tr>\n",
       "    <tr>\n",
       "      <th>2</th>\n",
       "      <td>2019-01-14</td>\n",
       "      <td>3</td>\n",
       "      <td>1</td>\n",
       "      <td>2019</td>\n",
       "      <td>1078.0</td>\n",
       "      <td>4.51</td>\n",
       "      <td>1.6</td>\n",
       "      <td>187.901424</td>\n",
       "      <td>2.195714</td>\n",
       "      <td>4.0</td>\n",
       "      <td>2.4</td>\n",
       "      <td>101.008462</td>\n",
       "      <td>101.0012</td>\n",
       "      <td>322446.857143</td>\n",
       "      <td>16027.8</td>\n",
       "    </tr>\n",
       "    <tr>\n",
       "      <th>3</th>\n",
       "      <td>2019-01-21</td>\n",
       "      <td>4</td>\n",
       "      <td>1</td>\n",
       "      <td>2019</td>\n",
       "      <td>1032.0</td>\n",
       "      <td>4.51</td>\n",
       "      <td>1.6</td>\n",
       "      <td>187.901424</td>\n",
       "      <td>1.747143</td>\n",
       "      <td>4.0</td>\n",
       "      <td>2.4</td>\n",
       "      <td>101.008462</td>\n",
       "      <td>101.0012</td>\n",
       "      <td>264000.714286</td>\n",
       "      <td>16027.8</td>\n",
       "    </tr>\n",
       "    <tr>\n",
       "      <th>4</th>\n",
       "      <td>2019-01-28</td>\n",
       "      <td>5</td>\n",
       "      <td>2</td>\n",
       "      <td>2019</td>\n",
       "      <td>989.0</td>\n",
       "      <td>4.51</td>\n",
       "      <td>1.5</td>\n",
       "      <td>188.841570</td>\n",
       "      <td>2.168571</td>\n",
       "      <td>3.8</td>\n",
       "      <td>2.4</td>\n",
       "      <td>101.065220</td>\n",
       "      <td>101.0591</td>\n",
       "      <td>251632.285714</td>\n",
       "      <td>16073.8</td>\n",
       "    </tr>\n",
       "  </tbody>\n",
       "</table>\n",
       "</div>"
      ],
      "text/plain": [
       "        Date  Week No  Month No  Year  Refinance  Mortgage Rate  Inflation  \\\n",
       "0 2018-12-31        1         1  2019      885.0           4.51        1.6   \n",
       "1 2019-01-07        2         1  2019     1094.0           4.51        1.6   \n",
       "2 2019-01-14        3         1  2019     1078.0           4.51        1.6   \n",
       "3 2019-01-21        4         1  2019     1032.0           4.51        1.6   \n",
       "4 2019-01-28        5         2  2019      989.0           4.51        1.5   \n",
       "\n",
       "   Housing Price Index  Treasury Yield  Unemployment Rate  GDP  \\\n",
       "0           187.901424        1.700000                4.0  2.4   \n",
       "1           187.901424        2.160000                4.0  2.4   \n",
       "2           187.901424        2.195714                4.0  2.4   \n",
       "3           187.901424        1.747143                4.0  2.4   \n",
       "4           188.841570        2.168571                3.8  2.4   \n",
       "\n",
       "   Business Confidence Index  Consumer Confidence Index  \\\n",
       "0                 101.008462                   101.0012   \n",
       "1                 101.008462                   101.0012   \n",
       "2                 101.008462                   101.0012   \n",
       "3                 101.008462                   101.0012   \n",
       "4                 101.065220                   101.0591   \n",
       "\n",
       "   Initial Unemployment Claim  Disposable Income  \n",
       "0               329495.250000            16027.8  \n",
       "1               348680.142857            16027.8  \n",
       "2               322446.857143            16027.8  \n",
       "3               264000.714286            16027.8  \n",
       "4               251632.285714            16073.8  "
      ]
     },
     "execution_count": 3,
     "metadata": {},
     "output_type": "execute_result"
    }
   ],
   "source": [
    "d1.head()"
   ]
  },
  {
   "cell_type": "code",
   "execution_count": 4,
   "id": "4f800c9b",
   "metadata": {},
   "outputs": [
    {
     "data": {
      "text/html": [
       "<div>\n",
       "<style scoped>\n",
       "    .dataframe tbody tr th:only-of-type {\n",
       "        vertical-align: middle;\n",
       "    }\n",
       "\n",
       "    .dataframe tbody tr th {\n",
       "        vertical-align: top;\n",
       "    }\n",
       "\n",
       "    .dataframe thead th {\n",
       "        text-align: right;\n",
       "    }\n",
       "</style>\n",
       "<table border=\"1\" class=\"dataframe\">\n",
       "  <thead>\n",
       "    <tr style=\"text-align: right;\">\n",
       "      <th></th>\n",
       "      <th>Date</th>\n",
       "      <th>Week No</th>\n",
       "      <th>Month No</th>\n",
       "      <th>Year</th>\n",
       "      <th>Refinance</th>\n",
       "      <th>Mortgage Rate</th>\n",
       "      <th>Inflation</th>\n",
       "      <th>Housing Price Index</th>\n",
       "      <th>Treasury Yield</th>\n",
       "      <th>Unemployment Rate</th>\n",
       "      <th>GDP</th>\n",
       "      <th>Business Confidence Index</th>\n",
       "      <th>Consumer Confidence Index</th>\n",
       "      <th>Initial Unemployment Claim</th>\n",
       "      <th>Disposable Income</th>\n",
       "    </tr>\n",
       "  </thead>\n",
       "  <tbody>\n",
       "    <tr>\n",
       "      <th>196</th>\n",
       "      <td>2022-10-02</td>\n",
       "      <td>40</td>\n",
       "      <td>10</td>\n",
       "      <td>2022</td>\n",
       "      <td>NaN</td>\n",
       "      <td>5.405537</td>\n",
       "      <td>9.1</td>\n",
       "      <td>274.253358</td>\n",
       "      <td>2.379681</td>\n",
       "      <td>3.6</td>\n",
       "      <td>2.5</td>\n",
       "      <td>96.600531</td>\n",
       "      <td>105.138462</td>\n",
       "      <td>213138.5625</td>\n",
       "      <td>18423.057143</td>\n",
       "    </tr>\n",
       "    <tr>\n",
       "      <th>197</th>\n",
       "      <td>2022-10-09</td>\n",
       "      <td>41</td>\n",
       "      <td>10</td>\n",
       "      <td>2022</td>\n",
       "      <td>NaN</td>\n",
       "      <td>5.405537</td>\n",
       "      <td>9.1</td>\n",
       "      <td>274.253358</td>\n",
       "      <td>2.379681</td>\n",
       "      <td>3.6</td>\n",
       "      <td>2.5</td>\n",
       "      <td>96.600531</td>\n",
       "      <td>105.138462</td>\n",
       "      <td>213138.5625</td>\n",
       "      <td>18423.057143</td>\n",
       "    </tr>\n",
       "    <tr>\n",
       "      <th>198</th>\n",
       "      <td>2022-10-16</td>\n",
       "      <td>42</td>\n",
       "      <td>10</td>\n",
       "      <td>2022</td>\n",
       "      <td>NaN</td>\n",
       "      <td>5.405537</td>\n",
       "      <td>9.1</td>\n",
       "      <td>274.253358</td>\n",
       "      <td>2.379681</td>\n",
       "      <td>3.6</td>\n",
       "      <td>2.5</td>\n",
       "      <td>96.600531</td>\n",
       "      <td>105.138462</td>\n",
       "      <td>213138.5625</td>\n",
       "      <td>18423.057143</td>\n",
       "    </tr>\n",
       "    <tr>\n",
       "      <th>199</th>\n",
       "      <td>2022-10-23</td>\n",
       "      <td>43</td>\n",
       "      <td>10</td>\n",
       "      <td>2022</td>\n",
       "      <td>NaN</td>\n",
       "      <td>5.405537</td>\n",
       "      <td>9.1</td>\n",
       "      <td>274.253358</td>\n",
       "      <td>2.379681</td>\n",
       "      <td>3.6</td>\n",
       "      <td>2.5</td>\n",
       "      <td>96.600531</td>\n",
       "      <td>105.138462</td>\n",
       "      <td>213138.5625</td>\n",
       "      <td>18423.057143</td>\n",
       "    </tr>\n",
       "    <tr>\n",
       "      <th>200</th>\n",
       "      <td>2022-10-30</td>\n",
       "      <td>44</td>\n",
       "      <td>10</td>\n",
       "      <td>2022</td>\n",
       "      <td>NaN</td>\n",
       "      <td>5.405537</td>\n",
       "      <td>9.1</td>\n",
       "      <td>274.253358</td>\n",
       "      <td>2.379681</td>\n",
       "      <td>3.6</td>\n",
       "      <td>2.5</td>\n",
       "      <td>96.600531</td>\n",
       "      <td>105.138462</td>\n",
       "      <td>213138.5625</td>\n",
       "      <td>18423.057143</td>\n",
       "    </tr>\n",
       "  </tbody>\n",
       "</table>\n",
       "</div>"
      ],
      "text/plain": [
       "          Date  Week No  Month No  Year  Refinance  Mortgage Rate  Inflation  \\\n",
       "196 2022-10-02       40        10  2022        NaN       5.405537        9.1   \n",
       "197 2022-10-09       41        10  2022        NaN       5.405537        9.1   \n",
       "198 2022-10-16       42        10  2022        NaN       5.405537        9.1   \n",
       "199 2022-10-23       43        10  2022        NaN       5.405537        9.1   \n",
       "200 2022-10-30       44        10  2022        NaN       5.405537        9.1   \n",
       "\n",
       "     Housing Price Index  Treasury Yield  Unemployment Rate  GDP  \\\n",
       "196           274.253358        2.379681                3.6  2.5   \n",
       "197           274.253358        2.379681                3.6  2.5   \n",
       "198           274.253358        2.379681                3.6  2.5   \n",
       "199           274.253358        2.379681                3.6  2.5   \n",
       "200           274.253358        2.379681                3.6  2.5   \n",
       "\n",
       "     Business Confidence Index  Consumer Confidence Index  \\\n",
       "196                  96.600531                 105.138462   \n",
       "197                  96.600531                 105.138462   \n",
       "198                  96.600531                 105.138462   \n",
       "199                  96.600531                 105.138462   \n",
       "200                  96.600531                 105.138462   \n",
       "\n",
       "     Initial Unemployment Claim  Disposable Income  \n",
       "196                 213138.5625       18423.057143  \n",
       "197                 213138.5625       18423.057143  \n",
       "198                 213138.5625       18423.057143  \n",
       "199                 213138.5625       18423.057143  \n",
       "200                 213138.5625       18423.057143  "
      ]
     },
     "execution_count": 4,
     "metadata": {},
     "output_type": "execute_result"
    }
   ],
   "source": [
    "d1.tail()"
   ]
  },
  {
   "cell_type": "code",
   "execution_count": 5,
   "id": "95d7254c",
   "metadata": {},
   "outputs": [
    {
     "name": "stdout",
     "output_type": "stream",
     "text": [
      "<class 'pandas.core.frame.DataFrame'>\n",
      "RangeIndex: 201 entries, 0 to 200\n",
      "Data columns (total 15 columns):\n",
      " #   Column                      Non-Null Count  Dtype         \n",
      "---  ------                      --------------  -----         \n",
      " 0   Date                        201 non-null    datetime64[ns]\n",
      " 1   Week No                     201 non-null    int64         \n",
      " 2   Month No                    201 non-null    int64         \n",
      " 3   Year                        201 non-null    int64         \n",
      " 4   Refinance                   188 non-null    float64       \n",
      " 5   Mortgage Rate               201 non-null    float64       \n",
      " 6   Inflation                   201 non-null    float64       \n",
      " 7   Housing Price Index         201 non-null    float64       \n",
      " 8   Treasury Yield              201 non-null    float64       \n",
      " 9   Unemployment Rate           201 non-null    float64       \n",
      " 10  GDP                         201 non-null    float64       \n",
      " 11  Business Confidence Index   201 non-null    float64       \n",
      " 12  Consumer Confidence Index   201 non-null    float64       \n",
      " 13  Initial Unemployment Claim  201 non-null    float64       \n",
      " 14  Disposable Income           201 non-null    float64       \n",
      "dtypes: datetime64[ns](1), float64(11), int64(3)\n",
      "memory usage: 23.7 KB\n"
     ]
    }
   ],
   "source": [
    "d1.info()"
   ]
  },
  {
   "cell_type": "code",
   "execution_count": 6,
   "id": "f9bf5a77",
   "metadata": {},
   "outputs": [
    {
     "data": {
      "text/plain": [
       "(201, 15)"
      ]
     },
     "execution_count": 6,
     "metadata": {},
     "output_type": "execute_result"
    }
   ],
   "source": [
    "d1.shape"
   ]
  },
  {
   "cell_type": "code",
   "execution_count": 7,
   "id": "c8ab621a",
   "metadata": {},
   "outputs": [
    {
     "data": {
      "text/plain": [
       "Date                          datetime64[ns]\n",
       "Week No                                int64\n",
       "Month No                               int64\n",
       "Year                                   int64\n",
       "Refinance                            float64\n",
       "Mortgage Rate                        float64\n",
       "Inflation                            float64\n",
       "Housing Price Index                  float64\n",
       "Treasury Yield                       float64\n",
       "Unemployment Rate                    float64\n",
       "GDP                                  float64\n",
       "Business Confidence Index            float64\n",
       "Consumer Confidence Index            float64\n",
       "Initial Unemployment Claim           float64\n",
       "Disposable Income                    float64\n",
       "dtype: object"
      ]
     },
     "execution_count": 7,
     "metadata": {},
     "output_type": "execute_result"
    }
   ],
   "source": [
    "d1.dtypes"
   ]
  },
  {
   "cell_type": "code",
   "execution_count": 8,
   "id": "30dea9e7",
   "metadata": {},
   "outputs": [],
   "source": [
    "#d1['Time']=pd.to_datetime(d1['Time'])"
   ]
  },
  {
   "cell_type": "code",
   "execution_count": 9,
   "id": "f477ae13",
   "metadata": {},
   "outputs": [
    {
     "data": {
      "text/html": [
       "<div>\n",
       "<style scoped>\n",
       "    .dataframe tbody tr th:only-of-type {\n",
       "        vertical-align: middle;\n",
       "    }\n",
       "\n",
       "    .dataframe tbody tr th {\n",
       "        vertical-align: top;\n",
       "    }\n",
       "\n",
       "    .dataframe thead th {\n",
       "        text-align: right;\n",
       "    }\n",
       "</style>\n",
       "<table border=\"1\" class=\"dataframe\">\n",
       "  <thead>\n",
       "    <tr style=\"text-align: right;\">\n",
       "      <th></th>\n",
       "      <th>count</th>\n",
       "      <th>mean</th>\n",
       "      <th>std</th>\n",
       "      <th>min</th>\n",
       "      <th>25%</th>\n",
       "      <th>50%</th>\n",
       "      <th>75%</th>\n",
       "      <th>max</th>\n",
       "    </tr>\n",
       "  </thead>\n",
       "  <tbody>\n",
       "    <tr>\n",
       "      <th>Week No</th>\n",
       "      <td>201.0</td>\n",
       "      <td>25.756219</td>\n",
       "      <td>14.752806</td>\n",
       "      <td>1.000000</td>\n",
       "      <td>13.000000</td>\n",
       "      <td>26.000000</td>\n",
       "      <td>38.000000</td>\n",
       "      <td>5.300000e+01</td>\n",
       "    </tr>\n",
       "    <tr>\n",
       "      <th>Month No</th>\n",
       "      <td>201.0</td>\n",
       "      <td>6.353234</td>\n",
       "      <td>3.371884</td>\n",
       "      <td>1.000000</td>\n",
       "      <td>3.000000</td>\n",
       "      <td>6.000000</td>\n",
       "      <td>9.000000</td>\n",
       "      <td>1.200000e+01</td>\n",
       "    </tr>\n",
       "    <tr>\n",
       "      <th>Year</th>\n",
       "      <td>201.0</td>\n",
       "      <td>2020.442786</td>\n",
       "      <td>1.099072</td>\n",
       "      <td>2019.000000</td>\n",
       "      <td>2019.000000</td>\n",
       "      <td>2020.000000</td>\n",
       "      <td>2021.000000</td>\n",
       "      <td>2.022000e+03</td>\n",
       "    </tr>\n",
       "    <tr>\n",
       "      <th>Refinance</th>\n",
       "      <td>188.0</td>\n",
       "      <td>2425.340426</td>\n",
       "      <td>961.250273</td>\n",
       "      <td>464.000000</td>\n",
       "      <td>1729.500000</td>\n",
       "      <td>2514.000000</td>\n",
       "      <td>2953.500000</td>\n",
       "      <td>4.636000e+03</td>\n",
       "    </tr>\n",
       "    <tr>\n",
       "      <th>Mortgage Rate</th>\n",
       "      <td>201.0</td>\n",
       "      <td>3.661015</td>\n",
       "      <td>0.852269</td>\n",
       "      <td>2.650000</td>\n",
       "      <td>2.980000</td>\n",
       "      <td>3.490000</td>\n",
       "      <td>4.080000</td>\n",
       "      <td>5.810000e+00</td>\n",
       "    </tr>\n",
       "    <tr>\n",
       "      <th>Inflation</th>\n",
       "      <td>201.0</td>\n",
       "      <td>3.925373</td>\n",
       "      <td>3.028267</td>\n",
       "      <td>0.100000</td>\n",
       "      <td>1.500000</td>\n",
       "      <td>2.300000</td>\n",
       "      <td>6.800000</td>\n",
       "      <td>9.100000e+00</td>\n",
       "    </tr>\n",
       "    <tr>\n",
       "      <th>Housing Price Index</th>\n",
       "      <td>201.0</td>\n",
       "      <td>226.880017</td>\n",
       "      <td>31.316747</td>\n",
       "      <td>187.901424</td>\n",
       "      <td>195.660059</td>\n",
       "      <td>217.835281</td>\n",
       "      <td>254.163779</td>\n",
       "      <td>2.826939e+02</td>\n",
       "    </tr>\n",
       "    <tr>\n",
       "      <th>Treasury Yield</th>\n",
       "      <td>201.0</td>\n",
       "      <td>1.608493</td>\n",
       "      <td>0.514188</td>\n",
       "      <td>0.758571</td>\n",
       "      <td>1.174286</td>\n",
       "      <td>1.587143</td>\n",
       "      <td>1.938000</td>\n",
       "      <td>3.012000e+00</td>\n",
       "    </tr>\n",
       "    <tr>\n",
       "      <th>Unemployment Rate</th>\n",
       "      <td>201.0</td>\n",
       "      <td>5.270647</td>\n",
       "      <td>2.608732</td>\n",
       "      <td>3.500000</td>\n",
       "      <td>3.600000</td>\n",
       "      <td>3.900000</td>\n",
       "      <td>6.000000</td>\n",
       "      <td>1.470000e+01</td>\n",
       "    </tr>\n",
       "    <tr>\n",
       "      <th>GDP</th>\n",
       "      <td>201.0</td>\n",
       "      <td>2.545274</td>\n",
       "      <td>12.083236</td>\n",
       "      <td>-31.200000</td>\n",
       "      <td>1.900000</td>\n",
       "      <td>2.500000</td>\n",
       "      <td>6.300000</td>\n",
       "      <td>3.380000e+01</td>\n",
       "    </tr>\n",
       "    <tr>\n",
       "      <th>Business Confidence Index</th>\n",
       "      <td>201.0</td>\n",
       "      <td>99.161222</td>\n",
       "      <td>1.700463</td>\n",
       "      <td>96.341105</td>\n",
       "      <td>97.840650</td>\n",
       "      <td>99.097041</td>\n",
       "      <td>101.008462</td>\n",
       "      <td>1.016343e+02</td>\n",
       "    </tr>\n",
       "    <tr>\n",
       "      <th>Consumer Confidence Index</th>\n",
       "      <td>201.0</td>\n",
       "      <td>101.156955</td>\n",
       "      <td>3.161393</td>\n",
       "      <td>97.554450</td>\n",
       "      <td>98.956090</td>\n",
       "      <td>100.892500</td>\n",
       "      <td>101.556500</td>\n",
       "      <td>1.111000e+02</td>\n",
       "    </tr>\n",
       "    <tr>\n",
       "      <th>Initial Unemployment Claim</th>\n",
       "      <td>201.0</td>\n",
       "      <td>574497.243826</td>\n",
       "      <td>831751.619622</td>\n",
       "      <td>163996.857143</td>\n",
       "      <td>209760.000000</td>\n",
       "      <td>252290.714286</td>\n",
       "      <td>728007.571429</td>\n",
       "      <td>6.058725e+06</td>\n",
       "    </tr>\n",
       "    <tr>\n",
       "      <th>Disposable Income</th>\n",
       "      <td>201.0</td>\n",
       "      <td>17600.522246</td>\n",
       "      <td>1101.528170</td>\n",
       "      <td>16027.800000</td>\n",
       "      <td>16444.300000</td>\n",
       "      <td>17980.600000</td>\n",
       "      <td>18329.500000</td>\n",
       "      <td>2.169890e+04</td>\n",
       "    </tr>\n",
       "  </tbody>\n",
       "</table>\n",
       "</div>"
      ],
      "text/plain": [
       "                            count           mean            std  \\\n",
       "Week No                     201.0      25.756219      14.752806   \n",
       "Month No                    201.0       6.353234       3.371884   \n",
       "Year                        201.0    2020.442786       1.099072   \n",
       "Refinance                   188.0    2425.340426     961.250273   \n",
       "Mortgage Rate               201.0       3.661015       0.852269   \n",
       "Inflation                   201.0       3.925373       3.028267   \n",
       "Housing Price Index         201.0     226.880017      31.316747   \n",
       "Treasury Yield              201.0       1.608493       0.514188   \n",
       "Unemployment Rate           201.0       5.270647       2.608732   \n",
       "GDP                         201.0       2.545274      12.083236   \n",
       "Business Confidence Index   201.0      99.161222       1.700463   \n",
       "Consumer Confidence Index   201.0     101.156955       3.161393   \n",
       "Initial Unemployment Claim  201.0  574497.243826  831751.619622   \n",
       "Disposable Income           201.0   17600.522246    1101.528170   \n",
       "\n",
       "                                      min            25%            50%  \\\n",
       "Week No                          1.000000      13.000000      26.000000   \n",
       "Month No                         1.000000       3.000000       6.000000   \n",
       "Year                          2019.000000    2019.000000    2020.000000   \n",
       "Refinance                      464.000000    1729.500000    2514.000000   \n",
       "Mortgage Rate                    2.650000       2.980000       3.490000   \n",
       "Inflation                        0.100000       1.500000       2.300000   \n",
       "Housing Price Index            187.901424     195.660059     217.835281   \n",
       "Treasury Yield                   0.758571       1.174286       1.587143   \n",
       "Unemployment Rate                3.500000       3.600000       3.900000   \n",
       "GDP                            -31.200000       1.900000       2.500000   \n",
       "Business Confidence Index       96.341105      97.840650      99.097041   \n",
       "Consumer Confidence Index       97.554450      98.956090     100.892500   \n",
       "Initial Unemployment Claim  163996.857143  209760.000000  252290.714286   \n",
       "Disposable Income            16027.800000   16444.300000   17980.600000   \n",
       "\n",
       "                                      75%           max  \n",
       "Week No                         38.000000  5.300000e+01  \n",
       "Month No                         9.000000  1.200000e+01  \n",
       "Year                          2021.000000  2.022000e+03  \n",
       "Refinance                     2953.500000  4.636000e+03  \n",
       "Mortgage Rate                    4.080000  5.810000e+00  \n",
       "Inflation                        6.800000  9.100000e+00  \n",
       "Housing Price Index            254.163779  2.826939e+02  \n",
       "Treasury Yield                   1.938000  3.012000e+00  \n",
       "Unemployment Rate                6.000000  1.470000e+01  \n",
       "GDP                              6.300000  3.380000e+01  \n",
       "Business Confidence Index      101.008462  1.016343e+02  \n",
       "Consumer Confidence Index      101.556500  1.111000e+02  \n",
       "Initial Unemployment Claim  728007.571429  6.058725e+06  \n",
       "Disposable Income            18329.500000  2.169890e+04  "
      ]
     },
     "execution_count": 9,
     "metadata": {},
     "output_type": "execute_result"
    }
   ],
   "source": [
    "d1.describe().T"
   ]
  },
  {
   "cell_type": "code",
   "execution_count": 10,
   "id": "2785684e",
   "metadata": {},
   "outputs": [
    {
     "data": {
      "text/html": [
       "<div>\n",
       "<style scoped>\n",
       "    .dataframe tbody tr th:only-of-type {\n",
       "        vertical-align: middle;\n",
       "    }\n",
       "\n",
       "    .dataframe tbody tr th {\n",
       "        vertical-align: top;\n",
       "    }\n",
       "\n",
       "    .dataframe thead th {\n",
       "        text-align: right;\n",
       "    }\n",
       "</style>\n",
       "<table border=\"1\" class=\"dataframe\">\n",
       "  <thead>\n",
       "    <tr style=\"text-align: right;\">\n",
       "      <th></th>\n",
       "      <th>Week No</th>\n",
       "      <th>Month No</th>\n",
       "      <th>Year</th>\n",
       "      <th>Refinance</th>\n",
       "      <th>Mortgage Rate</th>\n",
       "      <th>Inflation</th>\n",
       "      <th>Housing Price Index</th>\n",
       "      <th>Treasury Yield</th>\n",
       "      <th>Unemployment Rate</th>\n",
       "      <th>GDP</th>\n",
       "      <th>Business Confidence Index</th>\n",
       "      <th>Consumer Confidence Index</th>\n",
       "      <th>Initial Unemployment Claim</th>\n",
       "      <th>Disposable Income</th>\n",
       "    </tr>\n",
       "  </thead>\n",
       "  <tbody>\n",
       "    <tr>\n",
       "      <th>Week No</th>\n",
       "      <td>1.000000</td>\n",
       "      <td>0.996016</td>\n",
       "      <td>-0.079961</td>\n",
       "      <td>0.109560</td>\n",
       "      <td>-0.091306</td>\n",
       "      <td>0.068320</td>\n",
       "      <td>0.104377</td>\n",
       "      <td>-0.203068</td>\n",
       "      <td>-0.012295</td>\n",
       "      <td>0.243292</td>\n",
       "      <td>-0.140269</td>\n",
       "      <td>-0.294710</td>\n",
       "      <td>-0.108628</td>\n",
       "      <td>-0.048424</td>\n",
       "    </tr>\n",
       "    <tr>\n",
       "      <th>Month No</th>\n",
       "      <td>0.996016</td>\n",
       "      <td>1.000000</td>\n",
       "      <td>-0.076145</td>\n",
       "      <td>0.108748</td>\n",
       "      <td>-0.096064</td>\n",
       "      <td>0.077024</td>\n",
       "      <td>0.112433</td>\n",
       "      <td>-0.199703</td>\n",
       "      <td>-0.021552</td>\n",
       "      <td>0.248530</td>\n",
       "      <td>-0.140870</td>\n",
       "      <td>-0.296843</td>\n",
       "      <td>-0.116258</td>\n",
       "      <td>-0.042619</td>\n",
       "    </tr>\n",
       "    <tr>\n",
       "      <th>Year</th>\n",
       "      <td>-0.079961</td>\n",
       "      <td>-0.076145</td>\n",
       "      <td>1.000000</td>\n",
       "      <td>-0.149954</td>\n",
       "      <td>0.249639</td>\n",
       "      <td>0.851703</td>\n",
       "      <td>0.953012</td>\n",
       "      <td>0.370420</td>\n",
       "      <td>-0.095542</td>\n",
       "      <td>0.018550</td>\n",
       "      <td>-0.891213</td>\n",
       "      <td>0.430231</td>\n",
       "      <td>-0.104241</td>\n",
       "      <td>0.761469</td>\n",
       "    </tr>\n",
       "    <tr>\n",
       "      <th>Refinance</th>\n",
       "      <td>0.109560</td>\n",
       "      <td>0.108748</td>\n",
       "      <td>-0.149954</td>\n",
       "      <td>1.000000</td>\n",
       "      <td>-0.791933</td>\n",
       "      <td>-0.538733</td>\n",
       "      <td>-0.314706</td>\n",
       "      <td>-0.800129</td>\n",
       "      <td>0.640794</td>\n",
       "      <td>-0.078027</td>\n",
       "      <td>0.107310</td>\n",
       "      <td>-0.543531</td>\n",
       "      <td>0.517789</td>\n",
       "      <td>0.165066</td>\n",
       "    </tr>\n",
       "    <tr>\n",
       "      <th>Mortgage Rate</th>\n",
       "      <td>-0.091306</td>\n",
       "      <td>-0.096064</td>\n",
       "      <td>0.249639</td>\n",
       "      <td>-0.791933</td>\n",
       "      <td>1.000000</td>\n",
       "      <td>0.535009</td>\n",
       "      <td>0.342911</td>\n",
       "      <td>0.802627</td>\n",
       "      <td>-0.447990</td>\n",
       "      <td>-0.109823</td>\n",
       "      <td>-0.285155</td>\n",
       "      <td>0.604182</td>\n",
       "      <td>-0.262231</td>\n",
       "      <td>-0.063043</td>\n",
       "    </tr>\n",
       "    <tr>\n",
       "      <th>Inflation</th>\n",
       "      <td>0.068320</td>\n",
       "      <td>0.077024</td>\n",
       "      <td>0.851703</td>\n",
       "      <td>-0.538733</td>\n",
       "      <td>0.535009</td>\n",
       "      <td>1.000000</td>\n",
       "      <td>0.940686</td>\n",
       "      <td>0.632321</td>\n",
       "      <td>-0.473086</td>\n",
       "      <td>0.064623</td>\n",
       "      <td>-0.759693</td>\n",
       "      <td>0.574503</td>\n",
       "      <td>-0.401744</td>\n",
       "      <td>0.476062</td>\n",
       "    </tr>\n",
       "    <tr>\n",
       "      <th>Housing Price Index</th>\n",
       "      <td>0.104377</td>\n",
       "      <td>0.112433</td>\n",
       "      <td>0.953012</td>\n",
       "      <td>-0.314706</td>\n",
       "      <td>0.342911</td>\n",
       "      <td>0.940686</td>\n",
       "      <td>1.000000</td>\n",
       "      <td>0.470021</td>\n",
       "      <td>-0.239176</td>\n",
       "      <td>0.080091</td>\n",
       "      <td>-0.894889</td>\n",
       "      <td>0.456975</td>\n",
       "      <td>-0.240102</td>\n",
       "      <td>0.671053</td>\n",
       "    </tr>\n",
       "    <tr>\n",
       "      <th>Treasury Yield</th>\n",
       "      <td>-0.203068</td>\n",
       "      <td>-0.199703</td>\n",
       "      <td>0.370420</td>\n",
       "      <td>-0.800129</td>\n",
       "      <td>0.802627</td>\n",
       "      <td>0.632321</td>\n",
       "      <td>0.470021</td>\n",
       "      <td>1.000000</td>\n",
       "      <td>-0.613565</td>\n",
       "      <td>-0.002383</td>\n",
       "      <td>-0.275263</td>\n",
       "      <td>0.725396</td>\n",
       "      <td>-0.476756</td>\n",
       "      <td>0.043985</td>\n",
       "    </tr>\n",
       "    <tr>\n",
       "      <th>Unemployment Rate</th>\n",
       "      <td>-0.012295</td>\n",
       "      <td>-0.021552</td>\n",
       "      <td>-0.095542</td>\n",
       "      <td>0.640794</td>\n",
       "      <td>-0.447990</td>\n",
       "      <td>-0.473086</td>\n",
       "      <td>-0.239176</td>\n",
       "      <td>-0.613565</td>\n",
       "      <td>1.000000</td>\n",
       "      <td>-0.263887</td>\n",
       "      <td>-0.098233</td>\n",
       "      <td>-0.452111</td>\n",
       "      <td>0.841997</td>\n",
       "      <td>0.294871</td>\n",
       "    </tr>\n",
       "    <tr>\n",
       "      <th>GDP</th>\n",
       "      <td>0.243292</td>\n",
       "      <td>0.248530</td>\n",
       "      <td>0.018550</td>\n",
       "      <td>-0.078027</td>\n",
       "      <td>-0.109823</td>\n",
       "      <td>0.064623</td>\n",
       "      <td>0.080091</td>\n",
       "      <td>-0.002383</td>\n",
       "      <td>-0.263887</td>\n",
       "      <td>1.000000</td>\n",
       "      <td>-0.022624</td>\n",
       "      <td>-0.090439</td>\n",
       "      <td>-0.420782</td>\n",
       "      <td>-0.034804</td>\n",
       "    </tr>\n",
       "    <tr>\n",
       "      <th>Business Confidence Index</th>\n",
       "      <td>-0.140269</td>\n",
       "      <td>-0.140870</td>\n",
       "      <td>-0.891213</td>\n",
       "      <td>0.107310</td>\n",
       "      <td>-0.285155</td>\n",
       "      <td>-0.759693</td>\n",
       "      <td>-0.894889</td>\n",
       "      <td>-0.275263</td>\n",
       "      <td>-0.098233</td>\n",
       "      <td>-0.022624</td>\n",
       "      <td>1.000000</td>\n",
       "      <td>-0.348458</td>\n",
       "      <td>-0.036516</td>\n",
       "      <td>-0.696795</td>\n",
       "    </tr>\n",
       "    <tr>\n",
       "      <th>Consumer Confidence Index</th>\n",
       "      <td>-0.294710</td>\n",
       "      <td>-0.296843</td>\n",
       "      <td>0.430231</td>\n",
       "      <td>-0.543531</td>\n",
       "      <td>0.604182</td>\n",
       "      <td>0.574503</td>\n",
       "      <td>0.456975</td>\n",
       "      <td>0.725396</td>\n",
       "      <td>-0.452111</td>\n",
       "      <td>-0.090439</td>\n",
       "      <td>-0.348458</td>\n",
       "      <td>1.000000</td>\n",
       "      <td>-0.307929</td>\n",
       "      <td>0.055747</td>\n",
       "    </tr>\n",
       "    <tr>\n",
       "      <th>Initial Unemployment Claim</th>\n",
       "      <td>-0.108628</td>\n",
       "      <td>-0.116258</td>\n",
       "      <td>-0.104241</td>\n",
       "      <td>0.517789</td>\n",
       "      <td>-0.262231</td>\n",
       "      <td>-0.401744</td>\n",
       "      <td>-0.240102</td>\n",
       "      <td>-0.476756</td>\n",
       "      <td>0.841997</td>\n",
       "      <td>-0.420782</td>\n",
       "      <td>-0.036516</td>\n",
       "      <td>-0.307929</td>\n",
       "      <td>1.000000</td>\n",
       "      <td>0.235364</td>\n",
       "    </tr>\n",
       "    <tr>\n",
       "      <th>Disposable Income</th>\n",
       "      <td>-0.048424</td>\n",
       "      <td>-0.042619</td>\n",
       "      <td>0.761469</td>\n",
       "      <td>0.165066</td>\n",
       "      <td>-0.063043</td>\n",
       "      <td>0.476062</td>\n",
       "      <td>0.671053</td>\n",
       "      <td>0.043985</td>\n",
       "      <td>0.294871</td>\n",
       "      <td>-0.034804</td>\n",
       "      <td>-0.696795</td>\n",
       "      <td>0.055747</td>\n",
       "      <td>0.235364</td>\n",
       "      <td>1.000000</td>\n",
       "    </tr>\n",
       "  </tbody>\n",
       "</table>\n",
       "</div>"
      ],
      "text/plain": [
       "                             Week No  Month No      Year  Refinance  \\\n",
       "Week No                     1.000000  0.996016 -0.079961   0.109560   \n",
       "Month No                    0.996016  1.000000 -0.076145   0.108748   \n",
       "Year                       -0.079961 -0.076145  1.000000  -0.149954   \n",
       "Refinance                   0.109560  0.108748 -0.149954   1.000000   \n",
       "Mortgage Rate              -0.091306 -0.096064  0.249639  -0.791933   \n",
       "Inflation                   0.068320  0.077024  0.851703  -0.538733   \n",
       "Housing Price Index         0.104377  0.112433  0.953012  -0.314706   \n",
       "Treasury Yield             -0.203068 -0.199703  0.370420  -0.800129   \n",
       "Unemployment Rate          -0.012295 -0.021552 -0.095542   0.640794   \n",
       "GDP                         0.243292  0.248530  0.018550  -0.078027   \n",
       "Business Confidence Index  -0.140269 -0.140870 -0.891213   0.107310   \n",
       "Consumer Confidence Index  -0.294710 -0.296843  0.430231  -0.543531   \n",
       "Initial Unemployment Claim -0.108628 -0.116258 -0.104241   0.517789   \n",
       "Disposable Income          -0.048424 -0.042619  0.761469   0.165066   \n",
       "\n",
       "                            Mortgage Rate  Inflation  Housing Price Index  \\\n",
       "Week No                         -0.091306   0.068320             0.104377   \n",
       "Month No                        -0.096064   0.077024             0.112433   \n",
       "Year                             0.249639   0.851703             0.953012   \n",
       "Refinance                       -0.791933  -0.538733            -0.314706   \n",
       "Mortgage Rate                    1.000000   0.535009             0.342911   \n",
       "Inflation                        0.535009   1.000000             0.940686   \n",
       "Housing Price Index              0.342911   0.940686             1.000000   \n",
       "Treasury Yield                   0.802627   0.632321             0.470021   \n",
       "Unemployment Rate               -0.447990  -0.473086            -0.239176   \n",
       "GDP                             -0.109823   0.064623             0.080091   \n",
       "Business Confidence Index       -0.285155  -0.759693            -0.894889   \n",
       "Consumer Confidence Index        0.604182   0.574503             0.456975   \n",
       "Initial Unemployment Claim      -0.262231  -0.401744            -0.240102   \n",
       "Disposable Income               -0.063043   0.476062             0.671053   \n",
       "\n",
       "                            Treasury Yield  Unemployment Rate       GDP  \\\n",
       "Week No                          -0.203068          -0.012295  0.243292   \n",
       "Month No                         -0.199703          -0.021552  0.248530   \n",
       "Year                              0.370420          -0.095542  0.018550   \n",
       "Refinance                        -0.800129           0.640794 -0.078027   \n",
       "Mortgage Rate                     0.802627          -0.447990 -0.109823   \n",
       "Inflation                         0.632321          -0.473086  0.064623   \n",
       "Housing Price Index               0.470021          -0.239176  0.080091   \n",
       "Treasury Yield                    1.000000          -0.613565 -0.002383   \n",
       "Unemployment Rate                -0.613565           1.000000 -0.263887   \n",
       "GDP                              -0.002383          -0.263887  1.000000   \n",
       "Business Confidence Index        -0.275263          -0.098233 -0.022624   \n",
       "Consumer Confidence Index         0.725396          -0.452111 -0.090439   \n",
       "Initial Unemployment Claim       -0.476756           0.841997 -0.420782   \n",
       "Disposable Income                 0.043985           0.294871 -0.034804   \n",
       "\n",
       "                            Business Confidence Index  \\\n",
       "Week No                                     -0.140269   \n",
       "Month No                                    -0.140870   \n",
       "Year                                        -0.891213   \n",
       "Refinance                                    0.107310   \n",
       "Mortgage Rate                               -0.285155   \n",
       "Inflation                                   -0.759693   \n",
       "Housing Price Index                         -0.894889   \n",
       "Treasury Yield                              -0.275263   \n",
       "Unemployment Rate                           -0.098233   \n",
       "GDP                                         -0.022624   \n",
       "Business Confidence Index                    1.000000   \n",
       "Consumer Confidence Index                   -0.348458   \n",
       "Initial Unemployment Claim                  -0.036516   \n",
       "Disposable Income                           -0.696795   \n",
       "\n",
       "                            Consumer Confidence Index  \\\n",
       "Week No                                     -0.294710   \n",
       "Month No                                    -0.296843   \n",
       "Year                                         0.430231   \n",
       "Refinance                                   -0.543531   \n",
       "Mortgage Rate                                0.604182   \n",
       "Inflation                                    0.574503   \n",
       "Housing Price Index                          0.456975   \n",
       "Treasury Yield                               0.725396   \n",
       "Unemployment Rate                           -0.452111   \n",
       "GDP                                         -0.090439   \n",
       "Business Confidence Index                   -0.348458   \n",
       "Consumer Confidence Index                    1.000000   \n",
       "Initial Unemployment Claim                  -0.307929   \n",
       "Disposable Income                            0.055747   \n",
       "\n",
       "                            Initial Unemployment Claim  Disposable Income  \n",
       "Week No                                      -0.108628          -0.048424  \n",
       "Month No                                     -0.116258          -0.042619  \n",
       "Year                                         -0.104241           0.761469  \n",
       "Refinance                                     0.517789           0.165066  \n",
       "Mortgage Rate                                -0.262231          -0.063043  \n",
       "Inflation                                    -0.401744           0.476062  \n",
       "Housing Price Index                          -0.240102           0.671053  \n",
       "Treasury Yield                               -0.476756           0.043985  \n",
       "Unemployment Rate                             0.841997           0.294871  \n",
       "GDP                                          -0.420782          -0.034804  \n",
       "Business Confidence Index                    -0.036516          -0.696795  \n",
       "Consumer Confidence Index                    -0.307929           0.055747  \n",
       "Initial Unemployment Claim                    1.000000           0.235364  \n",
       "Disposable Income                             0.235364           1.000000  "
      ]
     },
     "execution_count": 10,
     "metadata": {},
     "output_type": "execute_result"
    }
   ],
   "source": [
    "d1.corr()"
   ]
  },
  {
   "cell_type": "code",
   "execution_count": 11,
   "id": "169be88f",
   "metadata": {},
   "outputs": [
    {
     "data": {
      "text/plain": [
       "Date                           0\n",
       "Week No                        0\n",
       "Month No                       0\n",
       "Year                           0\n",
       "Refinance                     13\n",
       "Mortgage Rate                  0\n",
       "Inflation                      0\n",
       "Housing Price Index            0\n",
       "Treasury Yield                 0\n",
       "Unemployment Rate              0\n",
       "GDP                            0\n",
       "Business Confidence Index      0\n",
       "Consumer Confidence Index      0\n",
       "Initial Unemployment Claim     0\n",
       "Disposable Income              0\n",
       "dtype: int64"
      ]
     },
     "execution_count": 11,
     "metadata": {},
     "output_type": "execute_result"
    }
   ],
   "source": [
    "d1.isnull().sum()"
   ]
  },
  {
   "cell_type": "code",
   "execution_count": 12,
   "id": "a3e33c94",
   "metadata": {},
   "outputs": [],
   "source": [
    "future_data  = d1[d1['Refinance'].isna()]"
   ]
  },
  {
   "cell_type": "code",
   "execution_count": 13,
   "id": "5b19d9bb",
   "metadata": {},
   "outputs": [
    {
     "data": {
      "text/html": [
       "<div>\n",
       "<style scoped>\n",
       "    .dataframe tbody tr th:only-of-type {\n",
       "        vertical-align: middle;\n",
       "    }\n",
       "\n",
       "    .dataframe tbody tr th {\n",
       "        vertical-align: top;\n",
       "    }\n",
       "\n",
       "    .dataframe thead th {\n",
       "        text-align: right;\n",
       "    }\n",
       "</style>\n",
       "<table border=\"1\" class=\"dataframe\">\n",
       "  <thead>\n",
       "    <tr style=\"text-align: right;\">\n",
       "      <th></th>\n",
       "      <th>Date</th>\n",
       "      <th>Week No</th>\n",
       "      <th>Month No</th>\n",
       "      <th>Year</th>\n",
       "      <th>Refinance</th>\n",
       "      <th>Mortgage Rate</th>\n",
       "      <th>Inflation</th>\n",
       "      <th>Housing Price Index</th>\n",
       "      <th>Treasury Yield</th>\n",
       "      <th>Unemployment Rate</th>\n",
       "      <th>GDP</th>\n",
       "      <th>Business Confidence Index</th>\n",
       "      <th>Consumer Confidence Index</th>\n",
       "      <th>Initial Unemployment Claim</th>\n",
       "      <th>Disposable Income</th>\n",
       "    </tr>\n",
       "  </thead>\n",
       "  <tbody>\n",
       "    <tr>\n",
       "      <th>188</th>\n",
       "      <td>2022-08-08</td>\n",
       "      <td>32</td>\n",
       "      <td>8</td>\n",
       "      <td>2022</td>\n",
       "      <td>NaN</td>\n",
       "      <td>5.405537</td>\n",
       "      <td>9.1</td>\n",
       "      <td>274.253358</td>\n",
       "      <td>2.379681</td>\n",
       "      <td>3.6</td>\n",
       "      <td>2.5</td>\n",
       "      <td>96.600531</td>\n",
       "      <td>105.138462</td>\n",
       "      <td>213138.5625</td>\n",
       "      <td>18423.057143</td>\n",
       "    </tr>\n",
       "    <tr>\n",
       "      <th>189</th>\n",
       "      <td>2022-08-15</td>\n",
       "      <td>33</td>\n",
       "      <td>8</td>\n",
       "      <td>2022</td>\n",
       "      <td>NaN</td>\n",
       "      <td>5.405537</td>\n",
       "      <td>9.1</td>\n",
       "      <td>274.253358</td>\n",
       "      <td>2.379681</td>\n",
       "      <td>3.6</td>\n",
       "      <td>2.5</td>\n",
       "      <td>96.600531</td>\n",
       "      <td>105.138462</td>\n",
       "      <td>213138.5625</td>\n",
       "      <td>18423.057143</td>\n",
       "    </tr>\n",
       "  </tbody>\n",
       "</table>\n",
       "</div>"
      ],
      "text/plain": [
       "          Date  Week No  Month No  Year  Refinance  Mortgage Rate  Inflation  \\\n",
       "188 2022-08-08       32         8  2022        NaN       5.405537        9.1   \n",
       "189 2022-08-15       33         8  2022        NaN       5.405537        9.1   \n",
       "\n",
       "     Housing Price Index  Treasury Yield  Unemployment Rate  GDP  \\\n",
       "188           274.253358        2.379681                3.6  2.5   \n",
       "189           274.253358        2.379681                3.6  2.5   \n",
       "\n",
       "     Business Confidence Index  Consumer Confidence Index  \\\n",
       "188                  96.600531                 105.138462   \n",
       "189                  96.600531                 105.138462   \n",
       "\n",
       "     Initial Unemployment Claim  Disposable Income  \n",
       "188                 213138.5625       18423.057143  \n",
       "189                 213138.5625       18423.057143  "
      ]
     },
     "execution_count": 13,
     "metadata": {},
     "output_type": "execute_result"
    }
   ],
   "source": [
    "future_data.head(2)"
   ]
  },
  {
   "cell_type": "code",
   "execution_count": 14,
   "id": "4478153f",
   "metadata": {},
   "outputs": [],
   "source": [
    "base_data = d1[~d1['Refinance'].isna()]"
   ]
  },
  {
   "cell_type": "code",
   "execution_count": 15,
   "id": "ec655379",
   "metadata": {},
   "outputs": [
    {
     "data": {
      "text/html": [
       "<div>\n",
       "<style scoped>\n",
       "    .dataframe tbody tr th:only-of-type {\n",
       "        vertical-align: middle;\n",
       "    }\n",
       "\n",
       "    .dataframe tbody tr th {\n",
       "        vertical-align: top;\n",
       "    }\n",
       "\n",
       "    .dataframe thead th {\n",
       "        text-align: right;\n",
       "    }\n",
       "</style>\n",
       "<table border=\"1\" class=\"dataframe\">\n",
       "  <thead>\n",
       "    <tr style=\"text-align: right;\">\n",
       "      <th></th>\n",
       "      <th>Date</th>\n",
       "      <th>Week No</th>\n",
       "      <th>Month No</th>\n",
       "      <th>Year</th>\n",
       "      <th>Refinance</th>\n",
       "      <th>Mortgage Rate</th>\n",
       "      <th>Inflation</th>\n",
       "      <th>Housing Price Index</th>\n",
       "      <th>Treasury Yield</th>\n",
       "      <th>Unemployment Rate</th>\n",
       "      <th>GDP</th>\n",
       "      <th>Business Confidence Index</th>\n",
       "      <th>Consumer Confidence Index</th>\n",
       "      <th>Initial Unemployment Claim</th>\n",
       "      <th>Disposable Income</th>\n",
       "    </tr>\n",
       "  </thead>\n",
       "  <tbody>\n",
       "    <tr>\n",
       "      <th>0</th>\n",
       "      <td>2018-12-31</td>\n",
       "      <td>1</td>\n",
       "      <td>1</td>\n",
       "      <td>2019</td>\n",
       "      <td>885.0</td>\n",
       "      <td>4.51</td>\n",
       "      <td>1.6</td>\n",
       "      <td>187.901424</td>\n",
       "      <td>1.70</td>\n",
       "      <td>4.0</td>\n",
       "      <td>2.4</td>\n",
       "      <td>101.008462</td>\n",
       "      <td>101.0012</td>\n",
       "      <td>329495.250000</td>\n",
       "      <td>16027.8</td>\n",
       "    </tr>\n",
       "    <tr>\n",
       "      <th>1</th>\n",
       "      <td>2019-01-07</td>\n",
       "      <td>2</td>\n",
       "      <td>1</td>\n",
       "      <td>2019</td>\n",
       "      <td>1094.0</td>\n",
       "      <td>4.51</td>\n",
       "      <td>1.6</td>\n",
       "      <td>187.901424</td>\n",
       "      <td>2.16</td>\n",
       "      <td>4.0</td>\n",
       "      <td>2.4</td>\n",
       "      <td>101.008462</td>\n",
       "      <td>101.0012</td>\n",
       "      <td>348680.142857</td>\n",
       "      <td>16027.8</td>\n",
       "    </tr>\n",
       "  </tbody>\n",
       "</table>\n",
       "</div>"
      ],
      "text/plain": [
       "        Date  Week No  Month No  Year  Refinance  Mortgage Rate  Inflation  \\\n",
       "0 2018-12-31        1         1  2019      885.0           4.51        1.6   \n",
       "1 2019-01-07        2         1  2019     1094.0           4.51        1.6   \n",
       "\n",
       "   Housing Price Index  Treasury Yield  Unemployment Rate  GDP  \\\n",
       "0           187.901424            1.70                4.0  2.4   \n",
       "1           187.901424            2.16                4.0  2.4   \n",
       "\n",
       "   Business Confidence Index  Consumer Confidence Index  \\\n",
       "0                 101.008462                   101.0012   \n",
       "1                 101.008462                   101.0012   \n",
       "\n",
       "   Initial Unemployment Claim  Disposable Income  \n",
       "0               329495.250000            16027.8  \n",
       "1               348680.142857            16027.8  "
      ]
     },
     "execution_count": 15,
     "metadata": {},
     "output_type": "execute_result"
    }
   ],
   "source": [
    "base_data.head(2)"
   ]
  },
  {
   "cell_type": "code",
   "execution_count": 16,
   "id": "78737946",
   "metadata": {},
   "outputs": [
    {
     "data": {
      "text/html": [
       "<div>\n",
       "<style scoped>\n",
       "    .dataframe tbody tr th:only-of-type {\n",
       "        vertical-align: middle;\n",
       "    }\n",
       "\n",
       "    .dataframe tbody tr th {\n",
       "        vertical-align: top;\n",
       "    }\n",
       "\n",
       "    .dataframe thead th {\n",
       "        text-align: right;\n",
       "    }\n",
       "</style>\n",
       "<table border=\"1\" class=\"dataframe\">\n",
       "  <thead>\n",
       "    <tr style=\"text-align: right;\">\n",
       "      <th></th>\n",
       "      <th>Date</th>\n",
       "      <th>Week No</th>\n",
       "      <th>Month No</th>\n",
       "      <th>Year</th>\n",
       "      <th>Refinance</th>\n",
       "      <th>Mortgage Rate</th>\n",
       "      <th>Inflation</th>\n",
       "      <th>Housing Price Index</th>\n",
       "      <th>Treasury Yield</th>\n",
       "      <th>Unemployment Rate</th>\n",
       "      <th>GDP</th>\n",
       "      <th>Business Confidence Index</th>\n",
       "      <th>Consumer Confidence Index</th>\n",
       "      <th>Initial Unemployment Claim</th>\n",
       "      <th>Disposable Income</th>\n",
       "    </tr>\n",
       "  </thead>\n",
       "  <tbody>\n",
       "    <tr>\n",
       "      <th>186</th>\n",
       "      <td>2022-07-25</td>\n",
       "      <td>30</td>\n",
       "      <td>7</td>\n",
       "      <td>2022</td>\n",
       "      <td>835.0</td>\n",
       "      <td>5.405537</td>\n",
       "      <td>9.1</td>\n",
       "      <td>274.253358</td>\n",
       "      <td>2.379681</td>\n",
       "      <td>3.6</td>\n",
       "      <td>2.5</td>\n",
       "      <td>96.600531</td>\n",
       "      <td>105.138462</td>\n",
       "      <td>213138.5625</td>\n",
       "      <td>18423.057143</td>\n",
       "    </tr>\n",
       "    <tr>\n",
       "      <th>187</th>\n",
       "      <td>2022-08-01</td>\n",
       "      <td>31</td>\n",
       "      <td>8</td>\n",
       "      <td>2022</td>\n",
       "      <td>718.0</td>\n",
       "      <td>5.405537</td>\n",
       "      <td>9.1</td>\n",
       "      <td>274.253358</td>\n",
       "      <td>2.379681</td>\n",
       "      <td>3.6</td>\n",
       "      <td>2.5</td>\n",
       "      <td>96.600531</td>\n",
       "      <td>105.138462</td>\n",
       "      <td>213138.5625</td>\n",
       "      <td>18423.057143</td>\n",
       "    </tr>\n",
       "  </tbody>\n",
       "</table>\n",
       "</div>"
      ],
      "text/plain": [
       "          Date  Week No  Month No  Year  Refinance  Mortgage Rate  Inflation  \\\n",
       "186 2022-07-25       30         7  2022      835.0       5.405537        9.1   \n",
       "187 2022-08-01       31         8  2022      718.0       5.405537        9.1   \n",
       "\n",
       "     Housing Price Index  Treasury Yield  Unemployment Rate  GDP  \\\n",
       "186           274.253358        2.379681                3.6  2.5   \n",
       "187           274.253358        2.379681                3.6  2.5   \n",
       "\n",
       "     Business Confidence Index  Consumer Confidence Index  \\\n",
       "186                  96.600531                 105.138462   \n",
       "187                  96.600531                 105.138462   \n",
       "\n",
       "     Initial Unemployment Claim  Disposable Income  \n",
       "186                 213138.5625       18423.057143  \n",
       "187                 213138.5625       18423.057143  "
      ]
     },
     "execution_count": 16,
     "metadata": {},
     "output_type": "execute_result"
    }
   ],
   "source": [
    "base_data.tail(2)"
   ]
  },
  {
   "cell_type": "code",
   "execution_count": 17,
   "id": "b4f543ac",
   "metadata": {},
   "outputs": [
    {
     "data": {
      "text/plain": [
       "Date                          0\n",
       "Week No                       0\n",
       "Month No                      0\n",
       "Year                          0\n",
       "Refinance                     0\n",
       "Mortgage Rate                 0\n",
       "Inflation                     0\n",
       "Housing Price Index           0\n",
       "Treasury Yield                0\n",
       "Unemployment Rate             0\n",
       "GDP                           0\n",
       "Business Confidence Index     0\n",
       "Consumer Confidence Index     0\n",
       "Initial Unemployment Claim    0\n",
       "Disposable Income             0\n",
       "dtype: int64"
      ]
     },
     "execution_count": 17,
     "metadata": {},
     "output_type": "execute_result"
    }
   ],
   "source": [
    "base_data.isna().sum()"
   ]
  },
  {
   "cell_type": "code",
   "execution_count": 18,
   "id": "786c83b4",
   "metadata": {},
   "outputs": [],
   "source": [
    "base_data=base_data.drop('Date',axis=1)"
   ]
  },
  {
   "cell_type": "code",
   "execution_count": 19,
   "id": "b14c7b7a",
   "metadata": {},
   "outputs": [],
   "source": [
    "x=base_data.drop('Refinance',axis=1)\n",
    "y=base_data['Refinance']"
   ]
  },
  {
   "cell_type": "code",
   "execution_count": 20,
   "id": "1e511a61",
   "metadata": {},
   "outputs": [
    {
     "data": {
      "text/html": [
       "<div>\n",
       "<style scoped>\n",
       "    .dataframe tbody tr th:only-of-type {\n",
       "        vertical-align: middle;\n",
       "    }\n",
       "\n",
       "    .dataframe tbody tr th {\n",
       "        vertical-align: top;\n",
       "    }\n",
       "\n",
       "    .dataframe thead th {\n",
       "        text-align: right;\n",
       "    }\n",
       "</style>\n",
       "<table border=\"1\" class=\"dataframe\">\n",
       "  <thead>\n",
       "    <tr style=\"text-align: right;\">\n",
       "      <th></th>\n",
       "      <th>Week No</th>\n",
       "      <th>Month No</th>\n",
       "      <th>Year</th>\n",
       "      <th>Mortgage Rate</th>\n",
       "      <th>Inflation</th>\n",
       "      <th>Housing Price Index</th>\n",
       "      <th>Treasury Yield</th>\n",
       "      <th>Unemployment Rate</th>\n",
       "      <th>GDP</th>\n",
       "      <th>Business Confidence Index</th>\n",
       "      <th>Consumer Confidence Index</th>\n",
       "      <th>Initial Unemployment Claim</th>\n",
       "      <th>Disposable Income</th>\n",
       "    </tr>\n",
       "  </thead>\n",
       "  <tbody>\n",
       "    <tr>\n",
       "      <th>0</th>\n",
       "      <td>1</td>\n",
       "      <td>1</td>\n",
       "      <td>2019</td>\n",
       "      <td>4.51</td>\n",
       "      <td>1.6</td>\n",
       "      <td>187.901424</td>\n",
       "      <td>1.70</td>\n",
       "      <td>4.0</td>\n",
       "      <td>2.4</td>\n",
       "      <td>101.008462</td>\n",
       "      <td>101.0012</td>\n",
       "      <td>329495.250000</td>\n",
       "      <td>16027.8</td>\n",
       "    </tr>\n",
       "    <tr>\n",
       "      <th>1</th>\n",
       "      <td>2</td>\n",
       "      <td>1</td>\n",
       "      <td>2019</td>\n",
       "      <td>4.51</td>\n",
       "      <td>1.6</td>\n",
       "      <td>187.901424</td>\n",
       "      <td>2.16</td>\n",
       "      <td>4.0</td>\n",
       "      <td>2.4</td>\n",
       "      <td>101.008462</td>\n",
       "      <td>101.0012</td>\n",
       "      <td>348680.142857</td>\n",
       "      <td>16027.8</td>\n",
       "    </tr>\n",
       "  </tbody>\n",
       "</table>\n",
       "</div>"
      ],
      "text/plain": [
       "   Week No  Month No  Year  Mortgage Rate  Inflation  Housing Price Index  \\\n",
       "0        1         1  2019           4.51        1.6           187.901424   \n",
       "1        2         1  2019           4.51        1.6           187.901424   \n",
       "\n",
       "   Treasury Yield  Unemployment Rate  GDP  Business Confidence Index  \\\n",
       "0            1.70                4.0  2.4                 101.008462   \n",
       "1            2.16                4.0  2.4                 101.008462   \n",
       "\n",
       "   Consumer Confidence Index  Initial Unemployment Claim  Disposable Income  \n",
       "0                   101.0012               329495.250000            16027.8  \n",
       "1                   101.0012               348680.142857            16027.8  "
      ]
     },
     "execution_count": 20,
     "metadata": {},
     "output_type": "execute_result"
    }
   ],
   "source": [
    "x.head(2)"
   ]
  },
  {
   "cell_type": "code",
   "execution_count": 21,
   "id": "e08820ed",
   "metadata": {},
   "outputs": [
    {
     "data": {
      "text/plain": [
       "0     885.0\n",
       "1    1094.0\n",
       "Name: Refinance, dtype: float64"
      ]
     },
     "execution_count": 21,
     "metadata": {},
     "output_type": "execute_result"
    }
   ],
   "source": [
    "y.head(2)"
   ]
  },
  {
   "cell_type": "code",
   "execution_count": 22,
   "id": "6619a517",
   "metadata": {},
   "outputs": [],
   "source": [
    "from sklearn.model_selection import train_test_split\n",
    "X_train,X_test,y_train,y_test=train_test_split(x,y,test_size=0.10,random_state=24)"
   ]
  },
  {
   "cell_type": "code",
   "execution_count": 23,
   "id": "4c93f3ab",
   "metadata": {},
   "outputs": [
    {
     "name": "stdout",
     "output_type": "stream",
     "text": [
      "(169, 13) (19, 13) (169,) (19,)\n"
     ]
    }
   ],
   "source": [
    "print(X_train.shape,X_test.shape,y_train.shape,y_test.shape)"
   ]
  },
  {
   "cell_type": "code",
   "execution_count": 24,
   "id": "fcb127ab",
   "metadata": {},
   "outputs": [
    {
     "data": {
      "text/plain": [
       "array([3750.77247002, 2429.62136667, 1517.86317623, 3296.44863888,\n",
       "       3383.27950481,  992.93536205,  777.97097005, 1773.07290159,\n",
       "       2640.16212612,  632.92037719, 3167.29181019, 3399.38058161,\n",
       "       3520.09649251, 2523.95043908, 1682.85341921, 2602.3307368 ,\n",
       "        870.42197491, 1553.23146318, 3003.05646336])"
      ]
     },
     "execution_count": 24,
     "metadata": {},
     "output_type": "execute_result"
    }
   ],
   "source": [
    "from sklearn.linear_model import LinearRegression\n",
    "ln=LinearRegression()\n",
    "ln.fit(X_train,y_train)\n",
    "ln.predict(X_test)"
   ]
  },
  {
   "cell_type": "code",
   "execution_count": 25,
   "id": "c5e23465",
   "metadata": {},
   "outputs": [
    {
     "data": {
      "text/plain": [
       "6867.758886193857"
      ]
     },
     "execution_count": 25,
     "metadata": {},
     "output_type": "execute_result"
    }
   ],
   "source": [
    "abs(y_test.values-ln.predict(X_test)).sum()"
   ]
  },
  {
   "cell_type": "code",
   "execution_count": 26,
   "id": "91949374",
   "metadata": {},
   "outputs": [
    {
     "name": "stderr",
     "output_type": "stream",
     "text": [
      "C:\\Users\\venkateshwarar\\Anaconda3\\lib\\site-packages\\sklearn\\linear_model\\_coordinate_descent.py:647: ConvergenceWarning: Objective did not converge. You might want to increase the number of iterations, check the scale of the features or consider increasing regularisation. Duality gap: 1.265e+07, tolerance: 1.456e+04\n",
      "  model = cd_fast.enet_coordinate_descent(\n"
     ]
    },
    {
     "data": {
      "text/plain": [
       "6927.656746629509"
      ]
     },
     "execution_count": 26,
     "metadata": {},
     "output_type": "execute_result"
    }
   ],
   "source": [
    "from sklearn.linear_model import Lasso\n",
    "ls=Lasso()\n",
    "ls.fit(X_train,y_train)\n",
    "ls.predict(X_test)\n",
    "\n",
    "abs(y_test.values-ls.predict(X_test)).sum()"
   ]
  },
  {
   "cell_type": "code",
   "execution_count": 27,
   "id": "d15be4d6",
   "metadata": {},
   "outputs": [
    {
     "data": {
      "text/plain": [
       "7001.954024770763"
      ]
     },
     "execution_count": 27,
     "metadata": {},
     "output_type": "execute_result"
    }
   ],
   "source": [
    "from sklearn.linear_model import Ridge\n",
    "rd=Ridge()\n",
    "rd.fit(X_train,y_train)\n",
    "rd.predict(X_test)\n",
    "\n",
    "abs(y_test.values-rd.predict(X_test)).sum()"
   ]
  },
  {
   "cell_type": "code",
   "execution_count": 28,
   "id": "936fc644",
   "metadata": {},
   "outputs": [],
   "source": [
    "def table_validation():\n",
    "    validation_table=[]\n",
    "    for i in [LinearRegression,Lasso,Ridge]:\n",
    "        rd=i()\n",
    "        rd.fit(X_train,y_train)\n",
    "        rd.predict(X_test)\n",
    "        mae=mean_absolute_error(y_test.values,rd.predict(X_test))\n",
    "        mse=mean_squared_error(y_test.values,rd.predict(X_test))\n",
    "        rmse=np.sqrt(mean_squared_error(y_test.values,rd.predict(X_test)))\n",
    "        mape=(((abs(y_test.values-rd.predict(X_test))/y_test.values)*100).sum())*(1/y_test.shape[0])\n",
    "        rsquare=r2_score(y_test.values,rd.predict(X_test))\n",
    "        validation_table.append([i,mae,mse,rmse,mape,rsquare])\n",
    "        #print(type(validation_table))\n",
    "    validation_table=pd.DataFrame(validation_table)\n",
    "    validation_table.columns=[\"model name\",\"mae\",\"mse\",\"rmse\",\"mape\",\"rsquare\"]\n",
    "    return validation_table"
   ]
  },
  {
   "cell_type": "code",
   "execution_count": 29,
   "id": "d7e41336",
   "metadata": {},
   "outputs": [
    {
     "name": "stderr",
     "output_type": "stream",
     "text": [
      "C:\\Users\\venkateshwarar\\Anaconda3\\lib\\site-packages\\sklearn\\linear_model\\_coordinate_descent.py:647: ConvergenceWarning: Objective did not converge. You might want to increase the number of iterations, check the scale of the features or consider increasing regularisation. Duality gap: 1.265e+07, tolerance: 1.456e+04\n",
      "  model = cd_fast.enet_coordinate_descent(\n"
     ]
    }
   ],
   "source": [
    "tv=table_validation()"
   ]
  },
  {
   "cell_type": "code",
   "execution_count": 30,
   "id": "f15de06d",
   "metadata": {},
   "outputs": [
    {
     "data": {
      "text/html": [
       "<div>\n",
       "<style scoped>\n",
       "    .dataframe tbody tr th:only-of-type {\n",
       "        vertical-align: middle;\n",
       "    }\n",
       "\n",
       "    .dataframe tbody tr th {\n",
       "        vertical-align: top;\n",
       "    }\n",
       "\n",
       "    .dataframe thead th {\n",
       "        text-align: right;\n",
       "    }\n",
       "</style>\n",
       "<table border=\"1\" class=\"dataframe\">\n",
       "  <thead>\n",
       "    <tr style=\"text-align: right;\">\n",
       "      <th></th>\n",
       "      <th>model name</th>\n",
       "      <th>mae</th>\n",
       "      <th>mse</th>\n",
       "      <th>rmse</th>\n",
       "      <th>mape</th>\n",
       "      <th>rsquare</th>\n",
       "    </tr>\n",
       "  </thead>\n",
       "  <tbody>\n",
       "    <tr>\n",
       "      <th>0</th>\n",
       "      <td>&lt;class 'sklearn.linear_model._base.LinearRegre...</td>\n",
       "      <td>361.460994</td>\n",
       "      <td>272049.697476</td>\n",
       "      <td>521.583836</td>\n",
       "      <td>23.587223</td>\n",
       "      <td>0.802330</td>\n",
       "    </tr>\n",
       "    <tr>\n",
       "      <th>1</th>\n",
       "      <td>&lt;class 'sklearn.linear_model._coordinate_desce...</td>\n",
       "      <td>364.613513</td>\n",
       "      <td>276767.480407</td>\n",
       "      <td>526.086951</td>\n",
       "      <td>23.923552</td>\n",
       "      <td>0.798902</td>\n",
       "    </tr>\n",
       "    <tr>\n",
       "      <th>2</th>\n",
       "      <td>&lt;class 'sklearn.linear_model._ridge.Ridge'&gt;</td>\n",
       "      <td>368.523896</td>\n",
       "      <td>279931.325452</td>\n",
       "      <td>529.085367</td>\n",
       "      <td>24.252683</td>\n",
       "      <td>0.796603</td>\n",
       "    </tr>\n",
       "  </tbody>\n",
       "</table>\n",
       "</div>"
      ],
      "text/plain": [
       "                                          model name         mae  \\\n",
       "0  <class 'sklearn.linear_model._base.LinearRegre...  361.460994   \n",
       "1  <class 'sklearn.linear_model._coordinate_desce...  364.613513   \n",
       "2        <class 'sklearn.linear_model._ridge.Ridge'>  368.523896   \n",
       "\n",
       "             mse        rmse       mape   rsquare  \n",
       "0  272049.697476  521.583836  23.587223  0.802330  \n",
       "1  276767.480407  526.086951  23.923552  0.798902  \n",
       "2  279931.325452  529.085367  24.252683  0.796603  "
      ]
     },
     "execution_count": 30,
     "metadata": {},
     "output_type": "execute_result"
    }
   ],
   "source": [
    "tv"
   ]
  },
  {
   "cell_type": "code",
   "execution_count": 31,
   "id": "7195b1a1",
   "metadata": {},
   "outputs": [],
   "source": [
    "from sklearn.tree import DecisionTreeRegressor\n",
    "from sklearn.ensemble import RandomForestRegressor\n",
    "from sklearn.ensemble import BaggingRegressor"
   ]
  },
  {
   "cell_type": "code",
   "execution_count": 32,
   "id": "f0302bba",
   "metadata": {},
   "outputs": [],
   "source": [
    "def model_validation(x,X_train,X_test,y_train,y_test):\n",
    "    validation_table=[]\n",
    "    models=[LinearRegression,Lasso,Ridge,DecisionTreeRegressor,RandomForestRegressor,BaggingRegressor]\n",
    "    for i in models:\n",
    "        rd=i()\n",
    "        rd.fit(X_train,y_train)\n",
    "        if x==\"train\":\n",
    "            rd.predict(X_train)\n",
    "            mae=mean_absolute_error(y_train.values,rd.predict(X_train))\n",
    "            mse=mean_squared_error(y_train.values,rd.predict(X_train))\n",
    "            rmse=np.sqrt(mean_squared_error(y_train.values,rd.predict(X_train)))\n",
    "            mape=(((abs(y_train.values-rd.predict(X_train))/y_train.values)*100).sum())*(1/y_train.shape[0])\n",
    "            rsquare=r2_score(y_train.values,rd.predict(X_train))\n",
    "            validation_table.append([i,mae,mse,rmse,mape,rsquare])\n",
    "        #validation_table=pd.DataFrame(validation_table_train)\n",
    "        #validation_table.columns=[\"model name\",\"mae\",\"mse\",\"rmse\",\"mape\",\"rsquare\"]\n",
    "        else:\n",
    "            rd.predict(X_test)\n",
    "            mae=mean_absolute_error(y_test.values,rd.predict(X_test))\n",
    "            mse=mean_squared_error(y_test.values,rd.predict(X_test))\n",
    "            rmse=np.sqrt(mean_squared_error(y_test.values,rd.predict(X_test)))\n",
    "            mape=(((abs(y_test.values-rd.predict(X_test))/y_test.values)*100).sum())*(1/y_test.shape[0])\n",
    "            rsquare=r2_score(y_test.values,rd.predict(X_test))\n",
    "            validation_table.append([i,mae,mse,rmse,mape,rsquare])\n",
    "            \n",
    "    validation_table=pd.DataFrame(validation_table)\n",
    "    validation_table.columns=[\"model name\",\"mae\",\"mse\",\"rmse\",\"mape\",\"rsquare\"]\n",
    "    return validation_table"
   ]
  },
  {
   "cell_type": "code",
   "execution_count": 33,
   "id": "1a1faf5d",
   "metadata": {},
   "outputs": [],
   "source": [
    "pd.options.display.float_format='{:0.2f}'.format"
   ]
  },
  {
   "cell_type": "code",
   "execution_count": 34,
   "id": "fcb87516",
   "metadata": {},
   "outputs": [
    {
     "name": "stderr",
     "output_type": "stream",
     "text": [
      "C:\\Users\\venkateshwarar\\Anaconda3\\lib\\site-packages\\sklearn\\linear_model\\_coordinate_descent.py:647: ConvergenceWarning: Objective did not converge. You might want to increase the number of iterations, check the scale of the features or consider increasing regularisation. Duality gap: 1.265e+07, tolerance: 1.456e+04\n",
      "  model = cd_fast.enet_coordinate_descent(\n"
     ]
    }
   ],
   "source": [
    "validation_table_train = model_validation('train',X_train,X_test,y_train,y_test)"
   ]
  },
  {
   "cell_type": "code",
   "execution_count": 35,
   "id": "ffe6ef9e",
   "metadata": {},
   "outputs": [
    {
     "data": {
      "text/html": [
       "<div>\n",
       "<style scoped>\n",
       "    .dataframe tbody tr th:only-of-type {\n",
       "        vertical-align: middle;\n",
       "    }\n",
       "\n",
       "    .dataframe tbody tr th {\n",
       "        vertical-align: top;\n",
       "    }\n",
       "\n",
       "    .dataframe thead th {\n",
       "        text-align: right;\n",
       "    }\n",
       "</style>\n",
       "<table border=\"1\" class=\"dataframe\">\n",
       "  <thead>\n",
       "    <tr style=\"text-align: right;\">\n",
       "      <th></th>\n",
       "      <th>model name</th>\n",
       "      <th>mae</th>\n",
       "      <th>mse</th>\n",
       "      <th>rmse</th>\n",
       "      <th>mape</th>\n",
       "      <th>rsquare</th>\n",
       "    </tr>\n",
       "  </thead>\n",
       "  <tbody>\n",
       "    <tr>\n",
       "      <th>0</th>\n",
       "      <td>&lt;class 'sklearn.linear_model._base.LinearRegre...</td>\n",
       "      <td>315.75</td>\n",
       "      <td>169860.14</td>\n",
       "      <td>412.14</td>\n",
       "      <td>16.79</td>\n",
       "      <td>0.80</td>\n",
       "    </tr>\n",
       "    <tr>\n",
       "      <th>1</th>\n",
       "      <td>&lt;class 'sklearn.linear_model._coordinate_desce...</td>\n",
       "      <td>315.96</td>\n",
       "      <td>169922.18</td>\n",
       "      <td>412.22</td>\n",
       "      <td>16.79</td>\n",
       "      <td>0.80</td>\n",
       "    </tr>\n",
       "    <tr>\n",
       "      <th>2</th>\n",
       "      <td>&lt;class 'sklearn.linear_model._ridge.Ridge'&gt;</td>\n",
       "      <td>316.29</td>\n",
       "      <td>170034.84</td>\n",
       "      <td>412.35</td>\n",
       "      <td>16.77</td>\n",
       "      <td>0.80</td>\n",
       "    </tr>\n",
       "    <tr>\n",
       "      <th>3</th>\n",
       "      <td>&lt;class 'sklearn.tree._classes.DecisionTreeRegr...</td>\n",
       "      <td>0.00</td>\n",
       "      <td>0.00</td>\n",
       "      <td>0.00</td>\n",
       "      <td>0.00</td>\n",
       "      <td>1.00</td>\n",
       "    </tr>\n",
       "    <tr>\n",
       "      <th>4</th>\n",
       "      <td>&lt;class 'sklearn.ensemble._forest.RandomForestR...</td>\n",
       "      <td>96.67</td>\n",
       "      <td>21842.98</td>\n",
       "      <td>147.79</td>\n",
       "      <td>4.94</td>\n",
       "      <td>0.97</td>\n",
       "    </tr>\n",
       "    <tr>\n",
       "      <th>5</th>\n",
       "      <td>&lt;class 'sklearn.ensemble._bagging.BaggingRegre...</td>\n",
       "      <td>110.06</td>\n",
       "      <td>27923.27</td>\n",
       "      <td>167.10</td>\n",
       "      <td>5.33</td>\n",
       "      <td>0.97</td>\n",
       "    </tr>\n",
       "  </tbody>\n",
       "</table>\n",
       "</div>"
      ],
      "text/plain": [
       "                                          model name    mae       mse   rmse  \\\n",
       "0  <class 'sklearn.linear_model._base.LinearRegre... 315.75 169860.14 412.14   \n",
       "1  <class 'sklearn.linear_model._coordinate_desce... 315.96 169922.18 412.22   \n",
       "2        <class 'sklearn.linear_model._ridge.Ridge'> 316.29 170034.84 412.35   \n",
       "3  <class 'sklearn.tree._classes.DecisionTreeRegr...   0.00      0.00   0.00   \n",
       "4  <class 'sklearn.ensemble._forest.RandomForestR...  96.67  21842.98 147.79   \n",
       "5  <class 'sklearn.ensemble._bagging.BaggingRegre... 110.06  27923.27 167.10   \n",
       "\n",
       "   mape  rsquare  \n",
       "0 16.79     0.80  \n",
       "1 16.79     0.80  \n",
       "2 16.77     0.80  \n",
       "3  0.00     1.00  \n",
       "4  4.94     0.97  \n",
       "5  5.33     0.97  "
      ]
     },
     "execution_count": 35,
     "metadata": {},
     "output_type": "execute_result"
    }
   ],
   "source": [
    "validation_table_train"
   ]
  },
  {
   "cell_type": "code",
   "execution_count": 36,
   "id": "f59613ed",
   "metadata": {},
   "outputs": [
    {
     "name": "stderr",
     "output_type": "stream",
     "text": [
      "C:\\Users\\venkateshwarar\\Anaconda3\\lib\\site-packages\\sklearn\\linear_model\\_coordinate_descent.py:647: ConvergenceWarning: Objective did not converge. You might want to increase the number of iterations, check the scale of the features or consider increasing regularisation. Duality gap: 1.265e+07, tolerance: 1.456e+04\n",
      "  model = cd_fast.enet_coordinate_descent(\n"
     ]
    }
   ],
   "source": [
    "validation_table_test = model_validation('test',X_train,X_test,y_train,y_test)"
   ]
  },
  {
   "cell_type": "code",
   "execution_count": 37,
   "id": "3b5ab1ae",
   "metadata": {},
   "outputs": [
    {
     "data": {
      "text/html": [
       "<div>\n",
       "<style scoped>\n",
       "    .dataframe tbody tr th:only-of-type {\n",
       "        vertical-align: middle;\n",
       "    }\n",
       "\n",
       "    .dataframe tbody tr th {\n",
       "        vertical-align: top;\n",
       "    }\n",
       "\n",
       "    .dataframe thead th {\n",
       "        text-align: right;\n",
       "    }\n",
       "</style>\n",
       "<table border=\"1\" class=\"dataframe\">\n",
       "  <thead>\n",
       "    <tr style=\"text-align: right;\">\n",
       "      <th></th>\n",
       "      <th>model name</th>\n",
       "      <th>mae</th>\n",
       "      <th>mse</th>\n",
       "      <th>rmse</th>\n",
       "      <th>mape</th>\n",
       "      <th>rsquare</th>\n",
       "    </tr>\n",
       "  </thead>\n",
       "  <tbody>\n",
       "    <tr>\n",
       "      <th>0</th>\n",
       "      <td>&lt;class 'sklearn.linear_model._base.LinearRegre...</td>\n",
       "      <td>361.46</td>\n",
       "      <td>272049.70</td>\n",
       "      <td>521.58</td>\n",
       "      <td>23.59</td>\n",
       "      <td>0.80</td>\n",
       "    </tr>\n",
       "    <tr>\n",
       "      <th>1</th>\n",
       "      <td>&lt;class 'sklearn.linear_model._coordinate_desce...</td>\n",
       "      <td>364.61</td>\n",
       "      <td>276767.48</td>\n",
       "      <td>526.09</td>\n",
       "      <td>23.92</td>\n",
       "      <td>0.80</td>\n",
       "    </tr>\n",
       "    <tr>\n",
       "      <th>2</th>\n",
       "      <td>&lt;class 'sklearn.linear_model._ridge.Ridge'&gt;</td>\n",
       "      <td>368.52</td>\n",
       "      <td>279931.33</td>\n",
       "      <td>529.09</td>\n",
       "      <td>24.25</td>\n",
       "      <td>0.80</td>\n",
       "    </tr>\n",
       "    <tr>\n",
       "      <th>3</th>\n",
       "      <td>&lt;class 'sklearn.tree._classes.DecisionTreeRegr...</td>\n",
       "      <td>345.21</td>\n",
       "      <td>321414.68</td>\n",
       "      <td>566.93</td>\n",
       "      <td>16.47</td>\n",
       "      <td>0.77</td>\n",
       "    </tr>\n",
       "    <tr>\n",
       "      <th>4</th>\n",
       "      <td>&lt;class 'sklearn.ensemble._forest.RandomForestR...</td>\n",
       "      <td>317.19</td>\n",
       "      <td>217561.00</td>\n",
       "      <td>466.43</td>\n",
       "      <td>21.62</td>\n",
       "      <td>0.84</td>\n",
       "    </tr>\n",
       "    <tr>\n",
       "      <th>5</th>\n",
       "      <td>&lt;class 'sklearn.ensemble._bagging.BaggingRegre...</td>\n",
       "      <td>309.85</td>\n",
       "      <td>191545.34</td>\n",
       "      <td>437.66</td>\n",
       "      <td>21.05</td>\n",
       "      <td>0.86</td>\n",
       "    </tr>\n",
       "  </tbody>\n",
       "</table>\n",
       "</div>"
      ],
      "text/plain": [
       "                                          model name    mae       mse   rmse  \\\n",
       "0  <class 'sklearn.linear_model._base.LinearRegre... 361.46 272049.70 521.58   \n",
       "1  <class 'sklearn.linear_model._coordinate_desce... 364.61 276767.48 526.09   \n",
       "2        <class 'sklearn.linear_model._ridge.Ridge'> 368.52 279931.33 529.09   \n",
       "3  <class 'sklearn.tree._classes.DecisionTreeRegr... 345.21 321414.68 566.93   \n",
       "4  <class 'sklearn.ensemble._forest.RandomForestR... 317.19 217561.00 466.43   \n",
       "5  <class 'sklearn.ensemble._bagging.BaggingRegre... 309.85 191545.34 437.66   \n",
       "\n",
       "   mape  rsquare  \n",
       "0 23.59     0.80  \n",
       "1 23.92     0.80  \n",
       "2 24.25     0.80  \n",
       "3 16.47     0.77  \n",
       "4 21.62     0.84  \n",
       "5 21.05     0.86  "
      ]
     },
     "execution_count": 37,
     "metadata": {},
     "output_type": "execute_result"
    }
   ],
   "source": [
    "validation_table_test"
   ]
  },
  {
   "cell_type": "markdown",
   "id": "b17b469d",
   "metadata": {},
   "source": [
    "## The models are working good on the training data but not working well on the testing data, so we need to do further Processing\n",
    "##### we need to check multicollinearity, if the features are highly correlated, we need to remove one feature from the highly correlated features\n",
    "##### By Using Lasso regression model , we can check the features coefficients values, if the coeffis having 0 values, we can remove them from the model building\n"
   ]
  },
  {
   "cell_type": "code",
   "execution_count": 38,
   "id": "1bb3b535",
   "metadata": {},
   "outputs": [
    {
     "name": "stdout",
     "output_type": "stream",
     "text": [
      "R squared Error on test set :  0.7302641104409069\n",
      "                   Column_Name  Coefficient_Value_lr\n",
      "0                      Week No                -40.51\n",
      "1                     Month No                184.15\n",
      "2                         Year                401.21\n",
      "3                Mortgage Rate               -545.10\n",
      "4                    Inflation               -122.13\n",
      "5          Housing Price Index                 -7.82\n",
      "6               Treasury Yield               -483.38\n",
      "7            Unemployment Rate                  7.28\n",
      "8                          GDP                 -5.07\n",
      "9    Business Confidence Index                -31.25\n",
      "10   Consumer Confidence Index                 -0.98\n",
      "11  Initial Unemployment Claim                  0.00\n",
      "12           Disposable Income                 -0.02\n"
     ]
    },
    {
     "data": {
      "text/plain": [
       "<BarContainer object of 13 artists>"
      ]
     },
     "execution_count": 38,
     "metadata": {},
     "output_type": "execute_result"
    },
    {
     "data": {
      "image/png": "[encoded data removed]",
      "text/plain": [
       "<Figure size 1080x432 with 1 Axes>"
      ]
     },
     "metadata": {
      "needs_background": "light"
     },
     "output_type": "display_data"
    }
   ],
   "source": [
    "linearreg = LinearRegression()\n",
    "linearreg.fit(X_train, y_train)\n",
    "\n",
    "# predicting on test\n",
    "linearreg_prediction = linearreg.predict(X_test)\n",
    "\n",
    "# calculating R_square\n",
    "R_squared = r2_score(linearreg_prediction,y_test)\n",
    "print(\"R squared Error on test set : \", R_squared)\n",
    "\n",
    "\n",
    "# Putting together the coefficient and their corresponding variable names\n",
    "coefficient_df = pd.DataFrame()\n",
    "coefficient_df[\"Column_Name\"] = X_train.columns\n",
    "coefficient_df['Coefficient_Value_lr'] = pd.Series(linearreg.coef_)\n",
    "print(coefficient_df)\n",
    "coefficient_df.to_csv('coeff_values.csv',index=False)\n",
    "plt.rcParams[\"figure.figsize\"] = (15,6)\n",
    " \n",
    "plt.bar(coefficient_df[\"Column_Name\"],coefficient_df[\"Coefficient_Value_lr\"])\n"
   ]
  },
  {
   "cell_type": "code",
   "execution_count": 39,
   "id": "71f9fbe3",
   "metadata": {},
   "outputs": [],
   "source": [
    "import pandas as pd"
   ]
  },
  {
   "cell_type": "code",
   "execution_count": 40,
   "id": "b3239f15",
   "metadata": {},
   "outputs": [],
   "source": [
    "coefficient_df = pd.DataFrame()"
   ]
  },
  {
   "cell_type": "code",
   "execution_count": 41,
   "id": "1b5f5a4a",
   "metadata": {},
   "outputs": [],
   "source": [
    "coefficient_df[\"Column_Name\"] = X_train.columns"
   ]
  },
  {
   "cell_type": "code",
   "execution_count": 42,
   "id": "25618354",
   "metadata": {},
   "outputs": [
    {
     "data": {
      "text/html": [
       "<div>\n",
       "<style scoped>\n",
       "    .dataframe tbody tr th:only-of-type {\n",
       "        vertical-align: middle;\n",
       "    }\n",
       "\n",
       "    .dataframe tbody tr th {\n",
       "        vertical-align: top;\n",
       "    }\n",
       "\n",
       "    .dataframe thead th {\n",
       "        text-align: right;\n",
       "    }\n",
       "</style>\n",
       "<table border=\"1\" class=\"dataframe\">\n",
       "  <thead>\n",
       "    <tr style=\"text-align: right;\">\n",
       "      <th></th>\n",
       "      <th>Column_Name</th>\n",
       "    </tr>\n",
       "  </thead>\n",
       "  <tbody>\n",
       "    <tr>\n",
       "      <th>0</th>\n",
       "      <td>Week No</td>\n",
       "    </tr>\n",
       "    <tr>\n",
       "      <th>1</th>\n",
       "      <td>Month No</td>\n",
       "    </tr>\n",
       "    <tr>\n",
       "      <th>2</th>\n",
       "      <td>Year</td>\n",
       "    </tr>\n",
       "    <tr>\n",
       "      <th>3</th>\n",
       "      <td>Mortgage Rate</td>\n",
       "    </tr>\n",
       "    <tr>\n",
       "      <th>4</th>\n",
       "      <td>Inflation</td>\n",
       "    </tr>\n",
       "    <tr>\n",
       "      <th>5</th>\n",
       "      <td>Housing Price Index</td>\n",
       "    </tr>\n",
       "    <tr>\n",
       "      <th>6</th>\n",
       "      <td>Treasury Yield</td>\n",
       "    </tr>\n",
       "    <tr>\n",
       "      <th>7</th>\n",
       "      <td>Unemployment Rate</td>\n",
       "    </tr>\n",
       "    <tr>\n",
       "      <th>8</th>\n",
       "      <td>GDP</td>\n",
       "    </tr>\n",
       "    <tr>\n",
       "      <th>9</th>\n",
       "      <td>Business Confidence Index</td>\n",
       "    </tr>\n",
       "    <tr>\n",
       "      <th>10</th>\n",
       "      <td>Consumer Confidence Index</td>\n",
       "    </tr>\n",
       "    <tr>\n",
       "      <th>11</th>\n",
       "      <td>Initial Unemployment Claim</td>\n",
       "    </tr>\n",
       "    <tr>\n",
       "      <th>12</th>\n",
       "      <td>Disposable Income</td>\n",
       "    </tr>\n",
       "  </tbody>\n",
       "</table>\n",
       "</div>"
      ],
      "text/plain": [
       "                   Column_Name\n",
       "0                      Week No\n",
       "1                     Month No\n",
       "2                         Year\n",
       "3                Mortgage Rate\n",
       "4                    Inflation\n",
       "5          Housing Price Index\n",
       "6               Treasury Yield\n",
       "7            Unemployment Rate\n",
       "8                          GDP\n",
       "9    Business Confidence Index\n",
       "10   Consumer Confidence Index\n",
       "11  Initial Unemployment Claim\n",
       "12           Disposable Income"
      ]
     },
     "execution_count": 42,
     "metadata": {},
     "output_type": "execute_result"
    }
   ],
   "source": [
    "coefficient_df"
   ]
  },
  {
   "cell_type": "code",
   "execution_count": 43,
   "id": "c7b44403",
   "metadata": {},
   "outputs": [
    {
     "name": "stdout",
     "output_type": "stream",
     "text": [
      "                   Column_Name  Coefficient_Value\n",
      "0                      Week No             -40.51\n",
      "1                     Month No             184.15\n",
      "2                         Year             401.21\n",
      "3                Mortgage Rate            -545.10\n",
      "4                    Inflation            -122.13\n",
      "5          Housing Price Index              -7.82\n",
      "6               Treasury Yield            -483.38\n",
      "7            Unemployment Rate               7.28\n",
      "8                          GDP              -5.07\n",
      "9    Business Confidence Index             -31.25\n",
      "10   Consumer Confidence Index              -0.98\n",
      "11  Initial Unemployment Claim               0.00\n",
      "12           Disposable Income              -0.02\n"
     ]
    }
   ],
   "source": [
    "coefficient_df['Coefficient_Value'] = pd.Series(linearreg.coef_)\n",
    "print(coefficient_df)"
   ]
  },
  {
   "cell_type": "code",
   "execution_count": 44,
   "id": "2fa365a5",
   "metadata": {},
   "outputs": [
    {
     "data": {
      "text/plain": [
       "0     -40.51\n",
       "1     184.15\n",
       "2     401.21\n",
       "3    -545.10\n",
       "4    -122.13\n",
       "5      -7.82\n",
       "6    -483.38\n",
       "7       7.28\n",
       "8      -5.07\n",
       "9     -31.25\n",
       "10     -0.98\n",
       "11      0.00\n",
       "12     -0.02\n",
       "dtype: float64"
      ]
     },
     "execution_count": 44,
     "metadata": {},
     "output_type": "execute_result"
    }
   ],
   "source": [
    "pd.Series(linearreg.coef_)"
   ]
  },
  {
   "cell_type": "code",
   "execution_count": 45,
   "id": "c4b5e742",
   "metadata": {},
   "outputs": [
    {
     "data": {
      "text/plain": [
       "-799954.980142193"
      ]
     },
     "execution_count": 45,
     "metadata": {},
     "output_type": "execute_result"
    }
   ],
   "source": [
    "linearreg.intercept_"
   ]
  },
  {
   "cell_type": "code",
   "execution_count": 46,
   "id": "da84cff6",
   "metadata": {
    "scrolled": true
   },
   "outputs": [
    {
     "name": "stdout",
     "output_type": "stream",
     "text": [
      "R squared Error on test set :  0.7232174592330614\n"
     ]
    },
    {
     "data": {
      "text/plain": [
       "<BarContainer object of 13 artists>"
      ]
     },
     "execution_count": 46,
     "metadata": {},
     "output_type": "execute_result"
    },
    {
     "data": {
      "image/png": "[encoded data removed]",
      "text/plain": [
       "<Figure size 1080x432 with 1 Axes>"
      ]
     },
     "metadata": {
      "needs_background": "light"
     },
     "output_type": "display_data"
    }
   ],
   "source": [
    "from sklearn.linear_model import Ridge\n",
    "\n",
    "# Train the model\n",
    "ridgeRegressor = Ridge(alpha = 0.5) #here setting alpha is nothing but lambda in the formula\n",
    "ridgeRegressor.fit(X_train, y_train)\n",
    "y_predicted_ridge = ridgeRegressor.predict(X_test)\n",
    "\n",
    "# calculating R_square\n",
    "R_squared = r2_score(y_predicted_ridge,y_test)\n",
    "print(\"R squared Error on test set : \", R_squared)\n",
    "\n",
    "coefficient_df['Coefficient_Value_ridge'] = pd.Series(ridgeRegressor.coef_)\n",
    "#print(coefficient_df.head)\n",
    "coefficient_df.to_csv('coeff_values.csv',index=False)\n",
    "plt.rcParams[\"figure.figsize\"] = (15,6)\n",
    " \n",
    "plt.bar(coefficient_df[\"Column_Name\"],coefficient_df[\"Coefficient_Value_ridge\"])"
   ]
  },
  {
   "cell_type": "code",
   "execution_count": 47,
   "id": "f48a17e1",
   "metadata": {},
   "outputs": [
    {
     "name": "stdout",
     "output_type": "stream",
     "text": [
      "R squared Error on test set :  0.722786681586266\n"
     ]
    },
    {
     "name": "stderr",
     "output_type": "stream",
     "text": [
      "C:\\Users\\venkateshwarar\\Anaconda3\\lib\\site-packages\\sklearn\\linear_model\\_coordinate_descent.py:647: ConvergenceWarning: Objective did not converge. You might want to increase the number of iterations, check the scale of the features or consider increasing regularisation. Duality gap: 1.265e+07, tolerance: 1.456e+04\n",
      "  model = cd_fast.enet_coordinate_descent(\n"
     ]
    },
    {
     "data": {
      "text/plain": [
       "<BarContainer object of 13 artists>"
      ]
     },
     "execution_count": 47,
     "metadata": {},
     "output_type": "execute_result"
    },
    {
     "data": {
      "image/png": "[encoded data removed]",
      "text/plain": [
       "<Figure size 1080x432 with 1 Axes>"
      ]
     },
     "metadata": {
      "needs_background": "light"
     },
     "output_type": "display_data"
    }
   ],
   "source": [
    "# import Lasso regression from sklearn library\n",
    "from sklearn.linear_model import Lasso\n",
    "\n",
    "# Train the model\n",
    "lassoRegressor = Lasso(alpha = 1) #here setting alpha is nothing but lambda in the formula\n",
    "lassoRegressor.fit(X_train, y_train)\n",
    "y_predicted_lasso = lassoRegressor.predict(X_test)\n",
    "\n",
    "# calculating Mean Squared Error (mse)\n",
    "R_squared = r2_score(y_predicted_lasso,y_test)\n",
    "print(\"R squared Error on test set : \", R_squared)\n",
    "\n",
    "coefficient_df[\"Column_Name\"] = X_train.columns\n",
    "coefficient_df['Coefficient_Value_lasso'] = pd.Series(lassoRegressor.coef_)\n",
    "#print(coefficient_df.head)\n",
    "#coefficient_df.to_csv('coeff_values.csv',index=False)\n",
    "\n",
    "plt.rcParams[\"figure.figsize\"] = (15,6)\n",
    " \n",
    "plt.bar(coefficient_df[\"Column_Name\"],coefficient_df[\"Coefficient_Value_lasso\"])"
   ]
  },
  {
   "cell_type": "code",
   "execution_count": 48,
   "id": "081b2944",
   "metadata": {},
   "outputs": [],
   "source": [
    "lasso_coeff_zero=[]"
   ]
  },
  {
   "cell_type": "code",
   "execution_count": 49,
   "id": "60ca405a",
   "metadata": {},
   "outputs": [],
   "source": [
    "index = len(coefficient_df.Coefficient_Value_lasso)"
   ]
  },
  {
   "cell_type": "code",
   "execution_count": 50,
   "id": "450c9826",
   "metadata": {},
   "outputs": [
    {
     "data": {
      "text/plain": [
       "13"
      ]
     },
     "execution_count": 50,
     "metadata": {},
     "output_type": "execute_result"
    }
   ],
   "source": [
    "index"
   ]
  },
  {
   "cell_type": "code",
   "execution_count": 51,
   "id": "6629dab0",
   "metadata": {},
   "outputs": [
    {
     "data": {
      "text/plain": [
       "[]"
      ]
     },
     "execution_count": 51,
     "metadata": {},
     "output_type": "execute_result"
    }
   ],
   "source": [
    "i=0\n",
    "while i<index:\n",
    "    if coefficient_df.Coefficient_Value_lasso[i]==0:\n",
    "        value=coefficient_df.Column_Name[i]\n",
    "        lasso_coeff_zero.append(value)\n",
    "    i=i+1\n",
    "lasso_coeff_zero"
   ]
  },
  {
   "cell_type": "code",
   "execution_count": 52,
   "id": "c8ebc163",
   "metadata": {},
   "outputs": [
    {
     "data": {
      "text/plain": [
       "0"
      ]
     },
     "execution_count": 52,
     "metadata": {},
     "output_type": "execute_result"
    }
   ],
   "source": [
    "len(lasso_coeff_zero)"
   ]
  },
  {
   "cell_type": "code",
   "execution_count": 53,
   "id": "f6bb793b",
   "metadata": {},
   "outputs": [],
   "source": [
    "#Using Pearson Correlation"
   ]
  },
  {
   "cell_type": "code",
   "execution_count": 54,
   "id": "da1da0f4",
   "metadata": {},
   "outputs": [
    {
     "data": {
      "image/png": "[encoded data removed]",
      "text/plain": [
       "<Figure size 864x720 with 2 Axes>"
      ]
     },
     "metadata": {
      "needs_background": "light"
     },
     "output_type": "display_data"
    }
   ],
   "source": [
    "import seaborn as sns\n",
    "plt.figure(figsize=(12,10))\n",
    "cor = base_data.corr()\n",
    "sns.heatmap(cor, annot=True, cmap=plt.cm.CMRmap_r)\n",
    "plt.show()"
   ]
  },
  {
   "cell_type": "code",
   "execution_count": 55,
   "id": "29dbfbb8",
   "metadata": {},
   "outputs": [],
   "source": [
    "# with the following function we can select highly correlated features\n",
    "# it will remove the first feature that is correlated with anything other feature\n",
    "\n",
    "def correlation_check(dataset, threshold):\n",
    "    col_corr = set()  # Set of all the names of correlated columns\n",
    "    corr_matrix = dataset.corr()\n",
    "    for i in range(len(corr_matrix.columns)):\n",
    "        for j in range(i):\n",
    "            if abs(corr_matrix.iloc[i, j]) > threshold: # we are interested in absolute coeff value\n",
    "                colname = corr_matrix.columns[i]  # getting the name of column\n",
    "                col_corr.add(colname)\n",
    "    return col_corr"
   ]
  },
  {
   "cell_type": "code",
   "execution_count": 56,
   "id": "32d21455",
   "metadata": {},
   "outputs": [
    {
     "data": {
      "text/plain": [
       "5"
      ]
     },
     "execution_count": 56,
     "metadata": {},
     "output_type": "execute_result"
    }
   ],
   "source": [
    "corr_features = correlation_check(X_train, 0.8)\n",
    "len(set(corr_features))"
   ]
  },
  {
   "cell_type": "code",
   "execution_count": 57,
   "id": "3bb97cfe",
   "metadata": {},
   "outputs": [
    {
     "data": {
      "text/plain": [
       "{'Business Confidence Index',\n",
       " 'Housing Price Index',\n",
       " 'Inflation',\n",
       " 'Initial Unemployment Claim',\n",
       " 'Month No'}"
      ]
     },
     "execution_count": 57,
     "metadata": {},
     "output_type": "execute_result"
    }
   ],
   "source": [
    "corr_features"
   ]
  },
  {
   "cell_type": "code",
   "execution_count": 58,
   "id": "ee97d317",
   "metadata": {},
   "outputs": [],
   "source": [
    "base_data_upd = base_data.drop(corr_features,axis=1)"
   ]
  },
  {
   "cell_type": "code",
   "execution_count": 59,
   "id": "7ec72791",
   "metadata": {},
   "outputs": [
    {
     "data": {
      "text/html": [
       "<div>\n",
       "<style scoped>\n",
       "    .dataframe tbody tr th:only-of-type {\n",
       "        vertical-align: middle;\n",
       "    }\n",
       "\n",
       "    .dataframe tbody tr th {\n",
       "        vertical-align: top;\n",
       "    }\n",
       "\n",
       "    .dataframe thead th {\n",
       "        text-align: right;\n",
       "    }\n",
       "</style>\n",
       "<table border=\"1\" class=\"dataframe\">\n",
       "  <thead>\n",
       "    <tr style=\"text-align: right;\">\n",
       "      <th></th>\n",
       "      <th>Week No</th>\n",
       "      <th>Month No</th>\n",
       "      <th>Year</th>\n",
       "      <th>Refinance</th>\n",
       "      <th>Mortgage Rate</th>\n",
       "      <th>Inflation</th>\n",
       "      <th>Housing Price Index</th>\n",
       "      <th>Treasury Yield</th>\n",
       "      <th>Unemployment Rate</th>\n",
       "      <th>GDP</th>\n",
       "      <th>Business Confidence Index</th>\n",
       "      <th>Consumer Confidence Index</th>\n",
       "      <th>Initial Unemployment Claim</th>\n",
       "      <th>Disposable Income</th>\n",
       "    </tr>\n",
       "  </thead>\n",
       "  <tbody>\n",
       "    <tr>\n",
       "      <th>0</th>\n",
       "      <td>1</td>\n",
       "      <td>1</td>\n",
       "      <td>2019</td>\n",
       "      <td>885.00</td>\n",
       "      <td>4.51</td>\n",
       "      <td>1.60</td>\n",
       "      <td>187.90</td>\n",
       "      <td>1.70</td>\n",
       "      <td>4.00</td>\n",
       "      <td>2.40</td>\n",
       "      <td>101.01</td>\n",
       "      <td>101.00</td>\n",
       "      <td>329495.25</td>\n",
       "      <td>16027.80</td>\n",
       "    </tr>\n",
       "    <tr>\n",
       "      <th>1</th>\n",
       "      <td>2</td>\n",
       "      <td>1</td>\n",
       "      <td>2019</td>\n",
       "      <td>1094.00</td>\n",
       "      <td>4.51</td>\n",
       "      <td>1.60</td>\n",
       "      <td>187.90</td>\n",
       "      <td>2.16</td>\n",
       "      <td>4.00</td>\n",
       "      <td>2.40</td>\n",
       "      <td>101.01</td>\n",
       "      <td>101.00</td>\n",
       "      <td>348680.14</td>\n",
       "      <td>16027.80</td>\n",
       "    </tr>\n",
       "  </tbody>\n",
       "</table>\n",
       "</div>"
      ],
      "text/plain": [
       "   Week No  Month No  Year  Refinance  Mortgage Rate  Inflation  \\\n",
       "0        1         1  2019     885.00           4.51       1.60   \n",
       "1        2         1  2019    1094.00           4.51       1.60   \n",
       "\n",
       "   Housing Price Index  Treasury Yield  Unemployment Rate  GDP  \\\n",
       "0               187.90            1.70               4.00 2.40   \n",
       "1               187.90            2.16               4.00 2.40   \n",
       "\n",
       "   Business Confidence Index  Consumer Confidence Index  \\\n",
       "0                     101.01                     101.00   \n",
       "1                     101.01                     101.00   \n",
       "\n",
       "   Initial Unemployment Claim  Disposable Income  \n",
       "0                   329495.25           16027.80  \n",
       "1                   348680.14           16027.80  "
      ]
     },
     "execution_count": 59,
     "metadata": {},
     "output_type": "execute_result"
    }
   ],
   "source": [
    "base_data.head(2)"
   ]
  },
  {
   "cell_type": "code",
   "execution_count": 60,
   "id": "56ffecac",
   "metadata": {},
   "outputs": [
    {
     "data": {
      "text/html": [
       "<div>\n",
       "<style scoped>\n",
       "    .dataframe tbody tr th:only-of-type {\n",
       "        vertical-align: middle;\n",
       "    }\n",
       "\n",
       "    .dataframe tbody tr th {\n",
       "        vertical-align: top;\n",
       "    }\n",
       "\n",
       "    .dataframe thead th {\n",
       "        text-align: right;\n",
       "    }\n",
       "</style>\n",
       "<table border=\"1\" class=\"dataframe\">\n",
       "  <thead>\n",
       "    <tr style=\"text-align: right;\">\n",
       "      <th></th>\n",
       "      <th>Week No</th>\n",
       "      <th>Year</th>\n",
       "      <th>Refinance</th>\n",
       "      <th>Mortgage Rate</th>\n",
       "      <th>Treasury Yield</th>\n",
       "      <th>Unemployment Rate</th>\n",
       "      <th>GDP</th>\n",
       "      <th>Consumer Confidence Index</th>\n",
       "      <th>Disposable Income</th>\n",
       "    </tr>\n",
       "  </thead>\n",
       "  <tbody>\n",
       "    <tr>\n",
       "      <th>0</th>\n",
       "      <td>1</td>\n",
       "      <td>2019</td>\n",
       "      <td>885.00</td>\n",
       "      <td>4.51</td>\n",
       "      <td>1.70</td>\n",
       "      <td>4.00</td>\n",
       "      <td>2.40</td>\n",
       "      <td>101.00</td>\n",
       "      <td>16027.80</td>\n",
       "    </tr>\n",
       "    <tr>\n",
       "      <th>1</th>\n",
       "      <td>2</td>\n",
       "      <td>2019</td>\n",
       "      <td>1094.00</td>\n",
       "      <td>4.51</td>\n",
       "      <td>2.16</td>\n",
       "      <td>4.00</td>\n",
       "      <td>2.40</td>\n",
       "      <td>101.00</td>\n",
       "      <td>16027.80</td>\n",
       "    </tr>\n",
       "  </tbody>\n",
       "</table>\n",
       "</div>"
      ],
      "text/plain": [
       "   Week No  Year  Refinance  Mortgage Rate  Treasury Yield  Unemployment Rate  \\\n",
       "0        1  2019     885.00           4.51            1.70               4.00   \n",
       "1        2  2019    1094.00           4.51            2.16               4.00   \n",
       "\n",
       "   GDP  Consumer Confidence Index  Disposable Income  \n",
       "0 2.40                     101.00           16027.80  \n",
       "1 2.40                     101.00           16027.80  "
      ]
     },
     "execution_count": 60,
     "metadata": {},
     "output_type": "execute_result"
    }
   ],
   "source": [
    "base_data_upd.head(2)"
   ]
  },
  {
   "cell_type": "code",
   "execution_count": 62,
   "id": "d3da21cf",
   "metadata": {},
   "outputs": [],
   "source": [
    "x=base_data_upd.drop('Refinance',axis=1)\n",
    "y=base_data_upd['Refinance']"
   ]
  },
  {
   "cell_type": "code",
   "execution_count": 63,
   "id": "37108d8b",
   "metadata": {},
   "outputs": [],
   "source": [
    "X_train,X_test,y_train,y_test=train_test_split(x,y,test_size=0.10,random_state=24)"
   ]
  },
  {
   "cell_type": "code",
   "execution_count": 64,
   "id": "2eb0d6ec",
   "metadata": {},
   "outputs": [
    {
     "name": "stdout",
     "output_type": "stream",
     "text": [
      "(169, 8) (19, 8) (169,) (19,)\n"
     ]
    }
   ],
   "source": [
    "print(X_train.shape,X_test.shape,y_train.shape,y_test.shape)"
   ]
  },
  {
   "cell_type": "code",
   "execution_count": 65,
   "id": "e52979a0",
   "metadata": {},
   "outputs": [],
   "source": [
    "validation_table_train_upd = model_validation('train',X_train,X_test,y_train,y_test)"
   ]
  },
  {
   "cell_type": "code",
   "execution_count": 66,
   "id": "8401d55b",
   "metadata": {},
   "outputs": [
    {
     "data": {
      "text/html": [
       "<div>\n",
       "<style scoped>\n",
       "    .dataframe tbody tr th:only-of-type {\n",
       "        vertical-align: middle;\n",
       "    }\n",
       "\n",
       "    .dataframe tbody tr th {\n",
       "        vertical-align: top;\n",
       "    }\n",
       "\n",
       "    .dataframe thead th {\n",
       "        text-align: right;\n",
       "    }\n",
       "</style>\n",
       "<table border=\"1\" class=\"dataframe\">\n",
       "  <thead>\n",
       "    <tr style=\"text-align: right;\">\n",
       "      <th></th>\n",
       "      <th>model name</th>\n",
       "      <th>mae</th>\n",
       "      <th>mse</th>\n",
       "      <th>rmse</th>\n",
       "      <th>mape</th>\n",
       "      <th>rsquare</th>\n",
       "    </tr>\n",
       "  </thead>\n",
       "  <tbody>\n",
       "    <tr>\n",
       "      <th>0</th>\n",
       "      <td>&lt;class 'sklearn.linear_model._base.LinearRegre...</td>\n",
       "      <td>330.47</td>\n",
       "      <td>187864.84</td>\n",
       "      <td>433.43</td>\n",
       "      <td>17.94</td>\n",
       "      <td>0.78</td>\n",
       "    </tr>\n",
       "    <tr>\n",
       "      <th>1</th>\n",
       "      <td>&lt;class 'sklearn.linear_model._coordinate_desce...</td>\n",
       "      <td>330.43</td>\n",
       "      <td>187875.96</td>\n",
       "      <td>433.45</td>\n",
       "      <td>17.91</td>\n",
       "      <td>0.78</td>\n",
       "    </tr>\n",
       "    <tr>\n",
       "      <th>2</th>\n",
       "      <td>&lt;class 'sklearn.linear_model._ridge.Ridge'&gt;</td>\n",
       "      <td>330.63</td>\n",
       "      <td>187995.85</td>\n",
       "      <td>433.58</td>\n",
       "      <td>17.86</td>\n",
       "      <td>0.78</td>\n",
       "    </tr>\n",
       "    <tr>\n",
       "      <th>3</th>\n",
       "      <td>&lt;class 'sklearn.tree._classes.DecisionTreeRegr...</td>\n",
       "      <td>0.00</td>\n",
       "      <td>0.00</td>\n",
       "      <td>0.00</td>\n",
       "      <td>0.00</td>\n",
       "      <td>1.00</td>\n",
       "    </tr>\n",
       "    <tr>\n",
       "      <th>4</th>\n",
       "      <td>&lt;class 'sklearn.ensemble._forest.RandomForestR...</td>\n",
       "      <td>88.95</td>\n",
       "      <td>18077.27</td>\n",
       "      <td>134.45</td>\n",
       "      <td>4.52</td>\n",
       "      <td>0.98</td>\n",
       "    </tr>\n",
       "    <tr>\n",
       "      <th>5</th>\n",
       "      <td>&lt;class 'sklearn.ensemble._bagging.BaggingRegre...</td>\n",
       "      <td>103.95</td>\n",
       "      <td>27715.42</td>\n",
       "      <td>166.48</td>\n",
       "      <td>5.44</td>\n",
       "      <td>0.97</td>\n",
       "    </tr>\n",
       "  </tbody>\n",
       "</table>\n",
       "</div>"
      ],
      "text/plain": [
       "                                          model name    mae       mse   rmse  \\\n",
       "0  <class 'sklearn.linear_model._base.LinearRegre... 330.47 187864.84 433.43   \n",
       "1  <class 'sklearn.linear_model._coordinate_desce... 330.43 187875.96 433.45   \n",
       "2        <class 'sklearn.linear_model._ridge.Ridge'> 330.63 187995.85 433.58   \n",
       "3  <class 'sklearn.tree._classes.DecisionTreeRegr...   0.00      0.00   0.00   \n",
       "4  <class 'sklearn.ensemble._forest.RandomForestR...  88.95  18077.27 134.45   \n",
       "5  <class 'sklearn.ensemble._bagging.BaggingRegre... 103.95  27715.42 166.48   \n",
       "\n",
       "   mape  rsquare  \n",
       "0 17.94     0.78  \n",
       "1 17.91     0.78  \n",
       "2 17.86     0.78  \n",
       "3  0.00     1.00  \n",
       "4  4.52     0.98  \n",
       "5  5.44     0.97  "
      ]
     },
     "execution_count": 66,
     "metadata": {},
     "output_type": "execute_result"
    }
   ],
   "source": [
    "validation_table_train_upd"
   ]
  },
  {
   "cell_type": "code",
   "execution_count": 67,
   "id": "c8ead87d",
   "metadata": {},
   "outputs": [],
   "source": [
    "validation_table_test_upd = model_validation('test',X_train,X_test,y_train,y_test)"
   ]
  },
  {
   "cell_type": "code",
   "execution_count": 68,
   "id": "fa271465",
   "metadata": {},
   "outputs": [
    {
     "data": {
      "text/html": [
       "<div>\n",
       "<style scoped>\n",
       "    .dataframe tbody tr th:only-of-type {\n",
       "        vertical-align: middle;\n",
       "    }\n",
       "\n",
       "    .dataframe tbody tr th {\n",
       "        vertical-align: top;\n",
       "    }\n",
       "\n",
       "    .dataframe thead th {\n",
       "        text-align: right;\n",
       "    }\n",
       "</style>\n",
       "<table border=\"1\" class=\"dataframe\">\n",
       "  <thead>\n",
       "    <tr style=\"text-align: right;\">\n",
       "      <th></th>\n",
       "      <th>model name</th>\n",
       "      <th>mae</th>\n",
       "      <th>mse</th>\n",
       "      <th>rmse</th>\n",
       "      <th>mape</th>\n",
       "      <th>rsquare</th>\n",
       "    </tr>\n",
       "  </thead>\n",
       "  <tbody>\n",
       "    <tr>\n",
       "      <th>0</th>\n",
       "      <td>&lt;class 'sklearn.linear_model._base.LinearRegre...</td>\n",
       "      <td>403.35</td>\n",
       "      <td>305567.28</td>\n",
       "      <td>552.78</td>\n",
       "      <td>26.49</td>\n",
       "      <td>0.78</td>\n",
       "    </tr>\n",
       "    <tr>\n",
       "      <th>1</th>\n",
       "      <td>&lt;class 'sklearn.linear_model._coordinate_desce...</td>\n",
       "      <td>403.54</td>\n",
       "      <td>305902.52</td>\n",
       "      <td>553.08</td>\n",
       "      <td>26.47</td>\n",
       "      <td>0.78</td>\n",
       "    </tr>\n",
       "    <tr>\n",
       "      <th>2</th>\n",
       "      <td>&lt;class 'sklearn.linear_model._ridge.Ridge'&gt;</td>\n",
       "      <td>405.56</td>\n",
       "      <td>307771.89</td>\n",
       "      <td>554.77</td>\n",
       "      <td>26.51</td>\n",
       "      <td>0.78</td>\n",
       "    </tr>\n",
       "    <tr>\n",
       "      <th>3</th>\n",
       "      <td>&lt;class 'sklearn.tree._classes.DecisionTreeRegr...</td>\n",
       "      <td>343.53</td>\n",
       "      <td>293102.89</td>\n",
       "      <td>541.39</td>\n",
       "      <td>15.86</td>\n",
       "      <td>0.79</td>\n",
       "    </tr>\n",
       "    <tr>\n",
       "      <th>4</th>\n",
       "      <td>&lt;class 'sklearn.ensemble._forest.RandomForestR...</td>\n",
       "      <td>320.82</td>\n",
       "      <td>252575.84</td>\n",
       "      <td>502.57</td>\n",
       "      <td>20.39</td>\n",
       "      <td>0.82</td>\n",
       "    </tr>\n",
       "    <tr>\n",
       "      <th>5</th>\n",
       "      <td>&lt;class 'sklearn.ensemble._bagging.BaggingRegre...</td>\n",
       "      <td>308.75</td>\n",
       "      <td>230397.91</td>\n",
       "      <td>480.00</td>\n",
       "      <td>15.91</td>\n",
       "      <td>0.83</td>\n",
       "    </tr>\n",
       "  </tbody>\n",
       "</table>\n",
       "</div>"
      ],
      "text/plain": [
       "                                          model name    mae       mse   rmse  \\\n",
       "0  <class 'sklearn.linear_model._base.LinearRegre... 403.35 305567.28 552.78   \n",
       "1  <class 'sklearn.linear_model._coordinate_desce... 403.54 305902.52 553.08   \n",
       "2        <class 'sklearn.linear_model._ridge.Ridge'> 405.56 307771.89 554.77   \n",
       "3  <class 'sklearn.tree._classes.DecisionTreeRegr... 343.53 293102.89 541.39   \n",
       "4  <class 'sklearn.ensemble._forest.RandomForestR... 320.82 252575.84 502.57   \n",
       "5  <class 'sklearn.ensemble._bagging.BaggingRegre... 308.75 230397.91 480.00   \n",
       "\n",
       "   mape  rsquare  \n",
       "0 26.49     0.78  \n",
       "1 26.47     0.78  \n",
       "2 26.51     0.78  \n",
       "3 15.86     0.79  \n",
       "4 20.39     0.82  \n",
       "5 15.91     0.83  "
      ]
     },
     "execution_count": 68,
     "metadata": {},
     "output_type": "execute_result"
    }
   ],
   "source": [
    "validation_table_test_upd"
   ]
  },
  {
   "cell_type": "code",
   "execution_count": 69,
   "id": "a8f2b3ec",
   "metadata": {},
   "outputs": [],
   "source": [
    "from sklearn.preprocessing import StandardScaler\n",
    "def StandardScaler_of_data(x,X_train,X_test):    \n",
    "    if x=='train':\n",
    "        print(\"runningin in training mode\")\n",
    "        le=StandardScaler()\n",
    "        le.fit(X_train)\n",
    "        x=le.transform(X_train)\n",
    "        dat1=pd.DataFrame(x)\n",
    "        dat1.columns=X_train.columns\n",
    "        data=dat1\n",
    "    else:\n",
    "        print(\"running in test mode\")\n",
    "        le=StandardScaler()\n",
    "        le.fit(X_train)\n",
    "        x=le.transform(X_test)\n",
    "        dat1=pd.DataFrame(x)        \n",
    "        dat1.columns=X_test.columns\n",
    "        data=dat1\n",
    "    return data"
   ]
  },
  {
   "cell_type": "code",
   "execution_count": 70,
   "id": "1be03694",
   "metadata": {},
   "outputs": [
    {
     "name": "stdout",
     "output_type": "stream",
     "text": [
      "runningin in training mode\n"
     ]
    }
   ],
   "source": [
    "X_train_std = StandardScaler_of_data('train',X_train,X_test)"
   ]
  },
  {
   "cell_type": "code",
   "execution_count": 71,
   "id": "b701807f",
   "metadata": {},
   "outputs": [
    {
     "data": {
      "text/html": [
       "<div>\n",
       "<style scoped>\n",
       "    .dataframe tbody tr th:only-of-type {\n",
       "        vertical-align: middle;\n",
       "    }\n",
       "\n",
       "    .dataframe tbody tr th {\n",
       "        vertical-align: top;\n",
       "    }\n",
       "\n",
       "    .dataframe thead th {\n",
       "        text-align: right;\n",
       "    }\n",
       "</style>\n",
       "<table border=\"1\" class=\"dataframe\">\n",
       "  <thead>\n",
       "    <tr style=\"text-align: right;\">\n",
       "      <th></th>\n",
       "      <th>Week No</th>\n",
       "      <th>Year</th>\n",
       "      <th>Mortgage Rate</th>\n",
       "      <th>Treasury Yield</th>\n",
       "      <th>Unemployment Rate</th>\n",
       "      <th>GDP</th>\n",
       "      <th>Consumer Confidence Index</th>\n",
       "      <th>Disposable Income</th>\n",
       "    </tr>\n",
       "  </thead>\n",
       "  <tbody>\n",
       "    <tr>\n",
       "      <th>63</th>\n",
       "      <td>12</td>\n",
       "      <td>2020</td>\n",
       "      <td>3.36</td>\n",
       "      <td>1.15</td>\n",
       "      <td>4.40</td>\n",
       "      <td>-5.10</td>\n",
       "      <td>100.11</td>\n",
       "      <td>16444.30</td>\n",
       "    </tr>\n",
       "    <tr>\n",
       "      <th>185</th>\n",
       "      <td>29</td>\n",
       "      <td>2022</td>\n",
       "      <td>5.38</td>\n",
       "      <td>2.41</td>\n",
       "      <td>3.60</td>\n",
       "      <td>2.50</td>\n",
       "      <td>105.14</td>\n",
       "      <td>18423.06</td>\n",
       "    </tr>\n",
       "  </tbody>\n",
       "</table>\n",
       "</div>"
      ],
      "text/plain": [
       "     Week No  Year  Mortgage Rate  Treasury Yield  Unemployment Rate   GDP  \\\n",
       "63        12  2020           3.36            1.15               4.40 -5.10   \n",
       "185       29  2022           5.38            2.41               3.60  2.50   \n",
       "\n",
       "     Consumer Confidence Index  Disposable Income  \n",
       "63                      100.11           16444.30  \n",
       "185                     105.14           18423.06  "
      ]
     },
     "execution_count": 71,
     "metadata": {},
     "output_type": "execute_result"
    }
   ],
   "source": [
    "X_train.head(2)"
   ]
  },
  {
   "cell_type": "code",
   "execution_count": 72,
   "id": "6bbff3ee",
   "metadata": {},
   "outputs": [
    {
     "data": {
      "text/html": [
       "<div>\n",
       "<style scoped>\n",
       "    .dataframe tbody tr th:only-of-type {\n",
       "        vertical-align: middle;\n",
       "    }\n",
       "\n",
       "    .dataframe tbody tr th {\n",
       "        vertical-align: top;\n",
       "    }\n",
       "\n",
       "    .dataframe thead th {\n",
       "        text-align: right;\n",
       "    }\n",
       "</style>\n",
       "<table border=\"1\" class=\"dataframe\">\n",
       "  <thead>\n",
       "    <tr style=\"text-align: right;\">\n",
       "      <th></th>\n",
       "      <th>Week No</th>\n",
       "      <th>Year</th>\n",
       "      <th>Mortgage Rate</th>\n",
       "      <th>Treasury Yield</th>\n",
       "      <th>Unemployment Rate</th>\n",
       "      <th>GDP</th>\n",
       "      <th>Consumer Confidence Index</th>\n",
       "      <th>Disposable Income</th>\n",
       "    </tr>\n",
       "  </thead>\n",
       "  <tbody>\n",
       "    <tr>\n",
       "      <th>0</th>\n",
       "      <td>-0.92</td>\n",
       "      <td>-0.31</td>\n",
       "      <td>-0.21</td>\n",
       "      <td>-0.83</td>\n",
       "      <td>-0.38</td>\n",
       "      <td>-0.61</td>\n",
       "      <td>-0.25</td>\n",
       "      <td>-0.99</td>\n",
       "    </tr>\n",
       "    <tr>\n",
       "      <th>1</th>\n",
       "      <td>0.23</td>\n",
       "      <td>1.60</td>\n",
       "      <td>2.63</td>\n",
       "      <td>1.79</td>\n",
       "      <td>-0.68</td>\n",
       "      <td>0.00</td>\n",
       "      <td>1.40</td>\n",
       "      <td>0.75</td>\n",
       "    </tr>\n",
       "  </tbody>\n",
       "</table>\n",
       "</div>"
      ],
      "text/plain": [
       "   Week No  Year  Mortgage Rate  Treasury Yield  Unemployment Rate   GDP  \\\n",
       "0    -0.92 -0.31          -0.21           -0.83              -0.38 -0.61   \n",
       "1     0.23  1.60           2.63            1.79              -0.68  0.00   \n",
       "\n",
       "   Consumer Confidence Index  Disposable Income  \n",
       "0                      -0.25              -0.99  \n",
       "1                       1.40               0.75  "
      ]
     },
     "execution_count": 72,
     "metadata": {},
     "output_type": "execute_result"
    }
   ],
   "source": [
    "X_train_std.head(2)"
   ]
  },
  {
   "cell_type": "code",
   "execution_count": 73,
   "id": "5867a226",
   "metadata": {},
   "outputs": [
    {
     "data": {
      "text/plain": [
       "(169, 8)"
      ]
     },
     "execution_count": 73,
     "metadata": {},
     "output_type": "execute_result"
    }
   ],
   "source": [
    "X_train.shape"
   ]
  },
  {
   "cell_type": "code",
   "execution_count": 74,
   "id": "bb87ef6c",
   "metadata": {},
   "outputs": [
    {
     "name": "stdout",
     "output_type": "stream",
     "text": [
      "running in test mode\n"
     ]
    }
   ],
   "source": [
    "X_test_std = StandardScaler_of_data('test',X_train,X_test)"
   ]
  },
  {
   "cell_type": "code",
   "execution_count": 75,
   "id": "5ca6dfb6",
   "metadata": {},
   "outputs": [
    {
     "data": {
      "text/plain": [
       "(19, 8)"
      ]
     },
     "execution_count": 75,
     "metadata": {},
     "output_type": "execute_result"
    }
   ],
   "source": [
    "X_test.shape"
   ]
  },
  {
   "cell_type": "code",
   "execution_count": 76,
   "id": "0c5315c6",
   "metadata": {},
   "outputs": [
    {
     "data": {
      "text/html": [
       "<div>\n",
       "<style scoped>\n",
       "    .dataframe tbody tr th:only-of-type {\n",
       "        vertical-align: middle;\n",
       "    }\n",
       "\n",
       "    .dataframe tbody tr th {\n",
       "        vertical-align: top;\n",
       "    }\n",
       "\n",
       "    .dataframe thead th {\n",
       "        text-align: right;\n",
       "    }\n",
       "</style>\n",
       "<table border=\"1\" class=\"dataframe\">\n",
       "  <thead>\n",
       "    <tr style=\"text-align: right;\">\n",
       "      <th></th>\n",
       "      <th>Week No</th>\n",
       "      <th>Year</th>\n",
       "      <th>Mortgage Rate</th>\n",
       "      <th>Treasury Yield</th>\n",
       "      <th>Unemployment Rate</th>\n",
       "      <th>GDP</th>\n",
       "      <th>Consumer Confidence Index</th>\n",
       "      <th>Disposable Income</th>\n",
       "    </tr>\n",
       "  </thead>\n",
       "  <tbody>\n",
       "    <tr>\n",
       "      <th>71</th>\n",
       "      <td>20</td>\n",
       "      <td>2020</td>\n",
       "      <td>3.26</td>\n",
       "      <td>0.97</td>\n",
       "      <td>13.20</td>\n",
       "      <td>-31.20</td>\n",
       "      <td>98.42</td>\n",
       "      <td>18024.00</td>\n",
       "    </tr>\n",
       "    <tr>\n",
       "      <th>54</th>\n",
       "      <td>3</td>\n",
       "      <td>2020</td>\n",
       "      <td>3.64</td>\n",
       "      <td>1.62</td>\n",
       "      <td>3.50</td>\n",
       "      <td>-5.10</td>\n",
       "      <td>101.64</td>\n",
       "      <td>16622.60</td>\n",
       "    </tr>\n",
       "  </tbody>\n",
       "</table>\n",
       "</div>"
      ],
      "text/plain": [
       "    Week No  Year  Mortgage Rate  Treasury Yield  Unemployment Rate    GDP  \\\n",
       "71       20  2020           3.26            0.97              13.20 -31.20   \n",
       "54        3  2020           3.64            1.62               3.50  -5.10   \n",
       "\n",
       "    Consumer Confidence Index  Disposable Income  \n",
       "71                      98.42           18024.00  \n",
       "54                     101.64           16622.60  "
      ]
     },
     "execution_count": 76,
     "metadata": {},
     "output_type": "execute_result"
    }
   ],
   "source": [
    "X_test.head(2)"
   ]
  },
  {
   "cell_type": "code",
   "execution_count": 77,
   "id": "3c6b9d00",
   "metadata": {},
   "outputs": [
    {
     "data": {
      "text/html": [
       "<div>\n",
       "<style scoped>\n",
       "    .dataframe tbody tr th:only-of-type {\n",
       "        vertical-align: middle;\n",
       "    }\n",
       "\n",
       "    .dataframe tbody tr th {\n",
       "        vertical-align: top;\n",
       "    }\n",
       "\n",
       "    .dataframe thead th {\n",
       "        text-align: right;\n",
       "    }\n",
       "</style>\n",
       "<table border=\"1\" class=\"dataframe\">\n",
       "  <thead>\n",
       "    <tr style=\"text-align: right;\">\n",
       "      <th></th>\n",
       "      <th>Week No</th>\n",
       "      <th>Year</th>\n",
       "      <th>Mortgage Rate</th>\n",
       "      <th>Treasury Yield</th>\n",
       "      <th>Unemployment Rate</th>\n",
       "      <th>GDP</th>\n",
       "      <th>Consumer Confidence Index</th>\n",
       "      <th>Disposable Income</th>\n",
       "    </tr>\n",
       "  </thead>\n",
       "  <tbody>\n",
       "    <tr>\n",
       "      <th>0</th>\n",
       "      <td>-0.38</td>\n",
       "      <td>-0.31</td>\n",
       "      <td>-0.35</td>\n",
       "      <td>-1.21</td>\n",
       "      <td>2.92</td>\n",
       "      <td>-2.72</td>\n",
       "      <td>-0.80</td>\n",
       "      <td>0.40</td>\n",
       "    </tr>\n",
       "    <tr>\n",
       "      <th>1</th>\n",
       "      <td>-1.53</td>\n",
       "      <td>-0.31</td>\n",
       "      <td>0.18</td>\n",
       "      <td>0.15</td>\n",
       "      <td>-0.71</td>\n",
       "      <td>-0.61</td>\n",
       "      <td>0.25</td>\n",
       "      <td>-0.83</td>\n",
       "    </tr>\n",
       "  </tbody>\n",
       "</table>\n",
       "</div>"
      ],
      "text/plain": [
       "   Week No  Year  Mortgage Rate  Treasury Yield  Unemployment Rate   GDP  \\\n",
       "0    -0.38 -0.31          -0.35           -1.21               2.92 -2.72   \n",
       "1    -1.53 -0.31           0.18            0.15              -0.71 -0.61   \n",
       "\n",
       "   Consumer Confidence Index  Disposable Income  \n",
       "0                      -0.80               0.40  \n",
       "1                       0.25              -0.83  "
      ]
     },
     "execution_count": 77,
     "metadata": {},
     "output_type": "execute_result"
    }
   ],
   "source": [
    "X_test_std.head(2) "
   ]
  },
  {
   "cell_type": "code",
   "execution_count": 78,
   "id": "70aa256c",
   "metadata": {},
   "outputs": [],
   "source": [
    "validation_table_train_upd_new = model_validation('train',X_train_std,X_test_std,y_train,y_test)"
   ]
  },
  {
   "cell_type": "code",
   "execution_count": 79,
   "id": "c5efeba6",
   "metadata": {},
   "outputs": [
    {
     "data": {
      "text/html": [
       "<div>\n",
       "<style scoped>\n",
       "    .dataframe tbody tr th:only-of-type {\n",
       "        vertical-align: middle;\n",
       "    }\n",
       "\n",
       "    .dataframe tbody tr th {\n",
       "        vertical-align: top;\n",
       "    }\n",
       "\n",
       "    .dataframe thead th {\n",
       "        text-align: right;\n",
       "    }\n",
       "</style>\n",
       "<table border=\"1\" class=\"dataframe\">\n",
       "  <thead>\n",
       "    <tr style=\"text-align: right;\">\n",
       "      <th></th>\n",
       "      <th>model name</th>\n",
       "      <th>mae</th>\n",
       "      <th>mse</th>\n",
       "      <th>rmse</th>\n",
       "      <th>mape</th>\n",
       "      <th>rsquare</th>\n",
       "    </tr>\n",
       "  </thead>\n",
       "  <tbody>\n",
       "    <tr>\n",
       "      <th>0</th>\n",
       "      <td>&lt;class 'sklearn.linear_model._base.LinearRegre...</td>\n",
       "      <td>330.47</td>\n",
       "      <td>187864.84</td>\n",
       "      <td>433.43</td>\n",
       "      <td>17.94</td>\n",
       "      <td>0.78</td>\n",
       "    </tr>\n",
       "    <tr>\n",
       "      <th>1</th>\n",
       "      <td>&lt;class 'sklearn.linear_model._coordinate_desce...</td>\n",
       "      <td>330.12</td>\n",
       "      <td>187876.92</td>\n",
       "      <td>433.45</td>\n",
       "      <td>17.90</td>\n",
       "      <td>0.78</td>\n",
       "    </tr>\n",
       "    <tr>\n",
       "      <th>2</th>\n",
       "      <td>&lt;class 'sklearn.linear_model._ridge.Ridge'&gt;</td>\n",
       "      <td>330.11</td>\n",
       "      <td>187877.47</td>\n",
       "      <td>433.45</td>\n",
       "      <td>17.89</td>\n",
       "      <td>0.78</td>\n",
       "    </tr>\n",
       "    <tr>\n",
       "      <th>3</th>\n",
       "      <td>&lt;class 'sklearn.tree._classes.DecisionTreeRegr...</td>\n",
       "      <td>0.00</td>\n",
       "      <td>0.00</td>\n",
       "      <td>0.00</td>\n",
       "      <td>0.00</td>\n",
       "      <td>1.00</td>\n",
       "    </tr>\n",
       "    <tr>\n",
       "      <th>4</th>\n",
       "      <td>&lt;class 'sklearn.ensemble._forest.RandomForestR...</td>\n",
       "      <td>89.22</td>\n",
       "      <td>19906.77</td>\n",
       "      <td>141.09</td>\n",
       "      <td>4.66</td>\n",
       "      <td>0.98</td>\n",
       "    </tr>\n",
       "    <tr>\n",
       "      <th>5</th>\n",
       "      <td>&lt;class 'sklearn.ensemble._bagging.BaggingRegre...</td>\n",
       "      <td>110.67</td>\n",
       "      <td>28937.01</td>\n",
       "      <td>170.11</td>\n",
       "      <td>5.63</td>\n",
       "      <td>0.97</td>\n",
       "    </tr>\n",
       "  </tbody>\n",
       "</table>\n",
       "</div>"
      ],
      "text/plain": [
       "                                          model name    mae       mse   rmse  \\\n",
       "0  <class 'sklearn.linear_model._base.LinearRegre... 330.47 187864.84 433.43   \n",
       "1  <class 'sklearn.linear_model._coordinate_desce... 330.12 187876.92 433.45   \n",
       "2        <class 'sklearn.linear_model._ridge.Ridge'> 330.11 187877.47 433.45   \n",
       "3  <class 'sklearn.tree._classes.DecisionTreeRegr...   0.00      0.00   0.00   \n",
       "4  <class 'sklearn.ensemble._forest.RandomForestR...  89.22  19906.77 141.09   \n",
       "5  <class 'sklearn.ensemble._bagging.BaggingRegre... 110.67  28937.01 170.11   \n",
       "\n",
       "   mape  rsquare  \n",
       "0 17.94     0.78  \n",
       "1 17.90     0.78  \n",
       "2 17.89     0.78  \n",
       "3  0.00     1.00  \n",
       "4  4.66     0.98  \n",
       "5  5.63     0.97  "
      ]
     },
     "execution_count": 79,
     "metadata": {},
     "output_type": "execute_result"
    }
   ],
   "source": [
    "validation_table_train_upd_new"
   ]
  },
  {
   "cell_type": "code",
   "execution_count": 80,
   "id": "ae7fee78",
   "metadata": {},
   "outputs": [],
   "source": [
    "validation_table_test_upd_new = model_validation('test',X_train_std,X_test_std,y_train,y_test)"
   ]
  },
  {
   "cell_type": "code",
   "execution_count": 81,
   "id": "e472b674",
   "metadata": {},
   "outputs": [
    {
     "data": {
      "text/html": [
       "<div>\n",
       "<style scoped>\n",
       "    .dataframe tbody tr th:only-of-type {\n",
       "        vertical-align: middle;\n",
       "    }\n",
       "\n",
       "    .dataframe tbody tr th {\n",
       "        vertical-align: top;\n",
       "    }\n",
       "\n",
       "    .dataframe thead th {\n",
       "        text-align: right;\n",
       "    }\n",
       "</style>\n",
       "<table border=\"1\" class=\"dataframe\">\n",
       "  <thead>\n",
       "    <tr style=\"text-align: right;\">\n",
       "      <th></th>\n",
       "      <th>model name</th>\n",
       "      <th>mae</th>\n",
       "      <th>mse</th>\n",
       "      <th>rmse</th>\n",
       "      <th>mape</th>\n",
       "      <th>rsquare</th>\n",
       "    </tr>\n",
       "  </thead>\n",
       "  <tbody>\n",
       "    <tr>\n",
       "      <th>0</th>\n",
       "      <td>&lt;class 'sklearn.linear_model._base.LinearRegre...</td>\n",
       "      <td>403.35</td>\n",
       "      <td>305567.28</td>\n",
       "      <td>552.78</td>\n",
       "      <td>26.49</td>\n",
       "      <td>0.78</td>\n",
       "    </tr>\n",
       "    <tr>\n",
       "      <th>1</th>\n",
       "      <td>&lt;class 'sklearn.linear_model._coordinate_desce...</td>\n",
       "      <td>402.47</td>\n",
       "      <td>305486.45</td>\n",
       "      <td>552.71</td>\n",
       "      <td>26.44</td>\n",
       "      <td>0.78</td>\n",
       "    </tr>\n",
       "    <tr>\n",
       "      <th>2</th>\n",
       "      <td>&lt;class 'sklearn.linear_model._ridge.Ridge'&gt;</td>\n",
       "      <td>402.34</td>\n",
       "      <td>306418.09</td>\n",
       "      <td>553.55</td>\n",
       "      <td>26.40</td>\n",
       "      <td>0.78</td>\n",
       "    </tr>\n",
       "    <tr>\n",
       "      <th>3</th>\n",
       "      <td>&lt;class 'sklearn.tree._classes.DecisionTreeRegr...</td>\n",
       "      <td>396.26</td>\n",
       "      <td>391805.53</td>\n",
       "      <td>625.94</td>\n",
       "      <td>17.09</td>\n",
       "      <td>0.72</td>\n",
       "    </tr>\n",
       "    <tr>\n",
       "      <th>4</th>\n",
       "      <td>&lt;class 'sklearn.ensemble._forest.RandomForestR...</td>\n",
       "      <td>305.16</td>\n",
       "      <td>248417.48</td>\n",
       "      <td>498.41</td>\n",
       "      <td>19.54</td>\n",
       "      <td>0.82</td>\n",
       "    </tr>\n",
       "    <tr>\n",
       "      <th>5</th>\n",
       "      <td>&lt;class 'sklearn.ensemble._bagging.BaggingRegre...</td>\n",
       "      <td>286.09</td>\n",
       "      <td>230249.30</td>\n",
       "      <td>479.84</td>\n",
       "      <td>16.00</td>\n",
       "      <td>0.83</td>\n",
       "    </tr>\n",
       "  </tbody>\n",
       "</table>\n",
       "</div>"
      ],
      "text/plain": [
       "                                          model name    mae       mse   rmse  \\\n",
       "0  <class 'sklearn.linear_model._base.LinearRegre... 403.35 305567.28 552.78   \n",
       "1  <class 'sklearn.linear_model._coordinate_desce... 402.47 305486.45 552.71   \n",
       "2        <class 'sklearn.linear_model._ridge.Ridge'> 402.34 306418.09 553.55   \n",
       "3  <class 'sklearn.tree._classes.DecisionTreeRegr... 396.26 391805.53 625.94   \n",
       "4  <class 'sklearn.ensemble._forest.RandomForestR... 305.16 248417.48 498.41   \n",
       "5  <class 'sklearn.ensemble._bagging.BaggingRegre... 286.09 230249.30 479.84   \n",
       "\n",
       "   mape  rsquare  \n",
       "0 26.49     0.78  \n",
       "1 26.44     0.78  \n",
       "2 26.40     0.78  \n",
       "3 17.09     0.72  \n",
       "4 19.54     0.82  \n",
       "5 16.00     0.83  "
      ]
     },
     "execution_count": 81,
     "metadata": {},
     "output_type": "execute_result"
    }
   ],
   "source": [
    "validation_table_test_upd_new"
   ]
  },
  {
   "cell_type": "code",
   "execution_count": 82,
   "id": "78399625",
   "metadata": {},
   "outputs": [
    {
     "data": {
      "text/plain": [
       "GridSearchCV(cv=5, estimator=Ridge(),\n",
       "             param_grid={'alpha': [1e-15, 1e-10, 1e-08, 0.001, 0.01, 1, 5, 10,\n",
       "                                   20, 30, 35, 40, 45, 50, 55, 100]},\n",
       "             scoring='neg_mean_squared_error')"
      ]
     },
     "execution_count": 82,
     "metadata": {},
     "output_type": "execute_result"
    }
   ],
   "source": [
    "from sklearn.model_selection import GridSearchCV\n",
    "\n",
    "ridge=Ridge()\n",
    "parameters={'alpha':[1e-15,1e-10,1e-8,1e-3,1e-2,1,5,10,20,30,35,40,45,50,55,100]}\n",
    "ridge_regressor=GridSearchCV(ridge,parameters,scoring='neg_mean_squared_error',cv=5)\n",
    "ridge_regressor.fit(x,y)"
   ]
  },
  {
   "cell_type": "code",
   "execution_count": 83,
   "id": "bf4c8507",
   "metadata": {},
   "outputs": [
    {
     "name": "stdout",
     "output_type": "stream",
     "text": [
      "{'alpha': 5}\n",
      "-562840.0247436644\n"
     ]
    }
   ],
   "source": [
    "print(ridge_regressor.best_params_)\n",
    "print(ridge_regressor.best_score_)"
   ]
  },
  {
   "cell_type": "code",
   "execution_count": 84,
   "id": "9b27fd7f",
   "metadata": {},
   "outputs": [
    {
     "name": "stderr",
     "output_type": "stream",
     "text": [
      "C:\\Users\\venkateshwarar\\Anaconda3\\lib\\site-packages\\sklearn\\linear_model\\_coordinate_descent.py:647: ConvergenceWarning: Objective did not converge. You might want to increase the number of iterations, check the scale of the features or consider increasing regularisation. Duality gap: 1.448e+07, tolerance: 1.427e+04\n",
      "  model = cd_fast.enet_coordinate_descent(\n",
      "C:\\Users\\venkateshwarar\\Anaconda3\\lib\\site-packages\\sklearn\\linear_model\\_coordinate_descent.py:647: ConvergenceWarning: Objective did not converge. You might want to increase the number of iterations, check the scale of the features or consider increasing regularisation. Duality gap: 1.327e+07, tolerance: 1.358e+04\n",
      "  model = cd_fast.enet_coordinate_descent(\n",
      "C:\\Users\\venkateshwarar\\Anaconda3\\lib\\site-packages\\sklearn\\linear_model\\_coordinate_descent.py:647: ConvergenceWarning: Objective did not converge. You might want to increase the number of iterations, check the scale of the features or consider increasing regularisation. Duality gap: 1.037e+07, tolerance: 1.212e+04\n",
      "  model = cd_fast.enet_coordinate_descent(\n",
      "C:\\Users\\venkateshwarar\\Anaconda3\\lib\\site-packages\\sklearn\\linear_model\\_coordinate_descent.py:647: ConvergenceWarning: Objective did not converge. You might want to increase the number of iterations, check the scale of the features or consider increasing regularisation. Duality gap: 1.750e+07, tolerance: 1.672e+04\n",
      "  model = cd_fast.enet_coordinate_descent(\n",
      "C:\\Users\\venkateshwarar\\Anaconda3\\lib\\site-packages\\sklearn\\linear_model\\_coordinate_descent.py:647: ConvergenceWarning: Objective did not converge. You might want to increase the number of iterations, check the scale of the features or consider increasing regularisation. Duality gap: 1.348e+07, tolerance: 9.841e+03\n",
      "  model = cd_fast.enet_coordinate_descent(\n"
     ]
    },
    {
     "name": "stdout",
     "output_type": "stream",
     "text": [
      "{'alpha': 10}\n",
      "-649175.4235134587\n"
     ]
    }
   ],
   "source": [
    "lasso=Lasso()\n",
    "parameters={'alpha':[1e-15,1e-10,1e-8,1e-3,1e-2,1,5,10,20,30,35,40,45,50,55,100]}\n",
    "lasso_regressor=GridSearchCV(lasso,parameters,scoring='neg_mean_squared_error',cv=5)\n",
    "\n",
    "lasso_regressor.fit(x,y)\n",
    "print(lasso_regressor.best_params_)\n",
    "print(lasso_regressor.best_score_)"
   ]
  },
  {
   "cell_type": "code",
   "execution_count": 85,
   "id": "a9f5b24e",
   "metadata": {},
   "outputs": [
    {
     "name": "stdout",
     "output_type": "stream",
     "text": [
      "Train Accuracy: 0.9771591507970866\n",
      "Test Accuracy: 0.8214628362731726\n"
     ]
    }
   ],
   "source": [
    "model = RandomForestRegressor\n",
    "model = RandomForestRegressor()\n",
    "model.fit(X_train, y_train)\n",
    "print(\"Train Accuracy:\",model.score(X_train, y_train))\n",
    "print(\"Test Accuracy:\",model.score(X_test, y_test))"
   ]
  },
  {
   "cell_type": "code",
   "execution_count": 86,
   "id": "b4eb351a",
   "metadata": {},
   "outputs": [],
   "source": [
    "import pickle"
   ]
  },
  {
   "cell_type": "code",
   "execution_count": 87,
   "id": "24a81e66",
   "metadata": {},
   "outputs": [],
   "source": [
    "# save the model to disk\n",
    "filename = 'RF_model.sav'\n",
    "pickle.dump(model, open(filename, 'wb'))"
   ]
  },
  {
   "cell_type": "code",
   "execution_count": 88,
   "id": "d328c065",
   "metadata": {},
   "outputs": [
    {
     "data": {
      "text/html": [
       "<div>\n",
       "<style scoped>\n",
       "    .dataframe tbody tr th:only-of-type {\n",
       "        vertical-align: middle;\n",
       "    }\n",
       "\n",
       "    .dataframe tbody tr th {\n",
       "        vertical-align: top;\n",
       "    }\n",
       "\n",
       "    .dataframe thead th {\n",
       "        text-align: right;\n",
       "    }\n",
       "</style>\n",
       "<table border=\"1\" class=\"dataframe\">\n",
       "  <thead>\n",
       "    <tr style=\"text-align: right;\">\n",
       "      <th></th>\n",
       "      <th>Week No</th>\n",
       "      <th>Year</th>\n",
       "      <th>Mortgage Rate</th>\n",
       "      <th>Treasury Yield</th>\n",
       "      <th>Unemployment Rate</th>\n",
       "      <th>GDP</th>\n",
       "      <th>Consumer Confidence Index</th>\n",
       "      <th>Disposable Income</th>\n",
       "    </tr>\n",
       "  </thead>\n",
       "  <tbody>\n",
       "    <tr>\n",
       "      <th>63</th>\n",
       "      <td>12</td>\n",
       "      <td>2020</td>\n",
       "      <td>3.36</td>\n",
       "      <td>1.15</td>\n",
       "      <td>4.40</td>\n",
       "      <td>-5.10</td>\n",
       "      <td>100.11</td>\n",
       "      <td>16444.30</td>\n",
       "    </tr>\n",
       "    <tr>\n",
       "      <th>185</th>\n",
       "      <td>29</td>\n",
       "      <td>2022</td>\n",
       "      <td>5.38</td>\n",
       "      <td>2.41</td>\n",
       "      <td>3.60</td>\n",
       "      <td>2.50</td>\n",
       "      <td>105.14</td>\n",
       "      <td>18423.06</td>\n",
       "    </tr>\n",
       "  </tbody>\n",
       "</table>\n",
       "</div>"
      ],
      "text/plain": [
       "     Week No  Year  Mortgage Rate  Treasury Yield  Unemployment Rate   GDP  \\\n",
       "63        12  2020           3.36            1.15               4.40 -5.10   \n",
       "185       29  2022           5.38            2.41               3.60  2.50   \n",
       "\n",
       "     Consumer Confidence Index  Disposable Income  \n",
       "63                      100.11           16444.30  \n",
       "185                     105.14           18423.06  "
      ]
     },
     "execution_count": 88,
     "metadata": {},
     "output_type": "execute_result"
    }
   ],
   "source": [
    "X_train.head(2)"
   ]
  },
  {
   "cell_type": "code",
   "execution_count": 89,
   "id": "a913235c",
   "metadata": {},
   "outputs": [
    {
     "data": {
      "text/plain": [
       "Index(['Week No', 'Year', 'Mortgage Rate', 'Treasury Yield',\n",
       "       'Unemployment Rate', 'GDP', 'Consumer Confidence Index',\n",
       "       'Disposable Income'],\n",
       "      dtype='object')"
      ]
     },
     "execution_count": 89,
     "metadata": {},
     "output_type": "execute_result"
    }
   ],
   "source": [
    "X_train.columns"
   ]
  },
  {
   "cell_type": "code",
   "execution_count": 90,
   "id": "a2350408",
   "metadata": {},
   "outputs": [
    {
     "data": {
      "text/html": [
       "<div>\n",
       "<style scoped>\n",
       "    .dataframe tbody tr th:only-of-type {\n",
       "        vertical-align: middle;\n",
       "    }\n",
       "\n",
       "    .dataframe tbody tr th {\n",
       "        vertical-align: top;\n",
       "    }\n",
       "\n",
       "    .dataframe thead th {\n",
       "        text-align: right;\n",
       "    }\n",
       "</style>\n",
       "<table border=\"1\" class=\"dataframe\">\n",
       "  <thead>\n",
       "    <tr style=\"text-align: right;\">\n",
       "      <th></th>\n",
       "      <th>Date</th>\n",
       "      <th>Week No</th>\n",
       "      <th>Month No</th>\n",
       "      <th>Year</th>\n",
       "      <th>Refinance</th>\n",
       "      <th>Mortgage Rate</th>\n",
       "      <th>Inflation</th>\n",
       "      <th>Housing Price Index</th>\n",
       "      <th>Treasury Yield</th>\n",
       "      <th>Unemployment Rate</th>\n",
       "      <th>GDP</th>\n",
       "      <th>Business Confidence Index</th>\n",
       "      <th>Consumer Confidence Index</th>\n",
       "      <th>Initial Unemployment Claim</th>\n",
       "      <th>Disposable Income</th>\n",
       "    </tr>\n",
       "  </thead>\n",
       "  <tbody>\n",
       "    <tr>\n",
       "      <th>188</th>\n",
       "      <td>2022-08-08</td>\n",
       "      <td>32</td>\n",
       "      <td>8</td>\n",
       "      <td>2022</td>\n",
       "      <td>NaN</td>\n",
       "      <td>5.41</td>\n",
       "      <td>9.10</td>\n",
       "      <td>274.25</td>\n",
       "      <td>2.38</td>\n",
       "      <td>3.60</td>\n",
       "      <td>2.50</td>\n",
       "      <td>96.60</td>\n",
       "      <td>105.14</td>\n",
       "      <td>213138.56</td>\n",
       "      <td>18423.06</td>\n",
       "    </tr>\n",
       "    <tr>\n",
       "      <th>189</th>\n",
       "      <td>2022-08-15</td>\n",
       "      <td>33</td>\n",
       "      <td>8</td>\n",
       "      <td>2022</td>\n",
       "      <td>NaN</td>\n",
       "      <td>5.41</td>\n",
       "      <td>9.10</td>\n",
       "      <td>274.25</td>\n",
       "      <td>2.38</td>\n",
       "      <td>3.60</td>\n",
       "      <td>2.50</td>\n",
       "      <td>96.60</td>\n",
       "      <td>105.14</td>\n",
       "      <td>213138.56</td>\n",
       "      <td>18423.06</td>\n",
       "    </tr>\n",
       "  </tbody>\n",
       "</table>\n",
       "</div>"
      ],
      "text/plain": [
       "          Date  Week No  Month No  Year  Refinance  Mortgage Rate  Inflation  \\\n",
       "188 2022-08-08       32         8  2022        NaN           5.41       9.10   \n",
       "189 2022-08-15       33         8  2022        NaN           5.41       9.10   \n",
       "\n",
       "     Housing Price Index  Treasury Yield  Unemployment Rate  GDP  \\\n",
       "188               274.25            2.38               3.60 2.50   \n",
       "189               274.25            2.38               3.60 2.50   \n",
       "\n",
       "     Business Confidence Index  Consumer Confidence Index  \\\n",
       "188                      96.60                     105.14   \n",
       "189                      96.60                     105.14   \n",
       "\n",
       "     Initial Unemployment Claim  Disposable Income  \n",
       "188                   213138.56           18423.06  \n",
       "189                   213138.56           18423.06  "
      ]
     },
     "execution_count": 90,
     "metadata": {},
     "output_type": "execute_result"
    }
   ],
   "source": [
    "future_data.head(2)"
   ]
  },
  {
   "cell_type": "code",
   "execution_count": 91,
   "id": "fc9dcabd",
   "metadata": {},
   "outputs": [],
   "source": [
    "pred_data = future_data[['Week No', 'Year', 'Mortgage Rate', 'Treasury Yield',\n",
    "       'Unemployment Rate', 'GDP', 'Consumer Confidence Index',\n",
    "       'Disposable Income']]"
   ]
  },
  {
   "cell_type": "code",
   "execution_count": 92,
   "id": "d1253107",
   "metadata": {},
   "outputs": [],
   "source": [
    "def predictions_on_future_data(future_data):\n",
    "    pred_data = future_data[['Week No', 'Year', 'Mortgage Rate', 'Treasury Yield',\n",
    "       'Unemployment Rate', 'GDP', 'Consumer Confidence Index',\n",
    "       'Disposable Income']]\n",
    "    filename = 'RF_model.sav'\n",
    "    rf_model = pickle.load(open(filename, 'rb'))\n",
    "    y_pred = rf_model.predict(pred_data)\n",
    "    print(y_pred)\n",
    "    future_data['Purchase_Pred'] = y_pred\n",
    "    \n",
    "    return future_data"
   ]
  },
  {
   "cell_type": "code",
   "execution_count": 93,
   "id": "b6c466ac",
   "metadata": {},
   "outputs": [
    {
     "name": "stdout",
     "output_type": "stream",
     "text": [
      "[755.96 755.96 755.96 755.96 755.96 755.96 755.96 755.96 755.96 755.96\n",
      " 755.96 755.96 755.96]\n"
     ]
    },
    {
     "name": "stderr",
     "output_type": "stream",
     "text": [
      "C:\\Users\\venkateshwarar\\AppData\\Local\\Temp\\ipykernel_7724\\3127893908.py:9: SettingWithCopyWarning: \n",
      "A value is trying to be set on a copy of a slice from a DataFrame.\n",
      "Try using .loc[row_indexer,col_indexer] = value instead\n",
      "\n",
      "See the caveats in the documentation: https://pandas.pydata.org/pandas-docs/stable/user_guide/indexing.html#returning-a-view-versus-a-copy\n",
      "  future_data['Purchase_Pred'] = y_pred\n"
     ]
    }
   ],
   "source": [
    "preds = predictions_on_future_data(future_data)"
   ]
  },
  {
   "cell_type": "code",
   "execution_count": 94,
   "id": "441a7adf",
   "metadata": {},
   "outputs": [],
   "source": [
    "preds.to_excel(\"predictions_on_future_data.xlsx\",index=False)"
   ]
  },
  {
   "cell_type": "code",
   "execution_count": 95,
   "id": "14e5b868",
   "metadata": {},
   "outputs": [
    {
     "name": "stdout",
     "output_type": "stream",
     "text": [
      "{'n_estimators': [10, 20, 30, 40, 50, 60, 70, 80, 90, 100], 'criterion': ['mse', 'mae'], 'max_features': ['auto'], 'max_depth': [10, 20, 30, 40, 50, 60, 70, 80, 90, 100, 110, None], 'min_samples_split': [2, 4, 6], 'min_samples_leaf': [2, 4, 6], 'bootstrap': [True, False]}\n"
     ]
    }
   ],
   "source": [
    "# Number of trees in random forest\n",
    "n_estimators = [int(x) for x in np.linspace(start = 10, stop = 100, num = 10)]\n",
    "# Number of features to consider at every split\n",
    "max_features = ['auto']\n",
    "# Maximum number of levels in tree\n",
    "max_depth = [int(x) for x in np.linspace(10, 110, num = 11)]\n",
    "max_depth.append(None)\n",
    "# Minimum number of samples required to split a node\n",
    "min_samples_split = [2,4,6]\n",
    "# Minimum number of samples required at each leaf node\n",
    "min_samples_leaf = [2,4,6]\n",
    "# Method of selecting samples for training each tree\n",
    "bootstrap = [True, False]\n",
    "criterion = ['mse','mae']\n",
    "# Create the parameters grid\n",
    "\n",
    "param_grid = {'n_estimators': n_estimators,\n",
    "              'criterion': criterion,\n",
    "              'max_features': max_features,\n",
    "              'max_depth': max_depth,\n",
    "              'min_samples_split': min_samples_split,\n",
    "              'min_samples_leaf': min_samples_leaf,\n",
    "              'bootstrap': bootstrap}\n",
    "print(param_grid)"
   ]
  },
  {
   "cell_type": "code",
   "execution_count": 96,
   "id": "d20a5d68",
   "metadata": {},
   "outputs": [],
   "source": [
    "from sklearn.model_selection import GridSearchCV\n",
    "# Create a based model\n",
    "rf = RandomForestRegressor()\n",
    "# Instantiate the grid search model\n",
    "grid_search = GridSearchCV(estimator = rf, param_grid = param_grid, \n",
    "                          cv = 3, n_jobs = -1, verbose = 2)"
   ]
  },
  {
   "cell_type": "code",
   "execution_count": 97,
   "id": "f139a92d",
   "metadata": {},
   "outputs": [
    {
     "name": "stdout",
     "output_type": "stream",
     "text": [
      "Fitting 3 folds for each of 4320 candidates, totalling 12960 fits\n"
     ]
    },
    {
     "data": {
      "text/plain": [
       "GridSearchCV(cv=3, estimator=RandomForestRegressor(), n_jobs=-1,\n",
       "             param_grid={'bootstrap': [True, False],\n",
       "                         'criterion': ['mse', 'mae'],\n",
       "                         'max_depth': [10, 20, 30, 40, 50, 60, 70, 80, 90, 100,\n",
       "                                       110, None],\n",
       "                         'max_features': ['auto'],\n",
       "                         'min_samples_leaf': [2, 4, 6],\n",
       "                         'min_samples_split': [2, 4, 6],\n",
       "                         'n_estimators': [10, 20, 30, 40, 50, 60, 70, 80, 90,\n",
       "                                          100]},\n",
       "             verbose=2)"
      ]
     },
     "execution_count": 97,
     "metadata": {},
     "output_type": "execute_result"
    }
   ],
   "source": [
    "# Fit the grid search to the data\n",
    "grid_search.fit(X_train, y_train)"
   ]
  },
  {
   "cell_type": "code",
   "execution_count": 98,
   "id": "57d06df0",
   "metadata": {},
   "outputs": [
    {
     "data": {
      "text/plain": [
       "{'bootstrap': True,\n",
       " 'criterion': 'mse',\n",
       " 'max_depth': 60,\n",
       " 'max_features': 'auto',\n",
       " 'min_samples_leaf': 2,\n",
       " 'min_samples_split': 2,\n",
       " 'n_estimators': 10}"
      ]
     },
     "execution_count": 98,
     "metadata": {},
     "output_type": "execute_result"
    }
   ],
   "source": [
    "grid_search.best_params_"
   ]
  },
  {
   "cell_type": "code",
   "execution_count": 99,
   "id": "ea8c9db6",
   "metadata": {},
   "outputs": [],
   "source": [
    "rf_tuned = RandomForestRegressor(n_estimators=10,criterion='mse',max_features='auto', max_depth=40,min_samples_split=6,min_samples_leaf=4,bootstrap=False,n_jobs=-1)"
   ]
  },
  {
   "cell_type": "code",
   "execution_count": 100,
   "id": "a29d90f2",
   "metadata": {},
   "outputs": [
    {
     "name": "stdout",
     "output_type": "stream",
     "text": [
      "Train Accuracy: 0.9178125351820737\n",
      "Test Accuracy: 0.810985141029946\n"
     ]
    }
   ],
   "source": [
    "rf_tuned.fit(X_train, y_train)\n",
    "print(\"Train Accuracy:\",rf_tuned.score(X_train, y_train))\n",
    "print(\"Test Accuracy:\",rf_tuned.score(X_test, y_test))"
   ]
  },
  {
   "cell_type": "code",
   "execution_count": 101,
   "id": "a17f3dff",
   "metadata": {},
   "outputs": [],
   "source": [
    "def model_validation_rf(x,X_train,X_test,y_train,y_test):\n",
    "    validation_table=[]\n",
    "    models=[RandomForestRegressor]\n",
    "    for i in models:\n",
    "        rd=i(n_estimators=10,criterion='mse',max_features='auto', max_depth=40,min_samples_split=6,min_samples_leaf=4,bootstrap=False,n_jobs=-1)\n",
    "        rd.fit(X_train,y_train)\n",
    "        if x==\"train\":\n",
    "            rd.predict(X_train)\n",
    "            mae=mean_absolute_error(y_train.values,rd.predict(X_train))\n",
    "            mse=mean_squared_error(y_train.values,rd.predict(X_train))\n",
    "            rmse=np.sqrt(mean_squared_error(y_train.values,rd.predict(X_train)))\n",
    "            mape=(((abs(y_train.values-rd.predict(X_train))/y_train.values)*100).sum())*(1/y_train.shape[0])\n",
    "            rsquare=r2_score(y_train.values,rd.predict(X_train))\n",
    "            validation_table.append([i,mae,mse,rmse,mape,rsquare])\n",
    "        #validation_table=pd.DataFrame(validation_table_train)\n",
    "        #validation_table.columns=[\"model name\",\"mae\",\"mse\",\"rmse\",\"mape\",\"rsquare\"]\n",
    "        else:\n",
    "            rd.predict(X_test)\n",
    "            mae=mean_absolute_error(y_test.values,rd.predict(X_test))\n",
    "            mse=mean_squared_error(y_test.values,rd.predict(X_test))\n",
    "            rmse=np.sqrt(mean_squared_error(y_test.values,rd.predict(X_test)))\n",
    "            mape=(((abs(y_test.values-rd.predict(X_test))/y_test.values)*100).sum())*(1/y_test.shape[0])\n",
    "            rsquare=r2_score(y_test.values,rd.predict(X_test))\n",
    "            validation_table.append([i,mae,mse,rmse,mape,rsquare])\n",
    "            \n",
    "    validation_table=pd.DataFrame(validation_table)\n",
    "    validation_table.columns=[\"model name\",\"mae\",\"mse\",\"rmse\",\"mape\",\"rsquare\"]\n",
    "    return validation_table"
   ]
  },
  {
   "cell_type": "code",
   "execution_count": 102,
   "id": "db20a4ce",
   "metadata": {},
   "outputs": [],
   "source": [
    "val_table_rf_train = model_validation_rf('train',X_train,X_test,y_train,y_test)"
   ]
  },
  {
   "cell_type": "code",
   "execution_count": 103,
   "id": "2130e9fc",
   "metadata": {},
   "outputs": [
    {
     "data": {
      "text/html": [
       "<div>\n",
       "<style scoped>\n",
       "    .dataframe tbody tr th:only-of-type {\n",
       "        vertical-align: middle;\n",
       "    }\n",
       "\n",
       "    .dataframe tbody tr th {\n",
       "        vertical-align: top;\n",
       "    }\n",
       "\n",
       "    .dataframe thead th {\n",
       "        text-align: right;\n",
       "    }\n",
       "</style>\n",
       "<table border=\"1\" class=\"dataframe\">\n",
       "  <thead>\n",
       "    <tr style=\"text-align: right;\">\n",
       "      <th></th>\n",
       "      <th>model name</th>\n",
       "      <th>mae</th>\n",
       "      <th>mse</th>\n",
       "      <th>rmse</th>\n",
       "      <th>mape</th>\n",
       "      <th>rsquare</th>\n",
       "    </tr>\n",
       "  </thead>\n",
       "  <tbody>\n",
       "    <tr>\n",
       "      <th>0</th>\n",
       "      <td>&lt;class 'sklearn.ensemble._forest.RandomForestR...</td>\n",
       "      <td>172.55</td>\n",
       "      <td>70818.70</td>\n",
       "      <td>266.12</td>\n",
       "      <td>8.26</td>\n",
       "      <td>0.92</td>\n",
       "    </tr>\n",
       "  </tbody>\n",
       "</table>\n",
       "</div>"
      ],
      "text/plain": [
       "                                          model name    mae      mse   rmse  \\\n",
       "0  <class 'sklearn.ensemble._forest.RandomForestR... 172.55 70818.70 266.12   \n",
       "\n",
       "   mape  rsquare  \n",
       "0  8.26     0.92  "
      ]
     },
     "execution_count": 103,
     "metadata": {},
     "output_type": "execute_result"
    }
   ],
   "source": [
    "val_table_rf_train"
   ]
  },
  {
   "cell_type": "code",
   "execution_count": 104,
   "id": "be44695b",
   "metadata": {},
   "outputs": [],
   "source": [
    "val_table_rf_test = model_validation_rf('test',X_train,X_test,y_train,y_test)"
   ]
  },
  {
   "cell_type": "code",
   "execution_count": 105,
   "id": "6bd7cf02",
   "metadata": {},
   "outputs": [
    {
     "data": {
      "text/html": [
       "<div>\n",
       "<style scoped>\n",
       "    .dataframe tbody tr th:only-of-type {\n",
       "        vertical-align: middle;\n",
       "    }\n",
       "\n",
       "    .dataframe tbody tr th {\n",
       "        vertical-align: top;\n",
       "    }\n",
       "\n",
       "    .dataframe thead th {\n",
       "        text-align: right;\n",
       "    }\n",
       "</style>\n",
       "<table border=\"1\" class=\"dataframe\">\n",
       "  <thead>\n",
       "    <tr style=\"text-align: right;\">\n",
       "      <th></th>\n",
       "      <th>model name</th>\n",
       "      <th>mae</th>\n",
       "      <th>mse</th>\n",
       "      <th>rmse</th>\n",
       "      <th>mape</th>\n",
       "      <th>rsquare</th>\n",
       "    </tr>\n",
       "  </thead>\n",
       "  <tbody>\n",
       "    <tr>\n",
       "      <th>0</th>\n",
       "      <td>&lt;class 'sklearn.ensemble._forest.RandomForestR...</td>\n",
       "      <td>303.90</td>\n",
       "      <td>259968.51</td>\n",
       "      <td>509.87</td>\n",
       "      <td>16.16</td>\n",
       "      <td>0.81</td>\n",
       "    </tr>\n",
       "  </tbody>\n",
       "</table>\n",
       "</div>"
      ],
      "text/plain": [
       "                                          model name    mae       mse   rmse  \\\n",
       "0  <class 'sklearn.ensemble._forest.RandomForestR... 303.90 259968.51 509.87   \n",
       "\n",
       "   mape  rsquare  \n",
       "0 16.16     0.81  "
      ]
     },
     "execution_count": 105,
     "metadata": {},
     "output_type": "execute_result"
    }
   ],
   "source": [
    "val_table_rf_test"
   ]
  },
  {
   "cell_type": "code",
   "execution_count": 106,
   "id": "8bae5133",
   "metadata": {},
   "outputs": [],
   "source": [
    "# save the model to disk\n",
    "filename = 'RF_tuned.sav'\n",
    "pickle.dump(rf_tuned, open(filename, 'wb'))"
   ]
  },
  {
   "cell_type": "code",
   "execution_count": 107,
   "id": "17bb2216",
   "metadata": {},
   "outputs": [],
   "source": [
    "def predictions_on_future_data(future_data):\n",
    "    pred_data = future_data[['Week No', 'Year', 'Mortgage Rate', 'Treasury Yield',\n",
    "       'Unemployment Rate', 'GDP', 'Consumer Confidence Index',\n",
    "       'Disposable Income']]\n",
    "    filename = 'RF_tuned.sav'\n",
    "    rf_model = pickle.load(open(filename, 'rb'))\n",
    "    y_pred = rf_model.predict(pred_data)\n",
    "    print(y_pred)\n",
    "    future_data['Purchase_Pred'] = y_pred\n",
    "    \n",
    "    return future_data"
   ]
  },
  {
   "cell_type": "code",
   "execution_count": 108,
   "id": "8eb5ba2d",
   "metadata": {},
   "outputs": [
    {
     "name": "stdout",
     "output_type": "stream",
     "text": [
      "[829.75 829.75 829.75 829.75 829.75 829.75 829.75 829.75 829.75 829.75\n",
      " 829.75 829.75 829.75]\n"
     ]
    },
    {
     "name": "stderr",
     "output_type": "stream",
     "text": [
      "C:\\Users\\venkateshwarar\\AppData\\Local\\Temp\\ipykernel_7724\\865268855.py:9: SettingWithCopyWarning: \n",
      "A value is trying to be set on a copy of a slice from a DataFrame.\n",
      "Try using .loc[row_indexer,col_indexer] = value instead\n",
      "\n",
      "See the caveats in the documentation: https://pandas.pydata.org/pandas-docs/stable/user_guide/indexing.html#returning-a-view-versus-a-copy\n",
      "  future_data['Purchase_Pred'] = y_pred\n"
     ]
    }
   ],
   "source": [
    "preds_tuned = predictions_on_future_data(future_data)"
   ]
  },
  {
   "cell_type": "markdown",
   "id": "9063c3f8",
   "metadata": {},
   "source": [
    "## Building XGBoost and doing Hyper Parameter Tuning"
   ]
  },
  {
   "cell_type": "code",
   "execution_count": 110,
   "id": "6ea152fb",
   "metadata": {},
   "outputs": [],
   "source": [
    "import xgboost as xgb\n",
    "from xgboost import XGBRegressor"
   ]
  },
  {
   "cell_type": "code",
   "execution_count": 111,
   "id": "345e713b",
   "metadata": {},
   "outputs": [
    {
     "name": "stdout",
     "output_type": "stream",
     "text": [
      "Train Accuracy: 0.9999977592651519\n",
      "Test Accuracy: 0.8584494951984003\n"
     ]
    }
   ],
   "source": [
    "model = XGBRegressor()\n",
    "model.fit(X_train,y_train)\n",
    "print(\"Train Accuracy:\",model.score(X_train, y_train))\n",
    "print(\"Test Accuracy:\",model.score(X_test, y_test))"
   ]
  },
  {
   "cell_type": "code",
   "execution_count": 112,
   "id": "02e29a54",
   "metadata": {},
   "outputs": [],
   "source": [
    "def model_validation_xgboost(x,X_train,X_test,y_train,y_test):\n",
    "    validation_table=[]\n",
    "    models=[RandomForestRegressor,XGBRegressor]\n",
    "    for i in models:\n",
    "        rd=i()\n",
    "        rd.fit(X_train,y_train)\n",
    "        if x==\"train\":\n",
    "            rd.predict(X_train)\n",
    "            mae=mean_absolute_error(y_train.values,rd.predict(X_train))\n",
    "            mse=mean_squared_error(y_train.values,rd.predict(X_train))\n",
    "            rmse=np.sqrt(mean_squared_error(y_train.values,rd.predict(X_train)))\n",
    "            mape=(((abs(y_train.values-rd.predict(X_train))/y_train.values)*100).sum())*(1/y_train.shape[0])\n",
    "            rsquare=r2_score(y_train.values,rd.predict(X_train))\n",
    "            validation_table.append([i,mae,mse,rmse,mape,rsquare])\n",
    "        #validation_table=pd.DataFrame(validation_table_train)\n",
    "        #validation_table.columns=[\"model name\",\"mae\",\"mse\",\"rmse\",\"mape\",\"rsquare\"]\n",
    "        else:\n",
    "            rd.predict(X_test)\n",
    "            mae=mean_absolute_error(y_test.values,rd.predict(X_test))\n",
    "            mse=mean_squared_error(y_test.values,rd.predict(X_test))\n",
    "            rmse=np.sqrt(mean_squared_error(y_test.values,rd.predict(X_test)))\n",
    "            mape=(((abs(y_test.values-rd.predict(X_test))/y_test.values)*100).sum())*(1/y_test.shape[0])\n",
    "            rsquare=r2_score(y_test.values,rd.predict(X_test))\n",
    "            validation_table.append([i,mae,mse,rmse,mape,rsquare])\n",
    "            \n",
    "    validation_table=pd.DataFrame(validation_table)\n",
    "    validation_table.columns=[\"model name\",\"mae\",\"mse\",\"rmse\",\"mape\",\"rsquare\"]\n",
    "    return validation_table"
   ]
  },
  {
   "cell_type": "code",
   "execution_count": 113,
   "id": "d0ecee53",
   "metadata": {},
   "outputs": [
    {
     "data": {
      "text/html": [
       "<div>\n",
       "<style scoped>\n",
       "    .dataframe tbody tr th:only-of-type {\n",
       "        vertical-align: middle;\n",
       "    }\n",
       "\n",
       "    .dataframe tbody tr th {\n",
       "        vertical-align: top;\n",
       "    }\n",
       "\n",
       "    .dataframe thead th {\n",
       "        text-align: right;\n",
       "    }\n",
       "</style>\n",
       "<table border=\"1\" class=\"dataframe\">\n",
       "  <thead>\n",
       "    <tr style=\"text-align: right;\">\n",
       "      <th></th>\n",
       "      <th>model name</th>\n",
       "      <th>mae</th>\n",
       "      <th>mse</th>\n",
       "      <th>rmse</th>\n",
       "      <th>mape</th>\n",
       "      <th>rsquare</th>\n",
       "    </tr>\n",
       "  </thead>\n",
       "  <tbody>\n",
       "    <tr>\n",
       "      <th>0</th>\n",
       "      <td>&lt;class 'sklearn.ensemble._forest.RandomForestR...</td>\n",
       "      <td>83.88</td>\n",
       "      <td>16618.87</td>\n",
       "      <td>128.91</td>\n",
       "      <td>4.43</td>\n",
       "      <td>0.98</td>\n",
       "    </tr>\n",
       "    <tr>\n",
       "      <th>1</th>\n",
       "      <td>&lt;class 'xgboost.sklearn.XGBRegressor'&gt;</td>\n",
       "      <td>1.03</td>\n",
       "      <td>1.93</td>\n",
       "      <td>1.39</td>\n",
       "      <td>0.05</td>\n",
       "      <td>1.00</td>\n",
       "    </tr>\n",
       "  </tbody>\n",
       "</table>\n",
       "</div>"
      ],
      "text/plain": [
       "                                          model name   mae      mse   rmse  \\\n",
       "0  <class 'sklearn.ensemble._forest.RandomForestR... 83.88 16618.87 128.91   \n",
       "1             <class 'xgboost.sklearn.XGBRegressor'>  1.03     1.93   1.39   \n",
       "\n",
       "   mape  rsquare  \n",
       "0  4.43     0.98  \n",
       "1  0.05     1.00  "
      ]
     },
     "execution_count": 113,
     "metadata": {},
     "output_type": "execute_result"
    }
   ],
   "source": [
    "val_table_xgboost_train = model_validation_xgboost('train',X_train,X_test,y_train,y_test)\n",
    "val_table_xgboost_train"
   ]
  },
  {
   "cell_type": "code",
   "execution_count": 114,
   "id": "3c5d92dc",
   "metadata": {},
   "outputs": [
    {
     "data": {
      "text/html": [
       "<div>\n",
       "<style scoped>\n",
       "    .dataframe tbody tr th:only-of-type {\n",
       "        vertical-align: middle;\n",
       "    }\n",
       "\n",
       "    .dataframe tbody tr th {\n",
       "        vertical-align: top;\n",
       "    }\n",
       "\n",
       "    .dataframe thead th {\n",
       "        text-align: right;\n",
       "    }\n",
       "</style>\n",
       "<table border=\"1\" class=\"dataframe\">\n",
       "  <thead>\n",
       "    <tr style=\"text-align: right;\">\n",
       "      <th></th>\n",
       "      <th>model name</th>\n",
       "      <th>mae</th>\n",
       "      <th>mse</th>\n",
       "      <th>rmse</th>\n",
       "      <th>mape</th>\n",
       "      <th>rsquare</th>\n",
       "    </tr>\n",
       "  </thead>\n",
       "  <tbody>\n",
       "    <tr>\n",
       "      <th>0</th>\n",
       "      <td>&lt;class 'sklearn.ensemble._forest.RandomForestR...</td>\n",
       "      <td>316.69</td>\n",
       "      <td>250862.48</td>\n",
       "      <td>500.86</td>\n",
       "      <td>19.84</td>\n",
       "      <td>0.82</td>\n",
       "    </tr>\n",
       "    <tr>\n",
       "      <th>1</th>\n",
       "      <td>&lt;class 'xgboost.sklearn.XGBRegressor'&gt;</td>\n",
       "      <td>290.38</td>\n",
       "      <td>194813.15</td>\n",
       "      <td>441.38</td>\n",
       "      <td>14.05</td>\n",
       "      <td>0.86</td>\n",
       "    </tr>\n",
       "  </tbody>\n",
       "</table>\n",
       "</div>"
      ],
      "text/plain": [
       "                                          model name    mae       mse   rmse  \\\n",
       "0  <class 'sklearn.ensemble._forest.RandomForestR... 316.69 250862.48 500.86   \n",
       "1             <class 'xgboost.sklearn.XGBRegressor'> 290.38 194813.15 441.38   \n",
       "\n",
       "   mape  rsquare  \n",
       "0 19.84     0.82  \n",
       "1 14.05     0.86  "
      ]
     },
     "execution_count": 114,
     "metadata": {},
     "output_type": "execute_result"
    }
   ],
   "source": [
    "val_table_xgboost_test = model_validation_xgboost('test',X_train,X_test,y_train,y_test)\n",
    "val_table_xgboost_test"
   ]
  },
  {
   "cell_type": "code",
   "execution_count": 115,
   "id": "d14b88c4",
   "metadata": {},
   "outputs": [],
   "source": [
    "def hyperParameterTuning_xgboost(X_train, y_train):\n",
    "    \n",
    "    param_tuning = {\n",
    "        'learning_rate': [0.01,0.05,0.1],\n",
    "        'max_depth': [3, 5, 7, 10],\n",
    "        'min_child_weight': [1, 3, 5],\n",
    "        'subsample': [0.3,0.5,0.7],\n",
    "        'colsample_bytree': [0.3,0.5,0.7],\n",
    "        'n_estimators' : [int(x) for x in np.linspace(start = 10, stop = 90, num = 5)],\n",
    "        'objective': ['reg:squarederror']\n",
    "    }\n",
    "    print(param_tuning)\n",
    "    xgb_model = XGBRegressor()\n",
    "\n",
    "    gsearch = GridSearchCV(estimator = xgb_model,\n",
    "                           param_grid = param_tuning,\n",
    "                           cv = 5,\n",
    "                           n_jobs = -1,\n",
    "                           verbose = 1)\n",
    "\n",
    "    gsearch.fit(X_train,y_train)\n",
    "\n",
    "    return gsearch.best_params_"
   ]
  },
  {
   "cell_type": "code",
   "execution_count": 116,
   "id": "eff7f87b",
   "metadata": {},
   "outputs": [
    {
     "name": "stdout",
     "output_type": "stream",
     "text": [
      "{'learning_rate': [0.01, 0.05, 0.1], 'max_depth': [3, 5, 7, 10], 'min_child_weight': [1, 3, 5], 'subsample': [0.3, 0.5, 0.7], 'colsample_bytree': [0.3, 0.5, 0.7], 'n_estimators': [10, 30, 50, 70, 90], 'objective': ['reg:squarederror']}\n",
      "Fitting 5 folds for each of 1620 candidates, totalling 8100 fits\n"
     ]
    },
    {
     "data": {
      "text/plain": [
       "{'colsample_bytree': 0.7,\n",
       " 'learning_rate': 0.05,\n",
       " 'max_depth': 10,\n",
       " 'min_child_weight': 1,\n",
       " 'n_estimators': 90,\n",
       " 'objective': 'reg:squarederror',\n",
       " 'subsample': 0.5}"
      ]
     },
     "execution_count": 116,
     "metadata": {},
     "output_type": "execute_result"
    }
   ],
   "source": [
    "hyperParameterTuning_xgboost(X_train, y_train)"
   ]
  },
  {
   "cell_type": "code",
   "execution_count": 117,
   "id": "060f59eb",
   "metadata": {},
   "outputs": [],
   "source": [
    "xgb_model = XGBRegressor(\n",
    "        objective = 'reg:squarederror',\n",
    "        colsample_bytree = 0.7,\n",
    "        learning_rate = 0.1,\n",
    "        max_depth = 10,\n",
    "        min_child_weight = 1,\n",
    "        n_estimators = 30,\n",
    "        subsample = 0.7)"
   ]
  },
  {
   "cell_type": "code",
   "execution_count": 122,
   "id": "389d098c",
   "metadata": {},
   "outputs": [
    {
     "name": "stderr",
     "output_type": "stream",
     "text": [
      "C:\\Users\\venkateshwarar\\Anaconda3\\lib\\site-packages\\xgboost\\sklearn.py:793: UserWarning: `early_stopping_rounds` in `fit` method is deprecated for better compatibility with scikit-learn, use `early_stopping_rounds` in constructor or`set_params` instead.\n",
      "  warnings.warn(\n"
     ]
    },
    {
     "data": {
      "text/plain": [
       "XGBRegressor(base_score=0.5, booster='gbtree', callbacks=None,\n",
       "             colsample_bylevel=1, colsample_bynode=1, colsample_bytree=0.7,\n",
       "             early_stopping_rounds=None, enable_categorical=False,\n",
       "             eval_metric=None, gamma=0, gpu_id=-1, grow_policy='depthwise',\n",
       "             importance_type=None, interaction_constraints='',\n",
       "             learning_rate=0.1, max_bin=256, max_cat_to_onehot=4,\n",
       "             max_delta_step=0, max_depth=10, max_leaves=0, min_child_weight=1,\n",
       "             missing=nan, monotone_constraints='()', n_estimators=30, n_jobs=0,\n",
       "             num_parallel_tree=1, predictor='auto', random_state=0, reg_alpha=0,\n",
       "             reg_lambda=1, ...)"
      ]
     },
     "execution_count": 122,
     "metadata": {},
     "output_type": "execute_result"
    }
   ],
   "source": [
    "xgb_model.fit(X_train, y_train, early_stopping_rounds=5, eval_set=[(X_test,y_test)], verbose=False)"
   ]
  },
  {
   "cell_type": "code",
   "execution_count": 133,
   "id": "e94d39c7",
   "metadata": {},
   "outputs": [
    {
     "name": "stdout",
     "output_type": "stream",
     "text": [
      "Train Accuracy: 0.9352936777585095\n",
      "Test Accuracy: 0.8502886893660478\n"
     ]
    }
   ],
   "source": [
    "print(\"Train Accuracy:\",xgb_model.score(X_train, y_train))\n",
    "print(\"Test Accuracy:\",xgb_model.score(X_test, y_test))"
   ]
  },
  {
   "cell_type": "code",
   "execution_count": 124,
   "id": "69116977",
   "metadata": {},
   "outputs": [],
   "source": [
    "def model_validation_xgboost(x,X_train,X_test,y_train,y_test):\n",
    "    validation_table=[]\n",
    "    models=[XGBRegressor]\n",
    "    for i in models:\n",
    "        rd=i(objective = 'reg:squarederror',\n",
    "            colsample_bytree = 0.7,\n",
    "            learning_rate = 0.1,\n",
    "            max_depth = 10,\n",
    "            min_child_weight = 1,\n",
    "            n_estimators = 30,\n",
    "            subsample = 0.7)               \n",
    "        rd.fit(X_train,y_train)\n",
    "        if x==\"train\":\n",
    "            rd.predict(X_train)\n",
    "            mae=mean_absolute_error(y_train.values,rd.predict(X_train))\n",
    "            mse=mean_squared_error(y_train.values,rd.predict(X_train))\n",
    "            rmse=np.sqrt(mean_squared_error(y_train.values,rd.predict(X_train)))\n",
    "            mape=(((abs(y_train.values-rd.predict(X_train))/y_train.values)*100).sum())*(1/y_train.shape[0])\n",
    "            rsquare=r2_score(y_train.values,rd.predict(X_train))\n",
    "            validation_table.append([i,mae,mse,rmse,mape,rsquare])\n",
    "        #validation_table=pd.DataFrame(validation_table_train)\n",
    "        #validation_table.columns=[\"model name\",\"mae\",\"mse\",\"rmse\",\"mape\",\"rsquare\"]\n",
    "        else:\n",
    "            rd.predict(X_test)\n",
    "            mae=mean_absolute_error(y_test.values,rd.predict(X_test))\n",
    "            mse=mean_squared_error(y_test.values,rd.predict(X_test))\n",
    "            rmse=np.sqrt(mean_squared_error(y_test.values,rd.predict(X_test)))\n",
    "            mape=(((abs(y_test.values-rd.predict(X_test))/y_test.values)*100).sum())*(1/y_test.shape[0])\n",
    "            rsquare=r2_score(y_test.values,rd.predict(X_test))\n",
    "            validation_table.append([i,mae,mse,rmse,mape,rsquare])\n",
    "            \n",
    "    validation_table=pd.DataFrame(validation_table)\n",
    "    validation_table.columns=[\"model name\",\"mae\",\"mse\",\"rmse\",\"mape\",\"rsquare\"]\n",
    "    return validation_table"
   ]
  },
  {
   "cell_type": "code",
   "execution_count": 125,
   "id": "f2d4cd00",
   "metadata": {},
   "outputs": [
    {
     "data": {
      "text/html": [
       "<div>\n",
       "<style scoped>\n",
       "    .dataframe tbody tr th:only-of-type {\n",
       "        vertical-align: middle;\n",
       "    }\n",
       "\n",
       "    .dataframe tbody tr th {\n",
       "        vertical-align: top;\n",
       "    }\n",
       "\n",
       "    .dataframe thead th {\n",
       "        text-align: right;\n",
       "    }\n",
       "</style>\n",
       "<table border=\"1\" class=\"dataframe\">\n",
       "  <thead>\n",
       "    <tr style=\"text-align: right;\">\n",
       "      <th></th>\n",
       "      <th>model name</th>\n",
       "      <th>mae</th>\n",
       "      <th>mse</th>\n",
       "      <th>rmse</th>\n",
       "      <th>mape</th>\n",
       "      <th>rsquare</th>\n",
       "    </tr>\n",
       "  </thead>\n",
       "  <tbody>\n",
       "    <tr>\n",
       "      <th>0</th>\n",
       "      <td>&lt;class 'xgboost.sklearn.XGBRegressor'&gt;</td>\n",
       "      <td>169.83</td>\n",
       "      <td>55755.67</td>\n",
       "      <td>236.13</td>\n",
       "      <td>6.59</td>\n",
       "      <td>0.94</td>\n",
       "    </tr>\n",
       "  </tbody>\n",
       "</table>\n",
       "</div>"
      ],
      "text/plain": [
       "                               model name    mae      mse   rmse  mape  \\\n",
       "0  <class 'xgboost.sklearn.XGBRegressor'> 169.83 55755.67 236.13  6.59   \n",
       "\n",
       "   rsquare  \n",
       "0     0.94  "
      ]
     },
     "execution_count": 125,
     "metadata": {},
     "output_type": "execute_result"
    }
   ],
   "source": [
    "val_table_xgboost_train = model_validation_xgboost('train',X_train,X_test,y_train,y_test)\n",
    "val_table_xgboost_train"
   ]
  },
  {
   "cell_type": "code",
   "execution_count": 126,
   "id": "253f6139",
   "metadata": {},
   "outputs": [
    {
     "data": {
      "text/html": [
       "<div>\n",
       "<style scoped>\n",
       "    .dataframe tbody tr th:only-of-type {\n",
       "        vertical-align: middle;\n",
       "    }\n",
       "\n",
       "    .dataframe tbody tr th {\n",
       "        vertical-align: top;\n",
       "    }\n",
       "\n",
       "    .dataframe thead th {\n",
       "        text-align: right;\n",
       "    }\n",
       "</style>\n",
       "<table border=\"1\" class=\"dataframe\">\n",
       "  <thead>\n",
       "    <tr style=\"text-align: right;\">\n",
       "      <th></th>\n",
       "      <th>model name</th>\n",
       "      <th>mae</th>\n",
       "      <th>mse</th>\n",
       "      <th>rmse</th>\n",
       "      <th>mape</th>\n",
       "      <th>rsquare</th>\n",
       "    </tr>\n",
       "  </thead>\n",
       "  <tbody>\n",
       "    <tr>\n",
       "      <th>0</th>\n",
       "      <td>&lt;class 'xgboost.sklearn.XGBRegressor'&gt;</td>\n",
       "      <td>295.95</td>\n",
       "      <td>206044.71</td>\n",
       "      <td>453.92</td>\n",
       "      <td>14.22</td>\n",
       "      <td>0.85</td>\n",
       "    </tr>\n",
       "  </tbody>\n",
       "</table>\n",
       "</div>"
      ],
      "text/plain": [
       "                               model name    mae       mse   rmse  mape  \\\n",
       "0  <class 'xgboost.sklearn.XGBRegressor'> 295.95 206044.71 453.92 14.22   \n",
       "\n",
       "   rsquare  \n",
       "0     0.85  "
      ]
     },
     "execution_count": 126,
     "metadata": {},
     "output_type": "execute_result"
    }
   ],
   "source": [
    "val_table_xgboost_test = model_validation_xgboost('test',X_train,X_test,y_train,y_test)\n",
    "val_table_xgboost_test"
   ]
  },
  {
   "cell_type": "code",
   "execution_count": 127,
   "id": "852d4694",
   "metadata": {},
   "outputs": [],
   "source": [
    "# save the model to disk\n",
    "filename = 'RF_tuned2.sav'\n",
    "pickle.dump(rf_tuned, open(filename, 'wb'))"
   ]
  },
  {
   "cell_type": "code",
   "execution_count": 128,
   "id": "5ab1b365",
   "metadata": {},
   "outputs": [],
   "source": [
    "def predictions_on_future_data(future_data):\n",
    "    pred_data = future_data[['Week No', 'Year', 'Mortgage Rate', 'Treasury Yield',\n",
    "       'Unemployment Rate', 'GDP', 'Consumer Confidence Index',\n",
    "       'Disposable Income']]\n",
    "    filename = 'RF_tuned.sav'\n",
    "    rf_model = pickle.load(open(filename, 'rb'))\n",
    "    y_pred = rf_model.predict(pred_data)\n",
    "    print(y_pred)\n",
    "    future_data['Refinance_Pred'] = y_pred\n",
    "    \n",
    "    return future_data"
   ]
  },
  {
   "cell_type": "code",
   "execution_count": 129,
   "id": "238db87c",
   "metadata": {},
   "outputs": [
    {
     "name": "stdout",
     "output_type": "stream",
     "text": [
      "[829.75 829.75 829.75 829.75 829.75 829.75 829.75 829.75 829.75 829.75\n",
      " 829.75 829.75 829.75]\n"
     ]
    },
    {
     "name": "stderr",
     "output_type": "stream",
     "text": [
      "C:\\Users\\venkateshwarar\\AppData\\Local\\Temp\\ipykernel_7724\\1062656913.py:9: SettingWithCopyWarning: \n",
      "A value is trying to be set on a copy of a slice from a DataFrame.\n",
      "Try using .loc[row_indexer,col_indexer] = value instead\n",
      "\n",
      "See the caveats in the documentation: https://pandas.pydata.org/pandas-docs/stable/user_guide/indexing.html#returning-a-view-versus-a-copy\n",
      "  future_data['Refinance_Pred'] = y_pred\n"
     ]
    }
   ],
   "source": [
    "preds_tuned1 = predictions_on_future_data(future_data)"
   ]
  },
  {
   "cell_type": "code",
   "execution_count": 130,
   "id": "665d17bf",
   "metadata": {},
   "outputs": [
    {
     "name": "stdout",
     "output_type": "stream",
     "text": [
      "[1048.25       1048.25       1048.25       1048.25       1048.25\n",
      " 1191.155      1252.4        1252.4        1252.4        1252.4\n",
      " 1252.4        1343.         1343.         1775.         1775.\n",
      " 1804.5        1775.         1775.         1775.         1804.5\n",
      " 1804.5        1804.5        2064.         2064.         2064.\n",
      " 2064.         1951.         1951.         1951.         2064.\n",
      " 1951.         2343.28571429 2462.75       2544.         2427.\n",
      " 2462.75       2427.         2427.         2343.28571429 2544.\n",
      " 2544.         2462.75       2544.         2343.28571429 2343.28571429\n",
      " 2462.75       2343.28571429 1968.5        2493.         2493.\n",
      " 2343.28571429 2343.28571429 1343.         2734.5        2734.5\n",
      " 2734.5        2734.5        2734.5        2784.94       3064.71428571\n",
      " 2860.6        3064.71428571 3064.71428571 2427.         3064.71428571\n",
      " 4064.         4251.75       4251.75       4251.75       4251.75\n",
      " 3828.25       3828.25       3276.         3166.25       3662.4\n",
      " 3662.4        3276.         3276.         3166.25       3828.25\n",
      " 3828.25       3166.25       3166.25       3166.25       3828.25\n",
      " 3276.         3073.25       3073.25       3073.25       3073.25\n",
      " 3073.25       2710.         2710.         2710.         2710.\n",
      " 2710.         3673.5        3673.5        3673.5        3673.5\n",
      " 3673.5        2757.5        2757.5        2757.5        2757.5\n",
      " 4064.         4064.         4064.         4064.         3662.4\n",
      " 3662.4        3662.4        3662.4        2960.5        2648.5\n",
      " 2462.75       2462.75       2462.75       2462.75       2648.5\n",
      " 2648.5        2648.5        2860.6        2860.6        2860.6\n",
      " 2860.6        2503.66666667 2503.66666667 2503.66666667 2503.66666667\n",
      " 2503.66666667 3064.71428571 2503.66666667 2960.5        2960.5\n",
      " 2960.5        3064.71428571 2886.83333333 2886.83333333 2886.83333333\n",
      " 3064.71428571 2886.83333333 2886.83333333 2886.83333333 2886.83333333\n",
      " 2764.         2764.         2764.         2764.         3064.71428571\n",
      " 2764.         1968.5        1968.5        2493.         2493.\n",
      " 1968.5        1652.         2484.95       2490.5        2490.5\n",
      " 2490.5        2490.5        1652.         1652.         1652.\n",
      " 1343.         1343.         1343.         1343.         1343.\n",
      "  671.33333333  671.33333333  671.33333333  671.33333333  782.\n",
      "  782.          782.          782.          782.          671.33333333\n",
      "  671.33333333  671.33333333  671.33333333  671.33333333  829.75\n",
      "  829.75        829.75        829.75        829.75        829.75\n",
      "  829.75        829.75        829.75        829.75        829.75\n",
      "  829.75        829.75        829.75        829.75        829.75\n",
      "  829.75      ]\n"
     ]
    }
   ],
   "source": [
    "# predictions on entire data\n",
    "preds_tuned = predictions_on_future_data(d1)"
   ]
  },
  {
   "cell_type": "code",
   "execution_count": 131,
   "id": "367f4072",
   "metadata": {},
   "outputs": [],
   "source": [
    "preds_tuned1.to_excel(\"xgb_predictions_on_refinance_future_data2.xlsx\", index=False)"
   ]
  },
  {
   "cell_type": "code",
   "execution_count": 132,
   "id": "4ae72a69",
   "metadata": {},
   "outputs": [],
   "source": [
    "preds_tuned.to_excel(\"xgb_predictions_on_refinance_entire_data3.xlsx\", index=False)"
   ]
  },
  {
   "cell_type": "code",
   "execution_count": null,
   "id": "ddb672bf",
   "metadata": {},
   "outputs": [],
   "source": []
  },
  {
   "cell_type": "code",
   "execution_count": null,
   "id": "048e1e5e",
   "metadata": {},
   "outputs": [],
   "source": []
  },
  {
   "cell_type": "code",
   "execution_count": null,
   "id": "f26200fd",
   "metadata": {},
   "outputs": [],
   "source": []
  },
  {
   "cell_type": "code",
   "execution_count": null,
   "id": "18f1160d",
   "metadata": {},
   "outputs": [],
   "source": []
  }
 ],
 "metadata": {
  "kernelspec": {
   "display_name": "Python 3 (ipykernel)",
   "language": "python",
   "name": "python3"
  },
  "language_info": {
   "codemirror_mode": {
    "name": "ipython",
    "version": 3
   },
   "file_extension": ".py",
   "mimetype": "text/x-python",
   "name": "python",
   "nbconvert_exporter": "python",
   "pygments_lexer": "ipython3",
   "version": "3.7.13"
  }
 },
 "nbformat": 4,
 "nbformat_minor": 5
}
